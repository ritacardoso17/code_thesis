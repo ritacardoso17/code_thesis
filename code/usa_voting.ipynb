{
 "cells": [
  {
   "cell_type": "code",
   "execution_count": 4,
   "metadata": {},
   "outputs": [],
   "source": [
    "# Import required libraries\n",
    "from surprise import Reader, Dataset, accuracy\n",
    "from surprise.model_selection import train_test_split, cross_validate, LeaveOneOut\n",
    "from surprise import SVD, SVDpp, SlopeOne, NMF, NormalPredictor\n",
    "from surprise import KNNBaseline, KNNBasic, KNNWithMeans, KNNWithZScore\n",
    "from surprise import BaselineOnly, CoClustering\n",
    "# import recmetrics as recmetrics ---> https://morioh.com/p/7208a4c1946d\n",
    "\n",
    "import sklearn.metrics as metrics\n",
    "from sklearn.preprocessing import OneHotEncoder, LabelEncoder\n",
    "from sklearn.metrics import precision_recall_fscore_support\n",
    "from sklearn.metrics import accuracy_score, precision_score, recall_score, f1_score\n",
    "from sklearn.metrics import confusion_matrix\n",
    "import seaborn as sns\n",
    "\n",
    "\n",
    "import numpy as np\n",
    "import pandas as pd\n",
    "import matplotlib.pyplot as plt\n",
    "\n",
    "from plotly.offline import init_notebook_mode, plot, iplot\n",
    "import plotly.graph_objs as go\n",
    "\n",
    "##csv usados\n",
    "df_voting = pd.read_csv(\"../data/usa/HS117_votes.csv\", sep=',')\n",
    "df_members = pd.read_csv(\"../data/usa/HS117_members.csv\", sep=',')"
   ]
  },
  {
   "cell_type": "code",
   "execution_count": 5,
   "metadata": {},
   "outputs": [],
   "source": [
    "def evaluate_algorithms_binary(trainset, testset, algorithms):\n",
    "    \"\"\"\n",
    "    Evaluate a list of algorithms on a given dataset using a train/test split with binary ratings.\n",
    "    \"\"\"\n",
    "    # Initialize dictionary to store results\n",
    "    results = {}\n",
    "    \n",
    "    # Iterate over all algorithms\n",
    "    for algorithm in algorithms:\n",
    "        # Train the algorithm on the training set\n",
    "        algorithm.fit(trainset)\n",
    "            \n",
    "        # Test the algorithm on the test set\n",
    "        predictions = algorithm.test(testset)\n",
    "        \n",
    "         # Calculate evaluation metrics\n",
    "        rmse = accuracy.rmse(predictions)\n",
    "        mae = accuracy.mae(predictions)\n",
    "        \n",
    "        # Convert the predicted ratings to binary values (0 or 1)\n",
    "        binary_predictions = [1 if p.est >= 0.5 else 0 for p in predictions]\n",
    "        binary_true_ratings = [1 if p.r_ui >= 0.5 else 0 for p in predictions]\n",
    "    \n",
    "        # Calculate evaluation metrics\n",
    "        acc = accuracy_score(binary_true_ratings, binary_predictions)\n",
    "        precision, recall, f1_score, _ = precision_recall_fscore_support(binary_true_ratings, binary_predictions, average='binary')\n",
    "        \n",
    "        # Generate the confusion matrix\n",
    "        tn, fp, fn, tp = confusion_matrix(binary_true_ratings, binary_predictions).ravel()\n",
    "        matrix = pd.DataFrame({'Actual 0': [tn, fn], 'Actual 1': [fp, tp]}, index=['Predicted 0', 'Predicted 1'])\n",
    "        \n",
    "        # Store results in dictionary\n",
    "        results[algorithm.__class__.__name__] = {\n",
    "            'accuracy': acc,\n",
    "            'precision': precision,\n",
    "            'recall': recall,\n",
    "            'f1_score': f1_score,\n",
    "            'test_rmse': rmse,\n",
    "            'test_mae': mae,\n",
    "        }\n",
    "    \n",
    "    # Convert dictionary to DataFrame and sort by F1 score\n",
    "    results = pd.DataFrame.from_dict(results, orient='index')\n",
    "    # matrix = pd.DataFrame.from_dict(matrix, orient=\"index\")\n",
    "    results = results.sort_values('f1_score', ascending=False)\n",
    "    \n",
    "    return results,matrix"
   ]
  },
  {
   "attachments": {},
   "cell_type": "markdown",
   "metadata": {},
   "source": [
    "df_voting has 6 columns:\n",
    "    congress: number of the congress that this member's row\n",
    "    chamber: House/Senate/President\n",
    "    rollnumber: the first rollcall of each congress ~ initial roll call vote that takes place at the beginning of a new session of a legislative body, such as a congress or parliament\n",
    "    icpsr: id code identifying each member (note: some members can have more than one icpsr - this can occur when member switch parties or becomes president)\n",
    "    cast_code: 1-9 - how it voted\n",
    "    prob: estimated probability of the member making the vote as recorded (BASED ON NOMINATE - variables with 2 dimensions in df_members)"
   ]
  },
  {
   "cell_type": "code",
   "execution_count": 6,
   "metadata": {},
   "outputs": [
    {
     "data": {
      "text/html": [
       "<div>\n",
       "<style scoped>\n",
       "    .dataframe tbody tr th:only-of-type {\n",
       "        vertical-align: middle;\n",
       "    }\n",
       "\n",
       "    .dataframe tbody tr th {\n",
       "        vertical-align: top;\n",
       "    }\n",
       "\n",
       "    .dataframe thead th {\n",
       "        text-align: right;\n",
       "    }\n",
       "</style>\n",
       "<table border=\"1\" class=\"dataframe\">\n",
       "  <thead>\n",
       "    <tr style=\"text-align: right;\">\n",
       "      <th></th>\n",
       "      <th>congress</th>\n",
       "      <th>chamber</th>\n",
       "      <th>rollnumber</th>\n",
       "      <th>icpsr</th>\n",
       "      <th>cast_code</th>\n",
       "      <th>prob</th>\n",
       "    </tr>\n",
       "  </thead>\n",
       "  <tbody>\n",
       "    <tr>\n",
       "      <th>0</th>\n",
       "      <td>117</td>\n",
       "      <td>House</td>\n",
       "      <td>1</td>\n",
       "      <td>14066.0</td>\n",
       "      <td>6</td>\n",
       "      <td>100.0</td>\n",
       "    </tr>\n",
       "    <tr>\n",
       "      <th>1</th>\n",
       "      <td>117</td>\n",
       "      <td>House</td>\n",
       "      <td>1</td>\n",
       "      <td>14854.0</td>\n",
       "      <td>6</td>\n",
       "      <td>100.0</td>\n",
       "    </tr>\n",
       "    <tr>\n",
       "      <th>2</th>\n",
       "      <td>117</td>\n",
       "      <td>House</td>\n",
       "      <td>1</td>\n",
       "      <td>14863.0</td>\n",
       "      <td>6</td>\n",
       "      <td>99.7</td>\n",
       "    </tr>\n",
       "    <tr>\n",
       "      <th>3</th>\n",
       "      <td>117</td>\n",
       "      <td>House</td>\n",
       "      <td>1</td>\n",
       "      <td>14873.0</td>\n",
       "      <td>1</td>\n",
       "      <td>100.0</td>\n",
       "    </tr>\n",
       "    <tr>\n",
       "      <th>4</th>\n",
       "      <td>117</td>\n",
       "      <td>House</td>\n",
       "      <td>1</td>\n",
       "      <td>15019.0</td>\n",
       "      <td>1</td>\n",
       "      <td>92.8</td>\n",
       "    </tr>\n",
       "    <tr>\n",
       "      <th>...</th>\n",
       "      <td>...</td>\n",
       "      <td>...</td>\n",
       "      <td>...</td>\n",
       "      <td>...</td>\n",
       "      <td>...</td>\n",
       "      <td>...</td>\n",
       "    </tr>\n",
       "    <tr>\n",
       "      <th>524118</th>\n",
       "      <td>117</td>\n",
       "      <td>Senate</td>\n",
       "      <td>949</td>\n",
       "      <td>42105.0</td>\n",
       "      <td>1</td>\n",
       "      <td>100.0</td>\n",
       "    </tr>\n",
       "    <tr>\n",
       "      <th>524119</th>\n",
       "      <td>117</td>\n",
       "      <td>Senate</td>\n",
       "      <td>949</td>\n",
       "      <td>49300.0</td>\n",
       "      <td>1</td>\n",
       "      <td>100.0</td>\n",
       "    </tr>\n",
       "    <tr>\n",
       "      <th>524120</th>\n",
       "      <td>117</td>\n",
       "      <td>Senate</td>\n",
       "      <td>949</td>\n",
       "      <td>49308.0</td>\n",
       "      <td>1</td>\n",
       "      <td>100.0</td>\n",
       "    </tr>\n",
       "    <tr>\n",
       "      <th>524121</th>\n",
       "      <td>117</td>\n",
       "      <td>Senate</td>\n",
       "      <td>949</td>\n",
       "      <td>49703.0</td>\n",
       "      <td>1</td>\n",
       "      <td>99.9</td>\n",
       "    </tr>\n",
       "    <tr>\n",
       "      <th>524122</th>\n",
       "      <td>117</td>\n",
       "      <td>Senate</td>\n",
       "      <td>949</td>\n",
       "      <td>94659.0</td>\n",
       "      <td>1</td>\n",
       "      <td>54.0</td>\n",
       "    </tr>\n",
       "  </tbody>\n",
       "</table>\n",
       "<p>524123 rows × 6 columns</p>\n",
       "</div>"
      ],
      "text/plain": [
       "        congress chamber  rollnumber    icpsr  cast_code   prob\n",
       "0            117   House           1  14066.0          6  100.0\n",
       "1            117   House           1  14854.0          6  100.0\n",
       "2            117   House           1  14863.0          6   99.7\n",
       "3            117   House           1  14873.0          1  100.0\n",
       "4            117   House           1  15019.0          1   92.8\n",
       "...          ...     ...         ...      ...        ...    ...\n",
       "524118       117  Senate         949  42105.0          1  100.0\n",
       "524119       117  Senate         949  49300.0          1  100.0\n",
       "524120       117  Senate         949  49308.0          1  100.0\n",
       "524121       117  Senate         949  49703.0          1   99.9\n",
       "524122       117  Senate         949  94659.0          1   54.0\n",
       "\n",
       "[524123 rows x 6 columns]"
      ]
     },
     "execution_count": 6,
     "metadata": {},
     "output_type": "execute_result"
    }
   ],
   "source": [
    "df_voting"
   ]
  },
  {
   "attachments": {},
   "cell_type": "markdown",
   "metadata": {},
   "source": [
    "\"We present two main estimates of a legislator's ideology: NOMINATE and Nokken-Poole. NOMINATE estimates assume that members occupy a static ideological position across the course of their career. Nokken-Poole estimates assume that each congress is completely separate for the purposes of estimating a member's ideology. We expect that most users of our data will primarily make use of the nominate_dim1 field, which reports the first dimension (often interpreted as economic liberalism-conservatism) of members as estimated by NOMINATE\""
   ]
  },
  {
   "attachments": {},
   "cell_type": "markdown",
   "metadata": {},
   "source": [
    "100: Democratic Party\n",
    "200: Republican Party\n",
    ".\n",
    "328: Independent"
   ]
  },
  {
   "cell_type": "code",
   "execution_count": 7,
   "metadata": {},
   "outputs": [
    {
     "data": {
      "text/html": [
       "<div>\n",
       "<style scoped>\n",
       "    .dataframe tbody tr th:only-of-type {\n",
       "        vertical-align: middle;\n",
       "    }\n",
       "\n",
       "    .dataframe tbody tr th {\n",
       "        vertical-align: top;\n",
       "    }\n",
       "\n",
       "    .dataframe thead th {\n",
       "        text-align: right;\n",
       "    }\n",
       "</style>\n",
       "<table border=\"1\" class=\"dataframe\">\n",
       "  <thead>\n",
       "    <tr style=\"text-align: right;\">\n",
       "      <th></th>\n",
       "      <th>congress</th>\n",
       "      <th>chamber</th>\n",
       "      <th>icpsr</th>\n",
       "      <th>state_icpsr</th>\n",
       "      <th>district_code</th>\n",
       "      <th>state_abbrev</th>\n",
       "      <th>party_code</th>\n",
       "      <th>occupancy</th>\n",
       "      <th>last_means</th>\n",
       "      <th>bioname</th>\n",
       "      <th>...</th>\n",
       "      <th>died</th>\n",
       "      <th>nominate_dim1</th>\n",
       "      <th>nominate_dim2</th>\n",
       "      <th>nominate_log_likelihood</th>\n",
       "      <th>nominate_geo_mean_probability</th>\n",
       "      <th>nominate_number_of_votes</th>\n",
       "      <th>nominate_number_of_errors</th>\n",
       "      <th>conditional</th>\n",
       "      <th>nokken_poole_dim1</th>\n",
       "      <th>nokken_poole_dim2</th>\n",
       "    </tr>\n",
       "  </thead>\n",
       "  <tbody>\n",
       "    <tr>\n",
       "      <th>0</th>\n",
       "      <td>117</td>\n",
       "      <td>President</td>\n",
       "      <td>99912</td>\n",
       "      <td>99</td>\n",
       "      <td>0</td>\n",
       "      <td>USA</td>\n",
       "      <td>200</td>\n",
       "      <td>0.0</td>\n",
       "      <td>0.0</td>\n",
       "      <td>TRUMP, Donald John</td>\n",
       "      <td>...</td>\n",
       "      <td>NaN</td>\n",
       "      <td>0.403</td>\n",
       "      <td>0.162</td>\n",
       "      <td>NaN</td>\n",
       "      <td>NaN</td>\n",
       "      <td>NaN</td>\n",
       "      <td>NaN</td>\n",
       "      <td>NaN</td>\n",
       "      <td>NaN</td>\n",
       "      <td>NaN</td>\n",
       "    </tr>\n",
       "    <tr>\n",
       "      <th>1</th>\n",
       "      <td>117</td>\n",
       "      <td>President</td>\n",
       "      <td>99913</td>\n",
       "      <td>99</td>\n",
       "      <td>0</td>\n",
       "      <td>USA</td>\n",
       "      <td>100</td>\n",
       "      <td>0.0</td>\n",
       "      <td>0.0</td>\n",
       "      <td>BIDEN, Joseph Robinette, Jr.</td>\n",
       "      <td>...</td>\n",
       "      <td>NaN</td>\n",
       "      <td>-0.320</td>\n",
       "      <td>0.283</td>\n",
       "      <td>NaN</td>\n",
       "      <td>NaN</td>\n",
       "      <td>NaN</td>\n",
       "      <td>NaN</td>\n",
       "      <td>NaN</td>\n",
       "      <td>NaN</td>\n",
       "      <td>NaN</td>\n",
       "    </tr>\n",
       "    <tr>\n",
       "      <th>2</th>\n",
       "      <td>117</td>\n",
       "      <td>House</td>\n",
       "      <td>20301</td>\n",
       "      <td>41</td>\n",
       "      <td>3</td>\n",
       "      <td>AL</td>\n",
       "      <td>200</td>\n",
       "      <td>NaN</td>\n",
       "      <td>NaN</td>\n",
       "      <td>ROGERS, Mike Dennis</td>\n",
       "      <td>...</td>\n",
       "      <td>NaN</td>\n",
       "      <td>0.362</td>\n",
       "      <td>0.462</td>\n",
       "      <td>-87.32931</td>\n",
       "      <td>0.89767</td>\n",
       "      <td>809.0</td>\n",
       "      <td>31.0</td>\n",
       "      <td>NaN</td>\n",
       "      <td>0.419</td>\n",
       "      <td>0.537</td>\n",
       "    </tr>\n",
       "    <tr>\n",
       "      <th>3</th>\n",
       "      <td>117</td>\n",
       "      <td>House</td>\n",
       "      <td>21102</td>\n",
       "      <td>41</td>\n",
       "      <td>7</td>\n",
       "      <td>AL</td>\n",
       "      <td>100</td>\n",
       "      <td>NaN</td>\n",
       "      <td>NaN</td>\n",
       "      <td>SEWELL, Terri</td>\n",
       "      <td>...</td>\n",
       "      <td>NaN</td>\n",
       "      <td>-0.395</td>\n",
       "      <td>0.398</td>\n",
       "      <td>-22.46170</td>\n",
       "      <td>0.97317</td>\n",
       "      <td>826.0</td>\n",
       "      <td>9.0</td>\n",
       "      <td>NaN</td>\n",
       "      <td>-0.492</td>\n",
       "      <td>0.475</td>\n",
       "    </tr>\n",
       "    <tr>\n",
       "      <th>4</th>\n",
       "      <td>117</td>\n",
       "      <td>House</td>\n",
       "      <td>21193</td>\n",
       "      <td>41</td>\n",
       "      <td>5</td>\n",
       "      <td>AL</td>\n",
       "      <td>200</td>\n",
       "      <td>NaN</td>\n",
       "      <td>NaN</td>\n",
       "      <td>BROOKS, Mo</td>\n",
       "      <td>...</td>\n",
       "      <td>NaN</td>\n",
       "      <td>0.652</td>\n",
       "      <td>-0.417</td>\n",
       "      <td>-168.03035</td>\n",
       "      <td>0.81410</td>\n",
       "      <td>817.0</td>\n",
       "      <td>80.0</td>\n",
       "      <td>NaN</td>\n",
       "      <td>0.697</td>\n",
       "      <td>-0.288</td>\n",
       "    </tr>\n",
       "    <tr>\n",
       "      <th>...</th>\n",
       "      <td>...</td>\n",
       "      <td>...</td>\n",
       "      <td>...</td>\n",
       "      <td>...</td>\n",
       "      <td>...</td>\n",
       "      <td>...</td>\n",
       "      <td>...</td>\n",
       "      <td>...</td>\n",
       "      <td>...</td>\n",
       "      <td>...</td>\n",
       "      <td>...</td>\n",
       "      <td>...</td>\n",
       "      <td>...</td>\n",
       "      <td>...</td>\n",
       "      <td>...</td>\n",
       "      <td>...</td>\n",
       "      <td>...</td>\n",
       "      <td>...</td>\n",
       "      <td>...</td>\n",
       "      <td>...</td>\n",
       "      <td>...</td>\n",
       "    </tr>\n",
       "    <tr>\n",
       "      <th>554</th>\n",
       "      <td>117</td>\n",
       "      <td>Senate</td>\n",
       "      <td>40915</td>\n",
       "      <td>56</td>\n",
       "      <td>0</td>\n",
       "      <td>WV</td>\n",
       "      <td>100</td>\n",
       "      <td>NaN</td>\n",
       "      <td>NaN</td>\n",
       "      <td>MANCHIN, Joe, III</td>\n",
       "      <td>...</td>\n",
       "      <td>NaN</td>\n",
       "      <td>-0.059</td>\n",
       "      <td>0.408</td>\n",
       "      <td>-84.19666</td>\n",
       "      <td>0.90694</td>\n",
       "      <td>862.0</td>\n",
       "      <td>27.0</td>\n",
       "      <td>NaN</td>\n",
       "      <td>-0.078</td>\n",
       "      <td>0.381</td>\n",
       "    </tr>\n",
       "    <tr>\n",
       "      <th>555</th>\n",
       "      <td>117</td>\n",
       "      <td>Senate</td>\n",
       "      <td>29940</td>\n",
       "      <td>25</td>\n",
       "      <td>0</td>\n",
       "      <td>WI</td>\n",
       "      <td>100</td>\n",
       "      <td>NaN</td>\n",
       "      <td>NaN</td>\n",
       "      <td>BALDWIN, Tammy</td>\n",
       "      <td>...</td>\n",
       "      <td>NaN</td>\n",
       "      <td>-0.492</td>\n",
       "      <td>-0.135</td>\n",
       "      <td>-22.33177</td>\n",
       "      <td>0.97538</td>\n",
       "      <td>896.0</td>\n",
       "      <td>10.0</td>\n",
       "      <td>NaN</td>\n",
       "      <td>-0.467</td>\n",
       "      <td>-0.027</td>\n",
       "    </tr>\n",
       "    <tr>\n",
       "      <th>556</th>\n",
       "      <td>117</td>\n",
       "      <td>Senate</td>\n",
       "      <td>41111</td>\n",
       "      <td>25</td>\n",
       "      <td>0</td>\n",
       "      <td>WI</td>\n",
       "      <td>200</td>\n",
       "      <td>NaN</td>\n",
       "      <td>NaN</td>\n",
       "      <td>JOHNSON, Ron</td>\n",
       "      <td>...</td>\n",
       "      <td>NaN</td>\n",
       "      <td>0.626</td>\n",
       "      <td>-0.141</td>\n",
       "      <td>-138.44529</td>\n",
       "      <td>0.85018</td>\n",
       "      <td>853.0</td>\n",
       "      <td>59.0</td>\n",
       "      <td>NaN</td>\n",
       "      <td>0.617</td>\n",
       "      <td>0.035</td>\n",
       "    </tr>\n",
       "    <tr>\n",
       "      <th>557</th>\n",
       "      <td>117</td>\n",
       "      <td>Senate</td>\n",
       "      <td>20953</td>\n",
       "      <td>68</td>\n",
       "      <td>0</td>\n",
       "      <td>WY</td>\n",
       "      <td>200</td>\n",
       "      <td>NaN</td>\n",
       "      <td>NaN</td>\n",
       "      <td>LUMMIS, Cynthia M.</td>\n",
       "      <td>...</td>\n",
       "      <td>NaN</td>\n",
       "      <td>0.693</td>\n",
       "      <td>-0.347</td>\n",
       "      <td>-143.45400</td>\n",
       "      <td>0.84587</td>\n",
       "      <td>857.0</td>\n",
       "      <td>62.0</td>\n",
       "      <td>NaN</td>\n",
       "      <td>0.722</td>\n",
       "      <td>-0.361</td>\n",
       "    </tr>\n",
       "    <tr>\n",
       "      <th>558</th>\n",
       "      <td>117</td>\n",
       "      <td>Senate</td>\n",
       "      <td>40707</td>\n",
       "      <td>68</td>\n",
       "      <td>0</td>\n",
       "      <td>WY</td>\n",
       "      <td>200</td>\n",
       "      <td>NaN</td>\n",
       "      <td>NaN</td>\n",
       "      <td>BARRASSO, John A.</td>\n",
       "      <td>...</td>\n",
       "      <td>NaN</td>\n",
       "      <td>0.537</td>\n",
       "      <td>0.223</td>\n",
       "      <td>-119.88108</td>\n",
       "      <td>0.86321</td>\n",
       "      <td>815.0</td>\n",
       "      <td>44.0</td>\n",
       "      <td>NaN</td>\n",
       "      <td>0.542</td>\n",
       "      <td>0.144</td>\n",
       "    </tr>\n",
       "  </tbody>\n",
       "</table>\n",
       "<p>559 rows × 22 columns</p>\n",
       "</div>"
      ],
      "text/plain": [
       "     congress    chamber  icpsr  state_icpsr  district_code state_abbrev  \\\n",
       "0         117  President  99912           99              0          USA   \n",
       "1         117  President  99913           99              0          USA   \n",
       "2         117      House  20301           41              3           AL   \n",
       "3         117      House  21102           41              7           AL   \n",
       "4         117      House  21193           41              5           AL   \n",
       "..        ...        ...    ...          ...            ...          ...   \n",
       "554       117     Senate  40915           56              0           WV   \n",
       "555       117     Senate  29940           25              0           WI   \n",
       "556       117     Senate  41111           25              0           WI   \n",
       "557       117     Senate  20953           68              0           WY   \n",
       "558       117     Senate  40707           68              0           WY   \n",
       "\n",
       "     party_code  occupancy  last_means                       bioname  ...  \\\n",
       "0           200        0.0         0.0            TRUMP, Donald John  ...   \n",
       "1           100        0.0         0.0  BIDEN, Joseph Robinette, Jr.  ...   \n",
       "2           200        NaN         NaN           ROGERS, Mike Dennis  ...   \n",
       "3           100        NaN         NaN                 SEWELL, Terri  ...   \n",
       "4           200        NaN         NaN                    BROOKS, Mo  ...   \n",
       "..          ...        ...         ...                           ...  ...   \n",
       "554         100        NaN         NaN             MANCHIN, Joe, III  ...   \n",
       "555         100        NaN         NaN                BALDWIN, Tammy  ...   \n",
       "556         200        NaN         NaN                  JOHNSON, Ron  ...   \n",
       "557         200        NaN         NaN            LUMMIS, Cynthia M.  ...   \n",
       "558         200        NaN         NaN             BARRASSO, John A.  ...   \n",
       "\n",
       "    died  nominate_dim1  nominate_dim2  nominate_log_likelihood  \\\n",
       "0    NaN          0.403          0.162                      NaN   \n",
       "1    NaN         -0.320          0.283                      NaN   \n",
       "2    NaN          0.362          0.462                -87.32931   \n",
       "3    NaN         -0.395          0.398                -22.46170   \n",
       "4    NaN          0.652         -0.417               -168.03035   \n",
       "..   ...            ...            ...                      ...   \n",
       "554  NaN         -0.059          0.408                -84.19666   \n",
       "555  NaN         -0.492         -0.135                -22.33177   \n",
       "556  NaN          0.626         -0.141               -138.44529   \n",
       "557  NaN          0.693         -0.347               -143.45400   \n",
       "558  NaN          0.537          0.223               -119.88108   \n",
       "\n",
       "     nominate_geo_mean_probability  nominate_number_of_votes  \\\n",
       "0                              NaN                       NaN   \n",
       "1                              NaN                       NaN   \n",
       "2                          0.89767                     809.0   \n",
       "3                          0.97317                     826.0   \n",
       "4                          0.81410                     817.0   \n",
       "..                             ...                       ...   \n",
       "554                        0.90694                     862.0   \n",
       "555                        0.97538                     896.0   \n",
       "556                        0.85018                     853.0   \n",
       "557                        0.84587                     857.0   \n",
       "558                        0.86321                     815.0   \n",
       "\n",
       "     nominate_number_of_errors  conditional  nokken_poole_dim1  \\\n",
       "0                          NaN          NaN                NaN   \n",
       "1                          NaN          NaN                NaN   \n",
       "2                         31.0          NaN              0.419   \n",
       "3                          9.0          NaN             -0.492   \n",
       "4                         80.0          NaN              0.697   \n",
       "..                         ...          ...                ...   \n",
       "554                       27.0          NaN             -0.078   \n",
       "555                       10.0          NaN             -0.467   \n",
       "556                       59.0          NaN              0.617   \n",
       "557                       62.0          NaN              0.722   \n",
       "558                       44.0          NaN              0.542   \n",
       "\n",
       "     nokken_poole_dim2  \n",
       "0                  NaN  \n",
       "1                  NaN  \n",
       "2                0.537  \n",
       "3                0.475  \n",
       "4               -0.288  \n",
       "..                 ...  \n",
       "554              0.381  \n",
       "555             -0.027  \n",
       "556              0.035  \n",
       "557             -0.361  \n",
       "558              0.144  \n",
       "\n",
       "[559 rows x 22 columns]"
      ]
     },
     "execution_count": 7,
     "metadata": {},
     "output_type": "execute_result"
    }
   ],
   "source": [
    "df_members"
   ]
  },
  {
   "cell_type": "code",
   "execution_count": 55,
   "metadata": {},
   "outputs": [
    {
     "data": {
      "text/plain": [
       "100    282\n",
       "200    275\n",
       "328      2\n",
       "Name: party_code, dtype: int64"
      ]
     },
     "execution_count": 55,
     "metadata": {},
     "output_type": "execute_result"
    }
   ],
   "source": [
    "df_members['party_code'].value_counts()"
   ]
  },
  {
   "cell_type": "code",
   "execution_count": 8,
   "metadata": {},
   "outputs": [
    {
     "data": {
      "text/plain": [
       "Index(['congress', 'chamber', 'rollnumber', 'icpsr', 'cast_code', 'prob'], dtype='object')"
      ]
     },
     "execution_count": 8,
     "metadata": {},
     "output_type": "execute_result"
    }
   ],
   "source": [
    "df_voting.columns"
   ]
  },
  {
   "cell_type": "code",
   "execution_count": 20,
   "metadata": {},
   "outputs": [
    {
     "data": {
      "text/plain": [
       "883    538\n",
       "881    538\n",
       "880    538\n",
       "819    536\n",
       "828    536\n",
       "      ... \n",
       "971    430\n",
       "970    430\n",
       "969    430\n",
       "968    430\n",
       "978    430\n",
       "Name: rollnumber, Length: 996, dtype: int64"
      ]
     },
     "execution_count": 20,
     "metadata": {},
     "output_type": "execute_result"
    }
   ],
   "source": [
    "df_voting[\"rollnumber\"].value_counts()"
   ]
  },
  {
   "cell_type": "code",
   "execution_count": 9,
   "metadata": {},
   "outputs": [
    {
     "data": {
      "text/plain": [
       "100.0    246071\n",
       "99.9      32296\n",
       "99.8      15290\n",
       "99.7      10225\n",
       "99.6       7259\n",
       "          ...  \n",
       "8.5          13\n",
       "0.2          13\n",
       "3.6          12\n",
       "1.3           9\n",
       "0.0           9\n",
       "Name: prob, Length: 1001, dtype: int64"
      ]
     },
     "execution_count": 9,
     "metadata": {},
     "output_type": "execute_result"
    }
   ],
   "source": [
    "df_voting[\"prob\"].value_counts()"
   ]
  },
  {
   "cell_type": "code",
   "execution_count": 10,
   "metadata": {},
   "outputs": [
    {
     "data": {
      "text/plain": [
       "1    345885\n",
       "6    166176\n",
       "9     11964\n",
       "7        98\n",
       "Name: cast_code, dtype: int64"
      ]
     },
     "execution_count": 10,
     "metadata": {},
     "output_type": "execute_result"
    }
   ],
   "source": [
    "df_voting[\"cast_code\"].value_counts()"
   ]
  },
  {
   "cell_type": "code",
   "execution_count": 11,
   "metadata": {},
   "outputs": [],
   "source": [
    "## create a new dataframe with only the yes or no votes -- 1 (yes) 6(no)\n",
    "df_bool = df_voting.loc[(df_voting[\"cast_code\"] == 1) | (df_voting[\"cast_code\"] == 6)] "
   ]
  },
  {
   "cell_type": "code",
   "execution_count": 12,
   "metadata": {},
   "outputs": [
    {
     "name": "stderr",
     "output_type": "stream",
     "text": [
      "c:\\Users\\ritac\\anaconda3\\lib\\site-packages\\pandas\\core\\generic.py:6619: SettingWithCopyWarning:\n",
      "\n",
      "\n",
      "A value is trying to be set on a copy of a slice from a DataFrame\n",
      "\n",
      "See the caveats in the documentation: https://pandas.pydata.org/pandas-docs/stable/user_guide/indexing.html#returning-a-view-versus-a-copy\n",
      "\n"
     ]
    }
   ],
   "source": [
    "## replace values for 2 and 4 to 0 and 1\n",
    "df_bool[\"cast_code\"].replace({6: 0}, inplace=True)"
   ]
  },
  {
   "cell_type": "code",
   "execution_count": 13,
   "metadata": {},
   "outputs": [
    {
     "data": {
      "text/html": [
       "<div>\n",
       "<style scoped>\n",
       "    .dataframe tbody tr th:only-of-type {\n",
       "        vertical-align: middle;\n",
       "    }\n",
       "\n",
       "    .dataframe tbody tr th {\n",
       "        vertical-align: top;\n",
       "    }\n",
       "\n",
       "    .dataframe thead th {\n",
       "        text-align: right;\n",
       "    }\n",
       "</style>\n",
       "<table border=\"1\" class=\"dataframe\">\n",
       "  <thead>\n",
       "    <tr style=\"text-align: right;\">\n",
       "      <th></th>\n",
       "      <th>congress</th>\n",
       "      <th>chamber</th>\n",
       "      <th>rollnumber</th>\n",
       "      <th>icpsr</th>\n",
       "      <th>cast_code</th>\n",
       "      <th>prob</th>\n",
       "    </tr>\n",
       "  </thead>\n",
       "  <tbody>\n",
       "    <tr>\n",
       "      <th>0</th>\n",
       "      <td>117</td>\n",
       "      <td>House</td>\n",
       "      <td>1</td>\n",
       "      <td>14066.0</td>\n",
       "      <td>0</td>\n",
       "      <td>100.0</td>\n",
       "    </tr>\n",
       "    <tr>\n",
       "      <th>1</th>\n",
       "      <td>117</td>\n",
       "      <td>House</td>\n",
       "      <td>1</td>\n",
       "      <td>14854.0</td>\n",
       "      <td>0</td>\n",
       "      <td>100.0</td>\n",
       "    </tr>\n",
       "    <tr>\n",
       "      <th>2</th>\n",
       "      <td>117</td>\n",
       "      <td>House</td>\n",
       "      <td>1</td>\n",
       "      <td>14863.0</td>\n",
       "      <td>0</td>\n",
       "      <td>99.7</td>\n",
       "    </tr>\n",
       "    <tr>\n",
       "      <th>3</th>\n",
       "      <td>117</td>\n",
       "      <td>House</td>\n",
       "      <td>1</td>\n",
       "      <td>14873.0</td>\n",
       "      <td>1</td>\n",
       "      <td>100.0</td>\n",
       "    </tr>\n",
       "    <tr>\n",
       "      <th>4</th>\n",
       "      <td>117</td>\n",
       "      <td>House</td>\n",
       "      <td>1</td>\n",
       "      <td>15019.0</td>\n",
       "      <td>1</td>\n",
       "      <td>92.8</td>\n",
       "    </tr>\n",
       "    <tr>\n",
       "      <th>...</th>\n",
       "      <td>...</td>\n",
       "      <td>...</td>\n",
       "      <td>...</td>\n",
       "      <td>...</td>\n",
       "      <td>...</td>\n",
       "      <td>...</td>\n",
       "    </tr>\n",
       "    <tr>\n",
       "      <th>524118</th>\n",
       "      <td>117</td>\n",
       "      <td>Senate</td>\n",
       "      <td>949</td>\n",
       "      <td>42105.0</td>\n",
       "      <td>1</td>\n",
       "      <td>100.0</td>\n",
       "    </tr>\n",
       "    <tr>\n",
       "      <th>524119</th>\n",
       "      <td>117</td>\n",
       "      <td>Senate</td>\n",
       "      <td>949</td>\n",
       "      <td>49300.0</td>\n",
       "      <td>1</td>\n",
       "      <td>100.0</td>\n",
       "    </tr>\n",
       "    <tr>\n",
       "      <th>524120</th>\n",
       "      <td>117</td>\n",
       "      <td>Senate</td>\n",
       "      <td>949</td>\n",
       "      <td>49308.0</td>\n",
       "      <td>1</td>\n",
       "      <td>100.0</td>\n",
       "    </tr>\n",
       "    <tr>\n",
       "      <th>524121</th>\n",
       "      <td>117</td>\n",
       "      <td>Senate</td>\n",
       "      <td>949</td>\n",
       "      <td>49703.0</td>\n",
       "      <td>1</td>\n",
       "      <td>99.9</td>\n",
       "    </tr>\n",
       "    <tr>\n",
       "      <th>524122</th>\n",
       "      <td>117</td>\n",
       "      <td>Senate</td>\n",
       "      <td>949</td>\n",
       "      <td>94659.0</td>\n",
       "      <td>1</td>\n",
       "      <td>54.0</td>\n",
       "    </tr>\n",
       "  </tbody>\n",
       "</table>\n",
       "<p>512061 rows × 6 columns</p>\n",
       "</div>"
      ],
      "text/plain": [
       "        congress chamber  rollnumber    icpsr  cast_code   prob\n",
       "0            117   House           1  14066.0          0  100.0\n",
       "1            117   House           1  14854.0          0  100.0\n",
       "2            117   House           1  14863.0          0   99.7\n",
       "3            117   House           1  14873.0          1  100.0\n",
       "4            117   House           1  15019.0          1   92.8\n",
       "...          ...     ...         ...      ...        ...    ...\n",
       "524118       117  Senate         949  42105.0          1  100.0\n",
       "524119       117  Senate         949  49300.0          1  100.0\n",
       "524120       117  Senate         949  49308.0          1  100.0\n",
       "524121       117  Senate         949  49703.0          1   99.9\n",
       "524122       117  Senate         949  94659.0          1   54.0\n",
       "\n",
       "[512061 rows x 6 columns]"
      ]
     },
     "execution_count": 13,
     "metadata": {},
     "output_type": "execute_result"
    }
   ],
   "source": [
    "df_bool"
   ]
  },
  {
   "cell_type": "code",
   "execution_count": 14,
   "metadata": {},
   "outputs": [
    {
     "data": {
      "image/png": "[encoded data removed]",
      "text/plain": [
       "<Figure size 720x576 with 1 Axes>"
      ]
     },
     "metadata": {
      "needs_background": "light"
     },
     "output_type": "display_data"
    }
   ],
   "source": [
    "# Create a pivot table with NC as rows, A as columns, and rating as values\n",
    "pivot_table = df_bool.pivot_table(index='icpsr', columns='rollnumber', values='cast_code')\n",
    "\n",
    "# Create a heatmap\n",
    "plt.figure(figsize=(10,8))\n",
    "sns.heatmap(pivot_table, cmap='coolwarm', cbar=False)\n",
    "plt.show()"
   ]
  },
  {
   "cell_type": "code",
   "execution_count": 15,
   "metadata": {},
   "outputs": [
    {
     "data": {
      "application/vnd.plotly.v1+json": {
       "config": {
        "linkText": "Export to plot.ly",
        "plotlyServerURL": "https://plot.ly",
        "showLink": false
       },
       "data": [
        {
         "text": [
          "67.5 %",
          "32.5 %"
         ],
         "textfont": {
          "color": "#000000"
         },
         "textposition": "auto",
         "type": "bar",
         "x": [
          1,
          0
         ],
         "y": [
          345885,
          166176
         ]
        }
       ],
       "layout": {
        "template": {
         "data": {
          "bar": [
           {
            "error_x": {
             "color": "#2a3f5f"
            },
            "error_y": {
             "color": "#2a3f5f"
            },
            "marker": {
             "line": {
              "color": "#E5ECF6",
              "width": 0.5
             }
            },
            "type": "bar"
           }
          ],
          "barpolar": [
           {
            "marker": {
             "line": {
              "color": "#E5ECF6",
              "width": 0.5
             }
            },
            "type": "barpolar"
           }
          ],
          "carpet": [
           {
            "aaxis": {
             "endlinecolor": "#2a3f5f",
             "gridcolor": "white",
             "linecolor": "white",
             "minorgridcolor": "white",
             "startlinecolor": "#2a3f5f"
            },
            "baxis": {
             "endlinecolor": "#2a3f5f",
             "gridcolor": "white",
             "linecolor": "white",
             "minorgridcolor": "white",
             "startlinecolor": "#2a3f5f"
            },
            "type": "carpet"
           }
          ],
          "choropleth": [
           {
            "colorbar": {
             "outlinewidth": 0,
             "ticks": ""
            },
            "type": "choropleth"
           }
          ],
          "contour": [
           {
            "colorbar": {
             "outlinewidth": 0,
             "ticks": ""
            },
            "colorscale": [
             [
              0,
              "#0d0887"
             ],
             [
              0.1111111111111111,
              "#46039f"
             ],
             [
              0.2222222222222222,
              "#7201a8"
             ],
             [
              0.3333333333333333,
              "#9c179e"
             ],
             [
              0.4444444444444444,
              "#bd3786"
             ],
             [
              0.5555555555555556,
              "#d8576b"
             ],
             [
              0.6666666666666666,
              "#ed7953"
             ],
             [
              0.7777777777777778,
              "#fb9f3a"
             ],
             [
              0.8888888888888888,
              "#fdca26"
             ],
             [
              1,
              "#f0f921"
             ]
            ],
            "type": "contour"
           }
          ],
          "contourcarpet": [
           {
            "colorbar": {
             "outlinewidth": 0,
             "ticks": ""
            },
            "type": "contourcarpet"
           }
          ],
          "heatmap": [
           {
            "colorbar": {
             "outlinewidth": 0,
             "ticks": ""
            },
            "colorscale": [
             [
              0,
              "#0d0887"
             ],
             [
              0.1111111111111111,
              "#46039f"
             ],
             [
              0.2222222222222222,
              "#7201a8"
             ],
             [
              0.3333333333333333,
              "#9c179e"
             ],
             [
              0.4444444444444444,
              "#bd3786"
             ],
             [
              0.5555555555555556,
              "#d8576b"
             ],
             [
              0.6666666666666666,
              "#ed7953"
             ],
             [
              0.7777777777777778,
              "#fb9f3a"
             ],
             [
              0.8888888888888888,
              "#fdca26"
             ],
             [
              1,
              "#f0f921"
             ]
            ],
            "type": "heatmap"
           }
          ],
          "heatmapgl": [
           {
            "colorbar": {
             "outlinewidth": 0,
             "ticks": ""
            },
            "colorscale": [
             [
              0,
              "#0d0887"
             ],
             [
              0.1111111111111111,
              "#46039f"
             ],
             [
              0.2222222222222222,
              "#7201a8"
             ],
             [
              0.3333333333333333,
              "#9c179e"
             ],
             [
              0.4444444444444444,
              "#bd3786"
             ],
             [
              0.5555555555555556,
              "#d8576b"
             ],
             [
              0.6666666666666666,
              "#ed7953"
             ],
             [
              0.7777777777777778,
              "#fb9f3a"
             ],
             [
              0.8888888888888888,
              "#fdca26"
             ],
             [
              1,
              "#f0f921"
             ]
            ],
            "type": "heatmapgl"
           }
          ],
          "histogram": [
           {
            "marker": {
             "colorbar": {
              "outlinewidth": 0,
              "ticks": ""
             }
            },
            "type": "histogram"
           }
          ],
          "histogram2d": [
           {
            "colorbar": {
             "outlinewidth": 0,
             "ticks": ""
            },
            "colorscale": [
             [
              0,
              "#0d0887"
             ],
             [
              0.1111111111111111,
              "#46039f"
             ],
             [
              0.2222222222222222,
              "#7201a8"
             ],
             [
              0.3333333333333333,
              "#9c179e"
             ],
             [
              0.4444444444444444,
              "#bd3786"
             ],
             [
              0.5555555555555556,
              "#d8576b"
             ],
             [
              0.6666666666666666,
              "#ed7953"
             ],
             [
              0.7777777777777778,
              "#fb9f3a"
             ],
             [
              0.8888888888888888,
              "#fdca26"
             ],
             [
              1,
              "#f0f921"
             ]
            ],
            "type": "histogram2d"
           }
          ],
          "histogram2dcontour": [
           {
            "colorbar": {
             "outlinewidth": 0,
             "ticks": ""
            },
            "colorscale": [
             [
              0,
              "#0d0887"
             ],
             [
              0.1111111111111111,
              "#46039f"
             ],
             [
              0.2222222222222222,
              "#7201a8"
             ],
             [
              0.3333333333333333,
              "#9c179e"
             ],
             [
              0.4444444444444444,
              "#bd3786"
             ],
             [
              0.5555555555555556,
              "#d8576b"
             ],
             [
              0.6666666666666666,
              "#ed7953"
             ],
             [
              0.7777777777777778,
              "#fb9f3a"
             ],
             [
              0.8888888888888888,
              "#fdca26"
             ],
             [
              1,
              "#f0f921"
             ]
            ],
            "type": "histogram2dcontour"
           }
          ],
          "mesh3d": [
           {
            "colorbar": {
             "outlinewidth": 0,
             "ticks": ""
            },
            "type": "mesh3d"
           }
          ],
          "parcoords": [
           {
            "line": {
             "colorbar": {
              "outlinewidth": 0,
              "ticks": ""
             }
            },
            "type": "parcoords"
           }
          ],
          "pie": [
           {
            "automargin": true,
            "type": "pie"
           }
          ],
          "scatter": [
           {
            "marker": {
             "colorbar": {
              "outlinewidth": 0,
              "ticks": ""
             }
            },
            "type": "scatter"
           }
          ],
          "scatter3d": [
           {
            "line": {
             "colorbar": {
              "outlinewidth": 0,
              "ticks": ""
             }
            },
            "marker": {
             "colorbar": {
              "outlinewidth": 0,
              "ticks": ""
             }
            },
            "type": "scatter3d"
           }
          ],
          "scattercarpet": [
           {
            "marker": {
             "colorbar": {
              "outlinewidth": 0,
              "ticks": ""
             }
            },
            "type": "scattercarpet"
           }
          ],
          "scattergeo": [
           {
            "marker": {
             "colorbar": {
              "outlinewidth": 0,
              "ticks": ""
             }
            },
            "type": "scattergeo"
           }
          ],
          "scattergl": [
           {
            "marker": {
             "colorbar": {
              "outlinewidth": 0,
              "ticks": ""
             }
            },
            "type": "scattergl"
           }
          ],
          "scattermapbox": [
           {
            "marker": {
             "colorbar": {
              "outlinewidth": 0,
              "ticks": ""
             }
            },
            "type": "scattermapbox"
           }
          ],
          "scatterpolar": [
           {
            "marker": {
             "colorbar": {
              "outlinewidth": 0,
              "ticks": ""
             }
            },
            "type": "scatterpolar"
           }
          ],
          "scatterpolargl": [
           {
            "marker": {
             "colorbar": {
              "outlinewidth": 0,
              "ticks": ""
             }
            },
            "type": "scatterpolargl"
           }
          ],
          "scatterternary": [
           {
            "marker": {
             "colorbar": {
              "outlinewidth": 0,
              "ticks": ""
             }
            },
            "type": "scatterternary"
           }
          ],
          "surface": [
           {
            "colorbar": {
             "outlinewidth": 0,
             "ticks": ""
            },
            "colorscale": [
             [
              0,
              "#0d0887"
             ],
             [
              0.1111111111111111,
              "#46039f"
             ],
             [
              0.2222222222222222,
              "#7201a8"
             ],
             [
              0.3333333333333333,
              "#9c179e"
             ],
             [
              0.4444444444444444,
              "#bd3786"
             ],
             [
              0.5555555555555556,
              "#d8576b"
             ],
             [
              0.6666666666666666,
              "#ed7953"
             ],
             [
              0.7777777777777778,
              "#fb9f3a"
             ],
             [
              0.8888888888888888,
              "#fdca26"
             ],
             [
              1,
              "#f0f921"
             ]
            ],
            "type": "surface"
           }
          ],
          "table": [
           {
            "cells": {
             "fill": {
              "color": "#EBF0F8"
             },
             "line": {
              "color": "white"
             }
            },
            "header": {
             "fill": {
              "color": "#C8D4E3"
             },
             "line": {
              "color": "white"
             }
            },
            "type": "table"
           }
          ]
         },
         "layout": {
          "annotationdefaults": {
           "arrowcolor": "#2a3f5f",
           "arrowhead": 0,
           "arrowwidth": 1
          },
          "autotypenumbers": "strict",
          "coloraxis": {
           "colorbar": {
            "outlinewidth": 0,
            "ticks": ""
           }
          },
          "colorscale": {
           "diverging": [
            [
             0,
             "#8e0152"
            ],
            [
             0.1,
             "#c51b7d"
            ],
            [
             0.2,
             "#de77ae"
            ],
            [
             0.3,
             "#f1b6da"
            ],
            [
             0.4,
             "#fde0ef"
            ],
            [
             0.5,
             "#f7f7f7"
            ],
            [
             0.6,
             "#e6f5d0"
            ],
            [
             0.7,
             "#b8e186"
            ],
            [
             0.8,
             "#7fbc41"
            ],
            [
             0.9,
             "#4d9221"
            ],
            [
             1,
             "#276419"
            ]
           ],
           "sequential": [
            [
             0,
             "#0d0887"
            ],
            [
             0.1111111111111111,
             "#46039f"
            ],
            [
             0.2222222222222222,
             "#7201a8"
            ],
            [
             0.3333333333333333,
             "#9c179e"
            ],
            [
             0.4444444444444444,
             "#bd3786"
            ],
            [
             0.5555555555555556,
             "#d8576b"
            ],
            [
             0.6666666666666666,
             "#ed7953"
            ],
            [
             0.7777777777777778,
             "#fb9f3a"
            ],
            [
             0.8888888888888888,
             "#fdca26"
            ],
            [
             1,
             "#f0f921"
            ]
           ],
           "sequentialminus": [
            [
             0,
             "#0d0887"
            ],
            [
             0.1111111111111111,
             "#46039f"
            ],
            [
             0.2222222222222222,
             "#7201a8"
            ],
            [
             0.3333333333333333,
             "#9c179e"
            ],
            [
             0.4444444444444444,
             "#bd3786"
            ],
            [
             0.5555555555555556,
             "#d8576b"
            ],
            [
             0.6666666666666666,
             "#ed7953"
            ],
            [
             0.7777777777777778,
             "#fb9f3a"
            ],
            [
             0.8888888888888888,
             "#fdca26"
            ],
            [
             1,
             "#f0f921"
            ]
           ]
          },
          "colorway": [
           "#636efa",
           "#EF553B",
           "#00cc96",
           "#ab63fa",
           "#FFA15A",
           "#19d3f3",
           "#FF6692",
           "#B6E880",
           "#FF97FF",
           "#FECB52"
          ],
          "font": {
           "color": "#2a3f5f"
          },
          "geo": {
           "bgcolor": "white",
           "lakecolor": "white",
           "landcolor": "#E5ECF6",
           "showlakes": true,
           "showland": true,
           "subunitcolor": "white"
          },
          "hoverlabel": {
           "align": "left"
          },
          "hovermode": "closest",
          "mapbox": {
           "style": "light"
          },
          "paper_bgcolor": "white",
          "plot_bgcolor": "#E5ECF6",
          "polar": {
           "angularaxis": {
            "gridcolor": "white",
            "linecolor": "white",
            "ticks": ""
           },
           "bgcolor": "#E5ECF6",
           "radialaxis": {
            "gridcolor": "white",
            "linecolor": "white",
            "ticks": ""
           }
          },
          "scene": {
           "xaxis": {
            "backgroundcolor": "#E5ECF6",
            "gridcolor": "white",
            "gridwidth": 2,
            "linecolor": "white",
            "showbackground": true,
            "ticks": "",
            "zerolinecolor": "white"
           },
           "yaxis": {
            "backgroundcolor": "#E5ECF6",
            "gridcolor": "white",
            "gridwidth": 2,
            "linecolor": "white",
            "showbackground": true,
            "ticks": "",
            "zerolinecolor": "white"
           },
           "zaxis": {
            "backgroundcolor": "#E5ECF6",
            "gridcolor": "white",
            "gridwidth": 2,
            "linecolor": "white",
            "showbackground": true,
            "ticks": "",
            "zerolinecolor": "white"
           }
          },
          "shapedefaults": {
           "line": {
            "color": "#2a3f5f"
           }
          },
          "ternary": {
           "aaxis": {
            "gridcolor": "white",
            "linecolor": "white",
            "ticks": ""
           },
           "baxis": {
            "gridcolor": "white",
            "linecolor": "white",
            "ticks": ""
           },
           "bgcolor": "#E5ECF6",
           "caxis": {
            "gridcolor": "white",
            "linecolor": "white",
            "ticks": ""
           }
          },
          "title": {
           "x": 0.05
          },
          "xaxis": {
           "automargin": true,
           "gridcolor": "white",
           "linecolor": "white",
           "ticks": "",
           "title": {
            "standoff": 15
           },
           "zerolinecolor": "white",
           "zerolinewidth": 2
          },
          "yaxis": {
           "automargin": true,
           "gridcolor": "white",
           "linecolor": "white",
           "ticks": "",
           "title": {
            "standoff": 15
           },
           "zerolinecolor": "white",
           "zerolinewidth": 2
          }
         }
        },
        "title": {
         "text": "Distribution Of 512061 vote-ratings"
        },
        "xaxis": {
         "title": {
          "text": "Rating"
         }
        },
        "yaxis": {
         "title": {
          "text": "Count"
         }
        }
       }
      }
     },
     "metadata": {},
     "output_type": "display_data"
    }
   ],
   "source": [
    "data = df_bool['cast_code'].value_counts().sort_index(ascending=False)\n",
    "trace = go.Bar(x = data.index,\n",
    "               text = ['{:.1f} %'.format(val) for val in (data.values / df_bool.shape[0] * 100)],\n",
    "               textposition = 'auto',\n",
    "               textfont = dict(color = '#000000'),\n",
    "               y = data.values,\n",
    "               )\n",
    "# Create layout\n",
    "layout = dict(title = 'Distribution Of {} vote-ratings'.format(df_bool.shape[0]),\n",
    "              xaxis = dict(title = 'Rating'),\n",
    "              yaxis = dict(title = 'Count'))\n",
    "# Create plot\n",
    "fig = go.Figure(data=[trace], layout=layout)\n",
    "iplot(fig)"
   ]
  },
  {
   "cell_type": "code",
   "execution_count": 16,
   "metadata": {},
   "outputs": [],
   "source": [
    "# Create the reader\n",
    "reader = Reader(rating_scale=(0, 1))\n",
    "# Load the data into a dataset\n",
    "data = Dataset.load_from_df(df_bool[['icpsr', 'rollnumber', 'cast_code']], reader)\n",
    "\n",
    "# Split the data into a training set and a test set\n",
    "trainset, testset = train_test_split(data, test_size=0.25, random_state=42)"
   ]
  },
  {
   "cell_type": "code",
   "execution_count": 34,
   "metadata": {},
   "outputs": [
    {
     "name": "stdout",
     "output_type": "stream",
     "text": [
      "RMSE: 0.1803\n",
      "MAE:  0.0936\n",
      "RMSE: 0.3889\n",
      "MAE:  0.3170\n",
      "RMSE: 0.2347\n",
      "MAE:  0.1823\n",
      "RMSE: 0.5791\n",
      "MAE:  0.4559\n",
      "Estimating biases using als...\n",
      "Computing the msd similarity matrix...\n",
      "Done computing similarity matrix.\n",
      "RMSE: 0.1723\n",
      "MAE:  0.0654\n",
      "Computing the msd similarity matrix...\n",
      "Done computing similarity matrix.\n",
      "RMSE: 0.1724\n",
      "MAE:  0.0659\n",
      "Estimating biases using als...\n",
      "RMSE: 0.3895\n",
      "MAE:  0.3189\n",
      "RMSE: 0.2546\n",
      "MAE:  0.1436\n"
     ]
    }
   ],
   "source": [
    "algorithms = [SVD(), SlopeOne(), NMF(), NormalPredictor(), KNNBaseline(), KNNWithMeans(), BaselineOnly(), CoClustering()]\n",
    "results,matrix = evaluate_algorithms_binary(trainset,testset, algorithms)"
   ]
  },
  {
   "cell_type": "code",
   "execution_count": 35,
   "metadata": {},
   "outputs": [
    {
     "data": {
      "text/html": [
       "<div>\n",
       "<style scoped>\n",
       "    .dataframe tbody tr th:only-of-type {\n",
       "        vertical-align: middle;\n",
       "    }\n",
       "\n",
       "    .dataframe tbody tr th {\n",
       "        vertical-align: top;\n",
       "    }\n",
       "\n",
       "    .dataframe thead th {\n",
       "        text-align: right;\n",
       "    }\n",
       "</style>\n",
       "<table border=\"1\" class=\"dataframe\">\n",
       "  <thead>\n",
       "    <tr style=\"text-align: right;\">\n",
       "      <th></th>\n",
       "      <th>accuracy</th>\n",
       "      <th>precision</th>\n",
       "      <th>recall</th>\n",
       "      <th>f1_score</th>\n",
       "      <th>test_rmse</th>\n",
       "      <th>test_mae</th>\n",
       "    </tr>\n",
       "  </thead>\n",
       "  <tbody>\n",
       "    <tr>\n",
       "      <th>KNNWithMeans</th>\n",
       "      <td>0.959903</td>\n",
       "      <td>0.965043</td>\n",
       "      <td>0.976011</td>\n",
       "      <td>0.970496</td>\n",
       "      <td>0.172389</td>\n",
       "      <td>0.065861</td>\n",
       "    </tr>\n",
       "    <tr>\n",
       "      <th>KNNBaseline</th>\n",
       "      <td>0.959841</td>\n",
       "      <td>0.965008</td>\n",
       "      <td>0.975953</td>\n",
       "      <td>0.970450</td>\n",
       "      <td>0.172346</td>\n",
       "      <td>0.065404</td>\n",
       "    </tr>\n",
       "    <tr>\n",
       "      <th>SVD</th>\n",
       "      <td>0.958974</td>\n",
       "      <td>0.963478</td>\n",
       "      <td>0.976288</td>\n",
       "      <td>0.969841</td>\n",
       "      <td>0.180292</td>\n",
       "      <td>0.093617</td>\n",
       "    </tr>\n",
       "    <tr>\n",
       "      <th>NMF</th>\n",
       "      <td>0.948553</td>\n",
       "      <td>0.965015</td>\n",
       "      <td>0.958611</td>\n",
       "      <td>0.961803</td>\n",
       "      <td>0.234709</td>\n",
       "      <td>0.182282</td>\n",
       "    </tr>\n",
       "    <tr>\n",
       "      <th>CoClustering</th>\n",
       "      <td>0.908769</td>\n",
       "      <td>0.918745</td>\n",
       "      <td>0.948900</td>\n",
       "      <td>0.933579</td>\n",
       "      <td>0.254586</td>\n",
       "      <td>0.143643</td>\n",
       "    </tr>\n",
       "    <tr>\n",
       "      <th>SlopeOne</th>\n",
       "      <td>0.799220</td>\n",
       "      <td>0.828922</td>\n",
       "      <td>0.885626</td>\n",
       "      <td>0.856336</td>\n",
       "      <td>0.388865</td>\n",
       "      <td>0.316960</td>\n",
       "    </tr>\n",
       "    <tr>\n",
       "      <th>BaselineOnly</th>\n",
       "      <td>0.798353</td>\n",
       "      <td>0.827256</td>\n",
       "      <td>0.886724</td>\n",
       "      <td>0.855958</td>\n",
       "      <td>0.389520</td>\n",
       "      <td>0.318930</td>\n",
       "    </tr>\n",
       "    <tr>\n",
       "      <th>NormalPredictor</th>\n",
       "      <td>0.552204</td>\n",
       "      <td>0.676646</td>\n",
       "      <td>0.645941</td>\n",
       "      <td>0.660937</td>\n",
       "      <td>0.579056</td>\n",
       "      <td>0.455947</td>\n",
       "    </tr>\n",
       "  </tbody>\n",
       "</table>\n",
       "</div>"
      ],
      "text/plain": [
       "                 accuracy  precision    recall  f1_score  test_rmse  test_mae\n",
       "KNNWithMeans     0.959903   0.965043  0.976011  0.970496   0.172389  0.065861\n",
       "KNNBaseline      0.959841   0.965008  0.975953  0.970450   0.172346  0.065404\n",
       "SVD              0.958974   0.963478  0.976288  0.969841   0.180292  0.093617\n",
       "NMF              0.948553   0.965015  0.958611  0.961803   0.234709  0.182282\n",
       "CoClustering     0.908769   0.918745  0.948900  0.933579   0.254586  0.143643\n",
       "SlopeOne         0.799220   0.828922  0.885626  0.856336   0.388865  0.316960\n",
       "BaselineOnly     0.798353   0.827256  0.886724  0.855958   0.389520  0.318930\n",
       "NormalPredictor  0.552204   0.676646  0.645941  0.660937   0.579056  0.455947"
      ]
     },
     "execution_count": 35,
     "metadata": {},
     "output_type": "execute_result"
    }
   ],
   "source": [
    "results"
   ]
  },
  {
   "attachments": {},
   "cell_type": "markdown",
   "metadata": {},
   "source": [
    "### REALISTIC PROBLEM"
   ]
  },
  {
   "cell_type": "code",
   "execution_count": 42,
   "metadata": {},
   "outputs": [],
   "source": [
    "## create dataset with users descriptors \n",
    "df2 = pd.merge(df_bool,df_members, on ='icpsr')\n",
    "df2[['icpsr', 'rollnumber', 'cast_code']].value_counts().to_frame().rename(columns={0:'repetitions'})\n",
    "\n",
    "## datatset with voting and orientation of each party for each voting id\n",
    "df2 = df2.drop_duplicates(subset=['icpsr', 'rollnumber', 'cast_code'], keep='first').reset_index(drop=True)"
   ]
  },
  {
   "cell_type": "code",
   "execution_count": 43,
   "metadata": {},
   "outputs": [
    {
     "data": {
      "text/plain": [
       "21740.0    996\n",
       "21178.0    996\n",
       "22114.0    996\n",
       "21526.0    996\n",
       "20706.0    996\n",
       "          ... \n",
       "21993.0     13\n",
       "21997.0     12\n",
       "99912.0      6\n",
       "41904.0      2\n",
       "41701.0      2\n",
       "Name: icpsr, Length: 558, dtype: int64"
      ]
     },
     "execution_count": 43,
     "metadata": {},
     "output_type": "execute_result"
    }
   ],
   "source": [
    "df2[\"icpsr\"].value_counts() ##members that have less than x entries?"
   ]
  },
  {
   "cell_type": "code",
   "execution_count": 44,
   "metadata": {},
   "outputs": [
    {
     "data": {
      "text/plain": [
       "485    534\n",
       "398    534\n",
       "486    534\n",
       "403    533\n",
       "371    533\n",
       "      ... \n",
       "985    409\n",
       "979    409\n",
       "978    409\n",
       "961    388\n",
       "962    356\n",
       "Name: rollnumber, Length: 996, dtype: int64"
      ]
     },
     "execution_count": 44,
     "metadata": {},
     "output_type": "execute_result"
    }
   ],
   "source": [
    "df2[\"rollnumber\"].value_counts() ##voting count - 996 votings happened"
   ]
  },
  {
   "cell_type": "code",
   "execution_count": 56,
   "metadata": {},
   "outputs": [],
   "source": [
    "def get_top_users_by_error(predictions, dataset ,n=10, ascending=True):\n",
    "    user_errors = {}\n",
    "\n",
    "    # Calculate the error for each user\n",
    "    for pred in predictions:\n",
    "        uid = pred.uid\n",
    "        error = abs(pred.est - pred.r_ui)\n",
    "\n",
    "        if uid in user_errors:\n",
    "            user_errors[uid] += error\n",
    "        else:\n",
    "            user_errors[uid] = error\n",
    "    \n",
    "    # Sort the users based on the total error in ascending or descending order\n",
    "    sorted_users = sorted(user_errors.items(), key=lambda x: x[1], reverse=not ascending)\n",
    "\n",
    "    # top users\n",
    "    top_users = [(dataset.loc[dataset['icpsr'] == user[0], 'bioname'].values[0],\n",
    "                  dataset.loc[dataset['icpsr'] == user[0], 'party_code'].values[0],\n",
    "                  user[1]) for user in sorted_users[:n]]\n",
    "    \n",
    "    return top_users\n",
    "\n",
    "\n",
    "def clusters_users(predictions, num_clusters=10):\n",
    "    user_ratings = {}  # Dictionary to store user ratings by cluster\n",
    "\n",
    "    # Collect user ratings for each cluster\n",
    "    for p in predictions:\n",
    "        if p.uid not in user_ratings:\n",
    "            user_ratings[p.uid] = {'True Rating': [], 'Predicted Rating': []}\n",
    "        user_ratings[p.uid]['True Rating'].append(p.r_ui)\n",
    "        user_ratings[p.uid]['Predicted Rating'].append(p.est)\n",
    "\n",
    "    # Prepare the data for clustering\n",
    "    data = []\n",
    "    for uid, ratings in user_ratings.items():\n",
    "        data.append([sum(ratings['True Rating']) / len(ratings['True Rating']), sum(ratings['Predicted Rating']) / len(ratings['Predicted Rating'])])\n",
    "\n",
    "    # Apply K-means clustering\n",
    "    kmeans = KMeans(n_clusters=num_clusters)\n",
    "    cluster_labels = kmeans.fit_predict(data)\n",
    "\n",
    "    # Add cluster labels to the user ratings dictionary\n",
    "    for i, uid in enumerate(user_ratings):\n",
    "        user_ratings[uid]['Cluster'] = cluster_labels[i]\n",
    "\n",
    "    # Prepare the data for visualization\n",
    "    data = []\n",
    "    for uid, ratings in user_ratings.items():\n",
    "        for true_rating, predicted_rating in zip(ratings['True Rating'], ratings['Predicted Rating']):\n",
    "            data.append({'User ID': uid, 'Cluster': ratings['Cluster'], 'True Rating': true_rating, 'Predicted Rating': predicted_rating})\n",
    "\n",
    "    # Create a DataFrame\n",
    "    df = pd.DataFrame(data)\n",
    "\n",
    "    # Group users by cluster and calculate average true rating and predicted rating\n",
    "    grouped_df = df.groupby(['Cluster', 'User ID']).agg({'True Rating': 'mean', 'Predicted Rating': 'mean'})\n",
    "    grouped_df = grouped_df.reset_index()\n",
    "\n",
    "    return grouped_df\n",
    "\n",
    " \n",
    "def evaluate_algorithms_binary(trainset, testset, algorithms, dt):\n",
    "  \n",
    "    results = {}    \n",
    "    for algorithm in algorithms:\n",
    "        # train \n",
    "        algorithm.fit(trainset)\n",
    "        \n",
    "        # test\n",
    "        predictions = algorithm.test(testset)\n",
    "\n",
    "        # predicted ratings to 0 or 1 \n",
    "        binary_predictions = [1 if p.est >= 0.5 else 0 for p in predictions]\n",
    "        \n",
    "        # binary_true_ratings is not needed -> does not change anything\n",
    "        binary_true_ratings = [1 if p.r_ui >= 0.5 else 0 for p in predictions]\n",
    "\n",
    "        # Metrics\n",
    "        acc = accuracy_score(binary_true_ratings, binary_predictions)\n",
    "        precision, recall, f1_score, _ = precision_recall_fscore_support(binary_true_ratings, binary_predictions, average='binary')\n",
    "        rmse = accuracy.rmse(predictions)\n",
    "        mae = accuracy.mae(predictions)\n",
    "        \n",
    "        # Store results in dictionary\n",
    "        results[algorithm.__class__.__name__] = {\n",
    "            'accuracy': acc,\n",
    "            'precision': precision,\n",
    "            'recall': recall,\n",
    "            'f1_score': f1_score,\n",
    "            'test_rmse': rmse,\n",
    "            'test_mae': mae,\n",
    "        }\n",
    "\n",
    "    # Convert dictionary to DataFrame and sort by F1 score\n",
    "    results = pd.DataFrame.from_dict(results, orient='index')\n",
    "    top10_high = get_top_users_by_error(predictions,dt, n=10, ascending=False)\n",
    "    top10_low = get_top_users_by_error(predictions,dt, n=10, ascending=True)\n",
    "    return results, top10_high,top10_low\n",
    "\n",
    "def realistic_train_test(algorithms, dt, n=0.02):\n",
    "    reader = Reader(rating_scale=(0, 1))\n",
    "    dt = dt.sort_values(by='rollnumber')\n",
    "    data = Dataset.load_from_df(dt[['icpsr', 'rollnumber', 'cast_code']], reader)\n",
    "    \n",
    "    # first ~900 votes\n",
    "    train_indices = dt['rollnumber'].unique()[:900]\n",
    "    # last ~10% of votes\n",
    "    test_indices = dt['rollnumber'].unique()[-96:]\n",
    "\n",
    "    train_data = dt[dt['rollnumber'].isin(train_indices)]\n",
    "    test_data = pd.DataFrame()\n",
    "\n",
    "    for test_index in test_indices:\n",
    "        test_votes = dt[dt['rollnumber'] == test_index]\n",
    "\n",
    "        #10% of the votes for the train set\n",
    "        size = int(len(test_votes) * n)\n",
    "        \n",
    "        #randomly select n rows from test_votes to into the train data\n",
    "        train_votes = test_votes.sample(n=size, random_state=42)\n",
    "\n",
    "        # add to train set\n",
    "        train_data = pd.concat([train_data, train_votes])\n",
    "\n",
    "        # remaining votes for the test set\n",
    "        test_votes = test_votes[~test_votes.index.isin(train_votes.index)]\n",
    "        test_data = pd.concat([test_data, test_votes])\n",
    "        \n",
    "    # remaining votes to train - it removes what was already used for test\n",
    "    train_data = dt[~dt[['icpsr', 'rollnumber']].isin(test_data[['icpsr', 'rollnumber']]).all(axis=1)]\n",
    "\n",
    "    trainset = Dataset.load_from_df(train_data[['icpsr', 'rollnumber', 'cast_code']], reader).build_full_trainset()\n",
    "    testset = Dataset.load_from_df(test_data[['icpsr', 'rollnumber', 'cast_code']], reader).build_full_trainset().build_testset()\n",
    "\n",
    "    # ## use function to evaluate results\n",
    "    results, top10_high, top10_low = evaluate_algorithms_binary(trainset,testset, algorithms, dt)\n",
    "    return results, top10_high, top10_low"
   ]
  },
  {
   "cell_type": "code",
   "execution_count": 57,
   "metadata": {},
   "outputs": [
    {
     "name": "stdout",
     "output_type": "stream",
     "text": [
      "RMSE: 0.3218\n",
      "MAE:  0.2582\n",
      "RMSE: 0.3448\n",
      "MAE:  0.2598\n",
      "RMSE: 0.2630\n",
      "MAE:  0.1906\n",
      "RMSE: 0.5660\n",
      "MAE:  0.4422\n",
      "Estimating biases using als...\n",
      "Computing the msd similarity matrix...\n",
      "Done computing similarity matrix.\n",
      "RMSE: 0.3213\n",
      "MAE:  0.2358\n",
      "Computing the msd similarity matrix...\n",
      "Done computing similarity matrix.\n",
      "RMSE: 0.3214\n",
      "MAE:  0.2353\n",
      "Estimating biases using als...\n",
      "RMSE: 0.3532\n",
      "MAE:  0.2902\n",
      "RMSE: 0.2916\n",
      "MAE:  0.1587\n"
     ]
    },
    {
     "data": {
      "text/html": [
       "<div>\n",
       "<style scoped>\n",
       "    .dataframe tbody tr th:only-of-type {\n",
       "        vertical-align: middle;\n",
       "    }\n",
       "\n",
       "    .dataframe tbody tr th {\n",
       "        vertical-align: top;\n",
       "    }\n",
       "\n",
       "    .dataframe thead th {\n",
       "        text-align: right;\n",
       "    }\n",
       "</style>\n",
       "<table border=\"1\" class=\"dataframe\">\n",
       "  <thead>\n",
       "    <tr style=\"text-align: right;\">\n",
       "      <th></th>\n",
       "      <th>accuracy</th>\n",
       "      <th>precision</th>\n",
       "      <th>recall</th>\n",
       "      <th>f1_score</th>\n",
       "      <th>test_rmse</th>\n",
       "      <th>test_mae</th>\n",
       "    </tr>\n",
       "  </thead>\n",
       "  <tbody>\n",
       "    <tr>\n",
       "      <th>SVD</th>\n",
       "      <td>0.882107</td>\n",
       "      <td>0.892799</td>\n",
       "      <td>0.956837</td>\n",
       "      <td>0.923709</td>\n",
       "      <td>0.321834</td>\n",
       "      <td>0.258202</td>\n",
       "    </tr>\n",
       "    <tr>\n",
       "      <th>SlopeOne</th>\n",
       "      <td>0.856696</td>\n",
       "      <td>0.875541</td>\n",
       "      <td>0.941749</td>\n",
       "      <td>0.907439</td>\n",
       "      <td>0.344762</td>\n",
       "      <td>0.259843</td>\n",
       "    </tr>\n",
       "    <tr>\n",
       "      <th>NMF</th>\n",
       "      <td>0.911081</td>\n",
       "      <td>0.935088</td>\n",
       "      <td>0.946494</td>\n",
       "      <td>0.940757</td>\n",
       "      <td>0.263024</td>\n",
       "      <td>0.190592</td>\n",
       "    </tr>\n",
       "    <tr>\n",
       "      <th>NormalPredictor</th>\n",
       "      <td>0.568998</td>\n",
       "      <td>0.745672</td>\n",
       "      <td>0.640700</td>\n",
       "      <td>0.689212</td>\n",
       "      <td>0.566029</td>\n",
       "      <td>0.442194</td>\n",
       "    </tr>\n",
       "    <tr>\n",
       "      <th>KNNBaseline</th>\n",
       "      <td>0.874189</td>\n",
       "      <td>0.887726</td>\n",
       "      <td>0.951696</td>\n",
       "      <td>0.918598</td>\n",
       "      <td>0.321343</td>\n",
       "      <td>0.235793</td>\n",
       "    </tr>\n",
       "    <tr>\n",
       "      <th>KNNWithMeans</th>\n",
       "      <td>0.874620</td>\n",
       "      <td>0.888933</td>\n",
       "      <td>0.950692</td>\n",
       "      <td>0.918776</td>\n",
       "      <td>0.321429</td>\n",
       "      <td>0.235278</td>\n",
       "    </tr>\n",
       "    <tr>\n",
       "      <th>BaselineOnly</th>\n",
       "      <td>0.852952</td>\n",
       "      <td>0.869291</td>\n",
       "      <td>0.944943</td>\n",
       "      <td>0.905540</td>\n",
       "      <td>0.353182</td>\n",
       "      <td>0.290190</td>\n",
       "    </tr>\n",
       "    <tr>\n",
       "      <th>CoClustering</th>\n",
       "      <td>0.885919</td>\n",
       "      <td>0.902961</td>\n",
       "      <td>0.949049</td>\n",
       "      <td>0.925432</td>\n",
       "      <td>0.291590</td>\n",
       "      <td>0.158668</td>\n",
       "    </tr>\n",
       "  </tbody>\n",
       "</table>\n",
       "</div>"
      ],
      "text/plain": [
       "                 accuracy  precision    recall  f1_score  test_rmse  test_mae\n",
       "SVD              0.882107   0.892799  0.956837  0.923709   0.321834  0.258202\n",
       "SlopeOne         0.856696   0.875541  0.941749  0.907439   0.344762  0.259843\n",
       "NMF              0.911081   0.935088  0.946494  0.940757   0.263024  0.190592\n",
       "NormalPredictor  0.568998   0.745672  0.640700  0.689212   0.566029  0.442194\n",
       "KNNBaseline      0.874189   0.887726  0.951696  0.918598   0.321343  0.235793\n",
       "KNNWithMeans     0.874620   0.888933  0.950692  0.918776   0.321429  0.235278\n",
       "BaselineOnly     0.852952   0.869291  0.944943  0.905540   0.353182  0.290190\n",
       "CoClustering     0.885919   0.902961  0.949049  0.925432   0.291590  0.158668"
      ]
     },
     "execution_count": 57,
     "metadata": {},
     "output_type": "execute_result"
    }
   ],
   "source": [
    "## 2% de teste no train\n",
    "algorithms = [SVD(), SlopeOne(), NMF(), NormalPredictor(), KNNBaseline(), KNNWithMeans(), BaselineOnly(), CoClustering()]\n",
    "results1,top10_high, top10_low = realistic_train_test(algorithms, df2)\n",
    "results1"
   ]
  },
  {
   "cell_type": "code",
   "execution_count": 58,
   "metadata": {},
   "outputs": [
    {
     "name": "stdout",
     "output_type": "stream",
     "text": [
      "RMSE: 0.2632\n",
      "MAE:  0.1915\n"
     ]
    },
    {
     "data": {
      "text/html": [
       "<div>\n",
       "<style scoped>\n",
       "    .dataframe tbody tr th:only-of-type {\n",
       "        vertical-align: middle;\n",
       "    }\n",
       "\n",
       "    .dataframe tbody tr th {\n",
       "        vertical-align: top;\n",
       "    }\n",
       "\n",
       "    .dataframe thead th {\n",
       "        text-align: right;\n",
       "    }\n",
       "</style>\n",
       "<table border=\"1\" class=\"dataframe\">\n",
       "  <thead>\n",
       "    <tr style=\"text-align: right;\">\n",
       "      <th></th>\n",
       "      <th>accuracy</th>\n",
       "      <th>precision</th>\n",
       "      <th>recall</th>\n",
       "      <th>f1_score</th>\n",
       "      <th>test_rmse</th>\n",
       "      <th>test_mae</th>\n",
       "    </tr>\n",
       "  </thead>\n",
       "  <tbody>\n",
       "    <tr>\n",
       "      <th>NMF</th>\n",
       "      <td>0.912556</td>\n",
       "      <td>0.93705</td>\n",
       "      <td>0.946342</td>\n",
       "      <td>0.941673</td>\n",
       "      <td>0.263179</td>\n",
       "      <td>0.191486</td>\n",
       "    </tr>\n",
       "  </tbody>\n",
       "</table>\n",
       "</div>"
      ],
      "text/plain": [
       "     accuracy  precision    recall  f1_score  test_rmse  test_mae\n",
       "NMF  0.912556    0.93705  0.946342  0.941673   0.263179  0.191486"
      ]
     },
     "execution_count": 58,
     "metadata": {},
     "output_type": "execute_result"
    }
   ],
   "source": [
    "##n_factors: 100, n_epochs:20, biased:True, lr_all: 0.005, reg_all:0.02\n",
    "algorithms = [NMF()]\n",
    "results2,top10_high, top10_low = realistic_train_test(algorithms, df2)\n",
    "results2"
   ]
  },
  {
   "cell_type": "code",
   "execution_count": 59,
   "metadata": {},
   "outputs": [
    {
     "name": "stdout",
     "output_type": "stream",
     "text": [
      "Top 10 Users with the Highest Errors:\n",
      "BROOKS, Mo (200), Error: 33.81637609248674\n",
      "GAETZ, Matthew L. II (200), Error: 33.631387275811676\n",
      "McCLINTOCK, Tom (200), Error: 31.645826246180466\n",
      "VAN DREW, Jefferson (200), Error: 30.92640625616432\n",
      "BISHOP, Dan (200), Error: 30.91551493576322\n",
      "CLYDE, Andrew S. (200), Error: 30.302791186919613\n",
      "HICE, Jody Brownlow (200), Error: 30.207015373982898\n",
      "GOSAR, Paul (200), Error: 29.974084745277263\n",
      "CLOUD, Michael (200), Error: 29.96683323312612\n",
      "BURCHETT, Timothy (200), Error: 29.929813908838895\n"
     ]
    }
   ],
   "source": [
    "print(\"Top 10 Users with the Highest Errors:\")\n",
    "for user_name, user_partido, error in top10_high:\n",
    "    print(f\"{user_name} ({user_partido}), Error: {error}\")"
   ]
  },
  {
   "cell_type": "code",
   "execution_count": 60,
   "metadata": {},
   "outputs": [
    {
     "name": "stdout",
     "output_type": "stream",
     "text": [
      "Top 10 Users with the Lowest Errors:\n",
      "PELOSI, Nancy (100), Error: 1.8027374296110916\n",
      "DEUTCH, Theodore E. (Ted) (100), Error: 2.7465709206637468\n",
      "MCEACHIN, Aston Donald (100), Error: 3.536101304191786\n",
      "BARRASSO, John A. (200), Error: 4.702549006667675\n",
      "KINZINGER, Adam (200), Error: 6.600743202764684\n",
      "BURR, Richard M. (200), Error: 6.849313266409758\n",
      "BASS, Karen (100), Error: 6.965124264342071\n",
      "YARMUTH, John (100), Error: 7.253111144497165\n",
      "CRUZ, Rafael Edward (Ted) (200), Error: 8.216709405576044\n",
      "HICKENLOOPER, John Wright (100), Error: 8.38835131453896\n"
     ]
    }
   ],
   "source": [
    "print(\"Top 10 Users with the Lowest Errors:\")\n",
    "for user_name, user_partido, error in top10_low:\n",
    "    print(f\"{user_name} ({user_partido}), Error: {error}\")"
   ]
  },
  {
   "cell_type": "code",
   "execution_count": 52,
   "metadata": {},
   "outputs": [
    {
     "data": {
      "text/html": [
       "<div>\n",
       "<style scoped>\n",
       "    .dataframe tbody tr th:only-of-type {\n",
       "        vertical-align: middle;\n",
       "    }\n",
       "\n",
       "    .dataframe tbody tr th {\n",
       "        vertical-align: top;\n",
       "    }\n",
       "\n",
       "    .dataframe thead th {\n",
       "        text-align: right;\n",
       "    }\n",
       "</style>\n",
       "<table border=\"1\" class=\"dataframe\">\n",
       "  <thead>\n",
       "    <tr style=\"text-align: right;\">\n",
       "      <th></th>\n",
       "      <th>percent_missing</th>\n",
       "    </tr>\n",
       "  </thead>\n",
       "  <tbody>\n",
       "    <tr>\n",
       "      <th>congress_x</th>\n",
       "      <td>0.000000</td>\n",
       "    </tr>\n",
       "    <tr>\n",
       "      <th>born</th>\n",
       "      <td>0.000000</td>\n",
       "    </tr>\n",
       "    <tr>\n",
       "      <th>bioname</th>\n",
       "      <td>0.000000</td>\n",
       "    </tr>\n",
       "    <tr>\n",
       "      <th>party_code</th>\n",
       "      <td>0.000000</td>\n",
       "    </tr>\n",
       "    <tr>\n",
       "      <th>state_abbrev</th>\n",
       "      <td>0.000000</td>\n",
       "    </tr>\n",
       "    <tr>\n",
       "      <th>nominate_dim1</th>\n",
       "      <td>0.000000</td>\n",
       "    </tr>\n",
       "    <tr>\n",
       "      <th>state_icpsr</th>\n",
       "      <td>0.000000</td>\n",
       "    </tr>\n",
       "    <tr>\n",
       "      <th>district_code</th>\n",
       "      <td>0.000000</td>\n",
       "    </tr>\n",
       "    <tr>\n",
       "      <th>congress_y</th>\n",
       "      <td>0.000000</td>\n",
       "    </tr>\n",
       "    <tr>\n",
       "      <th>cast_code</th>\n",
       "      <td>0.000000</td>\n",
       "    </tr>\n",
       "    <tr>\n",
       "      <th>icpsr</th>\n",
       "      <td>0.000000</td>\n",
       "    </tr>\n",
       "    <tr>\n",
       "      <th>rollnumber</th>\n",
       "      <td>0.000000</td>\n",
       "    </tr>\n",
       "    <tr>\n",
       "      <th>chamber_x</th>\n",
       "      <td>0.000000</td>\n",
       "    </tr>\n",
       "    <tr>\n",
       "      <th>chamber_y</th>\n",
       "      <td>0.000000</td>\n",
       "    </tr>\n",
       "    <tr>\n",
       "      <th>nominate_dim2</th>\n",
       "      <td>0.000000</td>\n",
       "    </tr>\n",
       "    <tr>\n",
       "      <th>bioguide_id</th>\n",
       "      <td>1.109057</td>\n",
       "    </tr>\n",
       "    <tr>\n",
       "      <th>nominate_number_of_errors</th>\n",
       "      <td>61.367837</td>\n",
       "    </tr>\n",
       "    <tr>\n",
       "      <th>nominate_number_of_votes</th>\n",
       "      <td>61.367837</td>\n",
       "    </tr>\n",
       "    <tr>\n",
       "      <th>nominate_geo_mean_probability</th>\n",
       "      <td>61.367837</td>\n",
       "    </tr>\n",
       "    <tr>\n",
       "      <th>nominate_log_likelihood</th>\n",
       "      <td>61.367837</td>\n",
       "    </tr>\n",
       "    <tr>\n",
       "      <th>nokken_poole_dim2</th>\n",
       "      <td>61.367837</td>\n",
       "    </tr>\n",
       "    <tr>\n",
       "      <th>nokken_poole_dim1</th>\n",
       "      <td>61.367837</td>\n",
       "    </tr>\n",
       "    <tr>\n",
       "      <th>prob</th>\n",
       "      <td>13210.536044</td>\n",
       "    </tr>\n",
       "    <tr>\n",
       "      <th>died</th>\n",
       "      <td>96430.683919</td>\n",
       "    </tr>\n",
       "    <tr>\n",
       "      <th>occupancy</th>\n",
       "      <td>96817.190388</td>\n",
       "    </tr>\n",
       "    <tr>\n",
       "      <th>last_means</th>\n",
       "      <td>96817.190388</td>\n",
       "    </tr>\n",
       "    <tr>\n",
       "      <th>conditional</th>\n",
       "      <td>96875.970425</td>\n",
       "    </tr>\n",
       "  </tbody>\n",
       "</table>\n",
       "</div>"
      ],
      "text/plain": [
       "                               percent_missing\n",
       "congress_x                            0.000000\n",
       "born                                  0.000000\n",
       "bioname                               0.000000\n",
       "party_code                            0.000000\n",
       "state_abbrev                          0.000000\n",
       "nominate_dim1                         0.000000\n",
       "state_icpsr                           0.000000\n",
       "district_code                         0.000000\n",
       "congress_y                            0.000000\n",
       "cast_code                             0.000000\n",
       "icpsr                                 0.000000\n",
       "rollnumber                            0.000000\n",
       "chamber_x                             0.000000\n",
       "chamber_y                             0.000000\n",
       "nominate_dim2                         0.000000\n",
       "bioguide_id                           1.109057\n",
       "nominate_number_of_errors            61.367837\n",
       "nominate_number_of_votes             61.367837\n",
       "nominate_geo_mean_probability        61.367837\n",
       "nominate_log_likelihood              61.367837\n",
       "nokken_poole_dim2                    61.367837\n",
       "nokken_poole_dim1                    61.367837\n",
       "prob                              13210.536044\n",
       "died                              96430.683919\n",
       "occupancy                         96817.190388\n",
       "last_means                        96817.190388\n",
       "conditional                       96875.970425"
      ]
     },
     "execution_count": 52,
     "metadata": {},
     "output_type": "execute_result"
    }
   ],
   "source": [
    "##percentagem de valores NULL no dataset\n",
    "percent= df2.isnull().sum() * 100 / len(df)\n",
    "missing_value = pd.DataFrame({'percent_missing': percent})\n",
    "missing_value.sort_values('percent_missing', inplace=True)\n",
    "missing_value"
   ]
  },
  {
   "cell_type": "code",
   "execution_count": 57,
   "metadata": {},
   "outputs": [
    {
     "data": {
      "text/plain": [
       "880    538\n",
       "881    538\n",
       "883    538\n",
       "818    536\n",
       "858    536\n",
       "      ... \n",
       "971    430\n",
       "970    430\n",
       "969    430\n",
       "968    430\n",
       "978    430\n",
       "Name: rollnumber, Length: 996, dtype: int64"
      ]
     },
     "execution_count": 57,
     "metadata": {},
     "output_type": "execute_result"
    }
   ],
   "source": [
    "## nr of votings\n",
    "df2[\"rollnumber\"].value_counts()"
   ]
  },
  {
   "cell_type": "code",
   "execution_count": 58,
   "metadata": {},
   "outputs": [
    {
     "data": {
      "text/plain": [
       "21926.0    996\n",
       "21949.0    996\n",
       "21946.0    996\n",
       "21945.0    996\n",
       "21944.0    996\n",
       "          ... \n",
       "21997.0     14\n",
       "21992.0     14\n",
       "99912.0      6\n",
       "41701.0      2\n",
       "41904.0      2\n",
       "Name: icpsr, Length: 559, dtype: int64"
      ]
     },
     "execution_count": 58,
     "metadata": {},
     "output_type": "execute_result"
    }
   ],
   "source": [
    "\n",
    "## nr of members\n",
    "df2[\"icpsr\"].value_counts()"
   ]
  }
 ],
 "metadata": {
  "kernelspec": {
   "display_name": "base",
   "language": "python",
   "name": "python3"
  },
  "language_info": {
   "codemirror_mode": {
    "name": "ipython",
    "version": 3
   },
   "file_extension": ".py",
   "mimetype": "text/x-python",
   "name": "python",
   "nbconvert_exporter": "python",
   "pygments_lexer": "ipython3",
   "version": "3.9.7"
  },
  "orig_nbformat": 4
 },
 "nbformat": 4,
 "nbformat_minor": 2
}
