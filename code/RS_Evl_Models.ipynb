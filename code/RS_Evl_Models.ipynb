{
 "cells": [
  {
   "cell_type": "code",
   "execution_count": 11,
   "metadata": {
    "id": "U1536jsbZNfv"
   },
   "outputs": [],
   "source": [
    "# Import required libraries\n",
    "from surprise import Reader, Dataset, accuracy\n",
    "from surprise.model_selection import train_test_split, cross_validate, LeaveOneOut\n",
    "from surprise import SVD, SVDpp, SlopeOne, NMF, NormalPredictor\n",
    "from surprise import KNNBaseline, KNNBasic, KNNWithMeans, KNNWithZScore\n",
    "from surprise import BaselineOnly, CoClustering\n",
    "# import recmetrics as recmetrics ---> https://morioh.com/p/7208a4c1946d\n",
    "\n",
    "import sklearn.metrics as metrics\n",
    "from sklearn.preprocessing import OneHotEncoder, LabelEncoder\n",
    "from sklearn.metrics import precision_recall_fscore_support\n",
    "from sklearn.metrics import accuracy_score, precision_score, recall_score, f1_score\n",
    "from sklearn.metrics import confusion_matrix\n",
    "import seaborn as sns\n",
    "\n",
    "\n",
    "import numpy as np\n",
    "import pandas as pd\n",
    "import matplotlib.pyplot as plt\n",
    "\n",
    "from plotly.offline import init_notebook_mode, plot, iplot\n",
    "import plotly.graph_objs as go"
   ]
  },
  {
   "attachments": {},
   "cell_type": "markdown",
   "metadata": {},
   "source": [
    "Note that in this example, we define a custom similarity measure user_similarity_with_features that takes in the user IDs and two dictionaries age_dict and sex_dict that map user IDs to their age and sex, respectively. The function computes a similarity score based on the difference in age and similarity in sex between the two users. The sim_options parameter is used to pass in these dictionaries and the custom similarity measure to the KNNWithMeans algorithm.\n",
    "\n",
    "Also note that in the cross_validate method, we set measures=['RMSE'] to evaluate the algorithm using RMSE as the evaluation metric. You can add additional evaluation metrics such as MAE, precision, and recall by adding them to the measures list."
   ]
  },
  {
   "cell_type": "code",
   "execution_count": 12,
   "metadata": {
    "id": "aL_k9Cy5paPT"
   },
   "outputs": [],
   "source": [
    "# https://github.com/NicolasHug/Surprise/issues/20 - see raw_ratings!!\n",
    "class CustomDataset(Dataset):\n",
    "    def __init__(self, df, reader):\n",
    "        self.df = df\n",
    "        self.raw_ratings = [(uid, iid, r, None) for (uid, iid, r) in\n",
    "                            zip(df['deputado_enc'], df['idVotacao'], df['vote_enc'])]\n",
    "        self.reader = reader\n",
    "    ## length of the dataset\n",
    "    def __len__(self):\n",
    "        return len(self.df)\n",
    "        \n",
    "    ## specific row from and includes the user characteristics as additional information in the form of a dictionary\n",
    "    def __getitem__(self, index):\n",
    "        deputado_enc, idVotacao, vote_enc, idade, gender_enc = self.df.iloc[index]\n",
    "        return deputado_enc, idVotacao, vote_enc, {'idade':idade, 'gender_enc':gender_enc}\n",
    "    \n",
    "    def get_user_characteristics(self, deputado_enc):\n",
    "        return self.df[self.df['deputado_enc'] == deputado_enc].iloc[0]['idade'], self.df[self.df['deputado_enc'] == deputado_enc].iloc[0]['gender_enc']"
   ]
  },
  {
   "cell_type": "code",
   "execution_count": 13,
   "metadata": {
    "id": "yGzjZ6odZNfx"
   },
   "outputs": [],
   "source": [
    "def evaluate_algorithms(trainset, testset, algorithms):\n",
    "    \"\"\"\n",
    "    Evaluate a list of algorithms on a given dataset using a train/test split.\n",
    "    \"\"\"\n",
    "    # Initialize dictionary to store results\n",
    "    results = {}\n",
    "    \n",
    "    # Iterate over all algorithms\n",
    "    for algorithm in algorithms:\n",
    "        # Train the algorithm on the training set\n",
    "        algorithm.fit(trainset)\n",
    "            \n",
    "        # Test the algorithm on the test set\n",
    "        predictions = algorithm.test(testset)\n",
    "\n",
    "        # Calculate evaluation metrics\n",
    "        rmse = accuracy.rmse(predictions)\n",
    "        mae = accuracy.mae(predictions)\n",
    "\n",
    "        # Store results in dictionary\n",
    "        results[algorithm.__class__.__name__]  = {\n",
    "            'test_rmse': rmse,\n",
    "            'test_mae': mae,\n",
    "        }\n",
    "    \n",
    "    # Convert dictionary to DataFrame and sort by RMSE\n",
    "    results = pd.DataFrame.from_dict(results, orient='index')\n",
    "    results = results.sort_values('test_rmse')\n",
    "    \n",
    "    return results\n",
    "\n",
    "def evaluate_algorithms_binary(trainset, testset, algorithms):\n",
    "    \"\"\"\n",
    "    Evaluate a list of algorithms on a given dataset using a train/test split with binary ratings.\n",
    "    \"\"\"\n",
    "    # Initialize dictionary to store results\n",
    "    results = {}\n",
    "    \n",
    "    # Iterate over all algorithms\n",
    "    for algorithm in algorithms:\n",
    "        # Train the algorithm on the training set\n",
    "        algorithm.fit(trainset)\n",
    "            \n",
    "        # Test the algorithm on the test set\n",
    "        predictions = algorithm.test(testset)\n",
    "        \n",
    "         # Calculate evaluation metrics\n",
    "        rmse = accuracy.rmse(predictions)\n",
    "        mae = accuracy.mae(predictions)\n",
    "        \n",
    "        # Convert the predicted ratings to binary values (0 or 1)\n",
    "        binary_predictions = [1 if p.est >= 0.5 else 0 for p in predictions]\n",
    "        binary_true_ratings = [1 if p.r_ui >= 0.5 else 0 for p in predictions]\n",
    "    \n",
    "        # Calculate evaluation metrics\n",
    "        acc = accuracy_score(binary_true_ratings, binary_predictions)\n",
    "        precision, recall, f1_score, _ = precision_recall_fscore_support(binary_true_ratings, binary_predictions, average='binary')\n",
    "        \n",
    "        # Generate the confusion matrix\n",
    "        tn, fp, fn, tp = confusion_matrix(binary_true_ratings, binary_predictions).ravel()\n",
    "        matrix = pd.DataFrame({'Actual 0': [tn, fn], 'Actual 1': [fp, tp]}, index=['Predicted 0', 'Predicted 1'])\n",
    "        \n",
    "        # Store results in dictionary\n",
    "        results[algorithm.__class__.__name__] = {\n",
    "            'accuracy': acc,\n",
    "            'precision': precision,\n",
    "            'recall': recall,\n",
    "            'f1_score': f1_score,\n",
    "            'test_rmse': rmse,\n",
    "            'test_mae': mae,\n",
    "        }\n",
    "    \n",
    "    # Convert dictionary to DataFrame and sort by F1 score\n",
    "    results = pd.DataFrame.from_dict(results, orient='index')\n",
    "#     matrix = pd.DataFrame.from_dict(matrix, orient=\"index\")\n",
    "    results = results.sort_values('f1_score', ascending=False)\n",
    "    \n",
    "    return results,matrix"
   ]
  },
  {
   "cell_type": "code",
   "execution_count": 14,
   "metadata": {},
   "outputs": [],
   "source": [
    "def knnModel2(k, trainset, testset):\n",
    "    # Train a KNN model\n",
    "    model_knn = KNNBasic(k=k, sim_options={'name': 'pearson_baseline', 'user_based': False})\n",
    "    model_knn.fit(trainset)\n",
    "    predictions = model_knn.test(testset)\n",
    "    rmse = accuracy.rmse(predictions)\n",
    "    acc = accuracy.mae(predictions)\n",
    "    return rmse, acc\n",
    "\n",
    "def plot_knn_results(trainset, testset, k_values):\n",
    "    \"\"\"\n",
    "    train and evaluate a KNN model for each k value in k_values, and plot the RMSE and MAE values\n",
    "    \"\"\"\n",
    "    results = pd.DataFrame(columns=['k', 'rmse', 'accuracy'])\n",
    "    for k in k_values:\n",
    "        rmse, acc = knnModel2(k, trainset, testset)\n",
    "        results = results.append({'k': k, 'rmse': rmse, 'accuracy': acc}, ignore_index=True)\n",
    "\n",
    "    ##Plot the RMSE and MAE values for each k\n",
    "    plt.plot(results['k'], results['rmse'], label='RMSE')\n",
    "    plt.plot(results['k'], results['accuracy'], label='MAE')\n",
    "    plt.xlabel('K')\n",
    "    plt.ylabel('Metric')\n",
    "    plt.legend()\n",
    "    plt.show()\n",
    "    return results \n",
    "\n",
    "def bslModel(trainset):\n",
    "    ## utilizes users past rating + general rating for a certain item \n",
    "    bsl_options = {'method': 'sgd',\n",
    "                   'learning_rate': .00005,\n",
    "                   'n_epochs': 20,\n",
    "                   'reg': 0.1,\n",
    "                   'reg_u': 0.2,\n",
    "                   'reg_i': 0.2,\n",
    "                   'verbose': False}\n",
    "\n",
    "    model = BaselineOnly(bsl_options = bsl_options)\n",
    "    model.fit(trainset)\n",
    "    predictions = model.test(testset)\n",
    "    rmse = accuracy.rmse(predictions)\n",
    "    return rmse\n",
    "\n",
    "def svdModel(trainset):\n",
    "     # Train an SVD model\n",
    "    model_svd = SVD(n_factors=100, biased=True, verbose=False)\n",
    "    model_svd.fit(trainset)\n",
    "    \n",
    "    # Evaluate the model using accuracy, precision, recall, and F1 score metrics\n",
    "    testset = trainset.build_anti_testset()\n",
    "    predictions = model_svd.test(testset)\n",
    "    acc = accuracy.mae(predictions)\n",
    "    \n",
    "    # Calculate the evaluation metrics\n",
    "    rmse = accuracy.rmse(predictions)\n",
    "    mae = accuracy.mae(predictions)\n",
    "    return rmse, mae\n",
    "\n",
    "def svdModel_binary(trainset):\n",
    "    # Train an SVD model\n",
    "    model_svd = SVD(n_factors=100, biased=True, verbose=False)\n",
    "    model_svd.fit(trainset)\n",
    "    \n",
    "    # Evaluate the model using accuracy, precision, recall, and F1 score metrics\n",
    "    testset = trainset.build_anti_testset()\n",
    "    predictions = model_svd.test(testset)\n",
    "    \n",
    "    # Convert the predicted ratings to binary values (0 or 1)\n",
    "    binary_predictions = [1 if p.est >= 0.5 else 0 for p in predictions]\n",
    "    binary_true_ratings = [1 if p.r_ui >= 0.5 else 0 for p in predictions]\n",
    "    \n",
    "    # Calculate the evaluation metrics\n",
    "    precision, recall, f1_score, _ = precision_recall_fscore_support(binary_true_ratings, binary_predictions, average='binary')\n",
    "\n",
    "    print(precision, recall, f1_score)"
   ]
  },
  {
   "cell_type": "code",
   "execution_count": 15,
   "metadata": {},
   "outputs": [],
   "source": [
    "##### DIFERENT TEST SIZES/K_VALUES FOR SVD AND KNN\n",
    "def evaluate_test_size(data, test_sizes, k_values):\n",
    "    # Create lists to store RMSE and MAE values for each test size and k value\n",
    "    results = []\n",
    "\n",
    "    # Iterate through each test size\n",
    "    for test_size in test_sizes:\n",
    "        # Split the data into a training set and a test set\n",
    "        trainset, testset = train_test_split(data, test_size=test_size, random_state=42)\n",
    "\n",
    "        for k in k_values:\n",
    "            # Model \n",
    "            algo = KNNBaseline(k=k)\n",
    "            algo.fit(trainset)\n",
    "            \n",
    "            predictions = algo.test(testset)\n",
    "            \n",
    "            # Convert the predicted ratings to binary values (0 or 1)\n",
    "            binary_predictions = [1 if p.est >= 0.5 else 0 for p in predictions]\n",
    "            binary_true_ratings = [1 if p.r_ui >= 0.5 else 0 for p in predictions]\n",
    "\n",
    "            # Calculate evaluation metrics\n",
    "            acc = accuracy_score(binary_true_ratings, binary_predictions)\n",
    "            precision, recall, f1_score, _ = precision_recall_fscore_support(binary_true_ratings, binary_predictions, average='binary')\n",
    "\n",
    "            result = {'Test Size': test_size, 'K': k, 'accuracy': acc, 'precision': precision, 'recall':recall, 'f1_score':f1_score}\n",
    "            results.append(result)\n",
    "\n",
    "    # Convert the results list to a DataFrame\n",
    "    results_df = pd.DataFrame(results)\n",
    "\n",
    "    # Return the results DataFrame\n",
    "    return results_df\n",
    "\n",
    "def test_SVD(data, test_sizes):   \n",
    "    \n",
    "    # Define the SVD model\n",
    "    model = SVD()\n",
    "    \n",
    "    # Define the list to store the results\n",
    "    results = []\n",
    "\n",
    "    # Iterate over the test sizes and test the model\n",
    "    for test_size in test_sizes:\n",
    "#         start = datetime.datetime.now()\n",
    "\n",
    "        # Split the data into a training set and a test set\n",
    "        trainset, testset = train_test_split(data, test_size=test_size, random_state=42)\n",
    "        \n",
    "        model.fit(trainset)\n",
    "            \n",
    "        predictions = model.test(testset)\n",
    "\n",
    "        #RMSE and MAE scores\n",
    "        rmse = np.sqrt(np.mean([(pred.r_ui - pred.est)**2 for pred in predictions]))\n",
    "        mae = np.mean([abs(pred.r_ui - pred.est) for pred in predictions])\n",
    "#         cv_time = str(datetime.datetime.now() - start)[:-3]\n",
    "\n",
    "        # Create a dictionary with the test size, RMSE, MAE, training time, and any other metrics\n",
    "        result = {'Test Size': test_size, 'RMSE': rmse, 'MAE': mae}\n",
    "        \n",
    "        # Append the dictionary to the results list\n",
    "        results.append(result)\n",
    "        \n",
    "    # Convert the results list to a DataFrame\n",
    "    results = pd.DataFrame(results)\n",
    "\n",
    "    return results"
   ]
  },
  {
   "cell_type": "code",
   "execution_count": 16,
   "metadata": {
    "colab": {
     "base_uri": "https://localhost:8080/",
     "height": 424
    },
    "id": "Jfzy6QHtZNfz",
    "outputId": "cd4fbea6-9278-49af-98df-1bab3e0f470a"
   },
   "outputs": [
    {
     "data": {
      "text/html": [
       "<div>\n",
       "<style scoped>\n",
       "    .dataframe tbody tr th:only-of-type {\n",
       "        vertical-align: middle;\n",
       "    }\n",
       "\n",
       "    .dataframe tbody tr th {\n",
       "        vertical-align: top;\n",
       "    }\n",
       "\n",
       "    .dataframe thead th {\n",
       "        text-align: right;\n",
       "    }\n",
       "</style>\n",
       "<table border=\"1\" class=\"dataframe\">\n",
       "  <thead>\n",
       "    <tr style=\"text-align: right;\">\n",
       "      <th></th>\n",
       "      <th>Unnamed: 0</th>\n",
       "      <th>idVotacao</th>\n",
       "      <th>siglaOrgao</th>\n",
       "      <th>idEvento</th>\n",
       "      <th>aprovacao</th>\n",
       "      <th>uriVotacao</th>\n",
       "      <th>voto</th>\n",
       "      <th>deputado_id</th>\n",
       "      <th>deputado_nome</th>\n",
       "      <th>deputado_siglaPartido</th>\n",
       "      <th>...</th>\n",
       "      <th>idLegislaturaFinal</th>\n",
       "      <th>siglaSexo</th>\n",
       "      <th>municipioNascimento</th>\n",
       "      <th>idade</th>\n",
       "      <th>new</th>\n",
       "      <th>score_accordingly</th>\n",
       "      <th>deputado_enc</th>\n",
       "      <th>orientacao_enc</th>\n",
       "      <th>gender_enc</th>\n",
       "      <th>vote_enc</th>\n",
       "    </tr>\n",
       "  </thead>\n",
       "  <tbody>\n",
       "    <tr>\n",
       "      <th>0</th>\n",
       "      <td>0</td>\n",
       "      <td>2312874-9</td>\n",
       "      <td>PLEN</td>\n",
       "      <td>64653</td>\n",
       "      <td>1.0</td>\n",
       "      <td>https://dadosabertos.camara.leg.br/api/v2/vota...</td>\n",
       "      <td>Sim</td>\n",
       "      <td>204554</td>\n",
       "      <td>Abílio Santana</td>\n",
       "      <td>PL</td>\n",
       "      <td>...</td>\n",
       "      <td>56</td>\n",
       "      <td>M</td>\n",
       "      <td>Salvador</td>\n",
       "      <td>58.0</td>\n",
       "      <td>0</td>\n",
       "      <td>72.56</td>\n",
       "      <td>2</td>\n",
       "      <td>1</td>\n",
       "      <td>1</td>\n",
       "      <td>4</td>\n",
       "    </tr>\n",
       "    <tr>\n",
       "      <th>1</th>\n",
       "      <td>1</td>\n",
       "      <td>46249-294</td>\n",
       "      <td>PLEN</td>\n",
       "      <td>64653</td>\n",
       "      <td>0.0</td>\n",
       "      <td>https://dadosabertos.camara.leg.br/api/v2/vota...</td>\n",
       "      <td>Não</td>\n",
       "      <td>204554</td>\n",
       "      <td>Abílio Santana</td>\n",
       "      <td>PL</td>\n",
       "      <td>...</td>\n",
       "      <td>56</td>\n",
       "      <td>M</td>\n",
       "      <td>Salvador</td>\n",
       "      <td>58.0</td>\n",
       "      <td>1</td>\n",
       "      <td>72.56</td>\n",
       "      <td>2</td>\n",
       "      <td>1</td>\n",
       "      <td>1</td>\n",
       "      <td>2</td>\n",
       "    </tr>\n",
       "    <tr>\n",
       "      <th>2</th>\n",
       "      <td>2</td>\n",
       "      <td>46249-297</td>\n",
       "      <td>PLEN</td>\n",
       "      <td>64653</td>\n",
       "      <td>1.0</td>\n",
       "      <td>https://dadosabertos.camara.leg.br/api/v2/vota...</td>\n",
       "      <td>Sim</td>\n",
       "      <td>204554</td>\n",
       "      <td>Abílio Santana</td>\n",
       "      <td>PL</td>\n",
       "      <td>...</td>\n",
       "      <td>56</td>\n",
       "      <td>M</td>\n",
       "      <td>Salvador</td>\n",
       "      <td>58.0</td>\n",
       "      <td>1</td>\n",
       "      <td>72.56</td>\n",
       "      <td>2</td>\n",
       "      <td>3</td>\n",
       "      <td>1</td>\n",
       "      <td>4</td>\n",
       "    </tr>\n",
       "    <tr>\n",
       "      <th>3</th>\n",
       "      <td>3</td>\n",
       "      <td>46249-312</td>\n",
       "      <td>PLEN</td>\n",
       "      <td>64653</td>\n",
       "      <td>2.0</td>\n",
       "      <td>https://dadosabertos.camara.leg.br/api/v2/vota...</td>\n",
       "      <td>Sim</td>\n",
       "      <td>204554</td>\n",
       "      <td>Abílio Santana</td>\n",
       "      <td>PL</td>\n",
       "      <td>...</td>\n",
       "      <td>56</td>\n",
       "      <td>M</td>\n",
       "      <td>Salvador</td>\n",
       "      <td>58.0</td>\n",
       "      <td>0</td>\n",
       "      <td>72.56</td>\n",
       "      <td>2</td>\n",
       "      <td>1</td>\n",
       "      <td>1</td>\n",
       "      <td>4</td>\n",
       "    </tr>\n",
       "    <tr>\n",
       "      <th>4</th>\n",
       "      <td>4</td>\n",
       "      <td>46249-316</td>\n",
       "      <td>PLEN</td>\n",
       "      <td>64653</td>\n",
       "      <td>0.0</td>\n",
       "      <td>https://dadosabertos.camara.leg.br/api/v2/vota...</td>\n",
       "      <td>Não</td>\n",
       "      <td>204554</td>\n",
       "      <td>Abílio Santana</td>\n",
       "      <td>PL</td>\n",
       "      <td>...</td>\n",
       "      <td>56</td>\n",
       "      <td>M</td>\n",
       "      <td>Salvador</td>\n",
       "      <td>58.0</td>\n",
       "      <td>1</td>\n",
       "      <td>72.56</td>\n",
       "      <td>2</td>\n",
       "      <td>1</td>\n",
       "      <td>1</td>\n",
       "      <td>2</td>\n",
       "    </tr>\n",
       "    <tr>\n",
       "      <th>...</th>\n",
       "      <td>...</td>\n",
       "      <td>...</td>\n",
       "      <td>...</td>\n",
       "      <td>...</td>\n",
       "      <td>...</td>\n",
       "      <td>...</td>\n",
       "      <td>...</td>\n",
       "      <td>...</td>\n",
       "      <td>...</td>\n",
       "      <td>...</td>\n",
       "      <td>...</td>\n",
       "      <td>...</td>\n",
       "      <td>...</td>\n",
       "      <td>...</td>\n",
       "      <td>...</td>\n",
       "      <td>...</td>\n",
       "      <td>...</td>\n",
       "      <td>...</td>\n",
       "      <td>...</td>\n",
       "      <td>...</td>\n",
       "      <td>...</td>\n",
       "    </tr>\n",
       "    <tr>\n",
       "      <th>112151</th>\n",
       "      <td>112151</td>\n",
       "      <td>2323617-49</td>\n",
       "      <td>PLEN</td>\n",
       "      <td>66394</td>\n",
       "      <td>2.0</td>\n",
       "      <td>https://dadosabertos.camara.leg.br/api/v2/vota...</td>\n",
       "      <td>Sim</td>\n",
       "      <td>122466</td>\n",
       "      <td>Ronaldo Martins</td>\n",
       "      <td>REPUBLICANOS</td>\n",
       "      <td>...</td>\n",
       "      <td>56</td>\n",
       "      <td>M</td>\n",
       "      <td>São Paulo</td>\n",
       "      <td>45.0</td>\n",
       "      <td>0</td>\n",
       "      <td>68.00</td>\n",
       "      <td>317</td>\n",
       "      <td>0</td>\n",
       "      <td>1</td>\n",
       "      <td>4</td>\n",
       "    </tr>\n",
       "    <tr>\n",
       "      <th>112152</th>\n",
       "      <td>112152</td>\n",
       "      <td>2323617-56</td>\n",
       "      <td>PLEN</td>\n",
       "      <td>66394</td>\n",
       "      <td>0.0</td>\n",
       "      <td>https://dadosabertos.camara.leg.br/api/v2/vota...</td>\n",
       "      <td>Não</td>\n",
       "      <td>122466</td>\n",
       "      <td>Ronaldo Martins</td>\n",
       "      <td>REPUBLICANOS</td>\n",
       "      <td>...</td>\n",
       "      <td>56</td>\n",
       "      <td>M</td>\n",
       "      <td>São Paulo</td>\n",
       "      <td>45.0</td>\n",
       "      <td>1</td>\n",
       "      <td>68.00</td>\n",
       "      <td>317</td>\n",
       "      <td>1</td>\n",
       "      <td>1</td>\n",
       "      <td>2</td>\n",
       "    </tr>\n",
       "    <tr>\n",
       "      <th>112153</th>\n",
       "      <td>112153</td>\n",
       "      <td>2314962-33</td>\n",
       "      <td>PLEN</td>\n",
       "      <td>66455</td>\n",
       "      <td>1.0</td>\n",
       "      <td>https://dadosabertos.camara.leg.br/api/v2/vota...</td>\n",
       "      <td>Sim</td>\n",
       "      <td>122466</td>\n",
       "      <td>Ronaldo Martins</td>\n",
       "      <td>REPUBLICANOS</td>\n",
       "      <td>...</td>\n",
       "      <td>56</td>\n",
       "      <td>M</td>\n",
       "      <td>São Paulo</td>\n",
       "      <td>45.0</td>\n",
       "      <td>1</td>\n",
       "      <td>68.00</td>\n",
       "      <td>317</td>\n",
       "      <td>3</td>\n",
       "      <td>1</td>\n",
       "      <td>4</td>\n",
       "    </tr>\n",
       "    <tr>\n",
       "      <th>112154</th>\n",
       "      <td>112154</td>\n",
       "      <td>2326278-38</td>\n",
       "      <td>PLEN</td>\n",
       "      <td>66439</td>\n",
       "      <td>0.0</td>\n",
       "      <td>https://dadosabertos.camara.leg.br/api/v2/vota...</td>\n",
       "      <td>Não</td>\n",
       "      <td>205535</td>\n",
       "      <td>Patricia Ferraz</td>\n",
       "      <td>PODE</td>\n",
       "      <td>...</td>\n",
       "      <td>56</td>\n",
       "      <td>F</td>\n",
       "      <td>Belo Horizonte</td>\n",
       "      <td>43.0</td>\n",
       "      <td>1</td>\n",
       "      <td>40.76</td>\n",
       "      <td>277</td>\n",
       "      <td>1</td>\n",
       "      <td>0</td>\n",
       "      <td>2</td>\n",
       "    </tr>\n",
       "    <tr>\n",
       "      <th>112155</th>\n",
       "      <td>112155</td>\n",
       "      <td>2314962-33</td>\n",
       "      <td>PLEN</td>\n",
       "      <td>66455</td>\n",
       "      <td>1.0</td>\n",
       "      <td>https://dadosabertos.camara.leg.br/api/v2/vota...</td>\n",
       "      <td>Sim</td>\n",
       "      <td>205535</td>\n",
       "      <td>Patricia Ferraz</td>\n",
       "      <td>PODE</td>\n",
       "      <td>...</td>\n",
       "      <td>56</td>\n",
       "      <td>F</td>\n",
       "      <td>Belo Horizonte</td>\n",
       "      <td>43.0</td>\n",
       "      <td>1</td>\n",
       "      <td>40.76</td>\n",
       "      <td>277</td>\n",
       "      <td>3</td>\n",
       "      <td>0</td>\n",
       "      <td>4</td>\n",
       "    </tr>\n",
       "  </tbody>\n",
       "</table>\n",
       "<p>112156 rows × 22 columns</p>\n",
       "</div>"
      ],
      "text/plain": [
       "        Unnamed: 0   idVotacao siglaOrgao  idEvento  aprovacao  \\\n",
       "0                0   2312874-9       PLEN     64653        1.0   \n",
       "1                1   46249-294       PLEN     64653        0.0   \n",
       "2                2   46249-297       PLEN     64653        1.0   \n",
       "3                3   46249-312       PLEN     64653        2.0   \n",
       "4                4   46249-316       PLEN     64653        0.0   \n",
       "...            ...         ...        ...       ...        ...   \n",
       "112151      112151  2323617-49       PLEN     66394        2.0   \n",
       "112152      112152  2323617-56       PLEN     66394        0.0   \n",
       "112153      112153  2314962-33       PLEN     66455        1.0   \n",
       "112154      112154  2326278-38       PLEN     66439        0.0   \n",
       "112155      112155  2314962-33       PLEN     66455        1.0   \n",
       "\n",
       "                                               uriVotacao voto  deputado_id  \\\n",
       "0       https://dadosabertos.camara.leg.br/api/v2/vota...  Sim       204554   \n",
       "1       https://dadosabertos.camara.leg.br/api/v2/vota...  Não       204554   \n",
       "2       https://dadosabertos.camara.leg.br/api/v2/vota...  Sim       204554   \n",
       "3       https://dadosabertos.camara.leg.br/api/v2/vota...  Sim       204554   \n",
       "4       https://dadosabertos.camara.leg.br/api/v2/vota...  Não       204554   \n",
       "...                                                   ...  ...          ...   \n",
       "112151  https://dadosabertos.camara.leg.br/api/v2/vota...  Sim       122466   \n",
       "112152  https://dadosabertos.camara.leg.br/api/v2/vota...  Não       122466   \n",
       "112153  https://dadosabertos.camara.leg.br/api/v2/vota...  Sim       122466   \n",
       "112154  https://dadosabertos.camara.leg.br/api/v2/vota...  Não       205535   \n",
       "112155  https://dadosabertos.camara.leg.br/api/v2/vota...  Sim       205535   \n",
       "\n",
       "          deputado_nome deputado_siglaPartido  ... idLegislaturaFinal  \\\n",
       "0        Abílio Santana                    PL  ...                 56   \n",
       "1        Abílio Santana                    PL  ...                 56   \n",
       "2        Abílio Santana                    PL  ...                 56   \n",
       "3        Abílio Santana                    PL  ...                 56   \n",
       "4        Abílio Santana                    PL  ...                 56   \n",
       "...                 ...                   ...  ...                ...   \n",
       "112151  Ronaldo Martins          REPUBLICANOS  ...                 56   \n",
       "112152  Ronaldo Martins          REPUBLICANOS  ...                 56   \n",
       "112153  Ronaldo Martins          REPUBLICANOS  ...                 56   \n",
       "112154  Patricia Ferraz                  PODE  ...                 56   \n",
       "112155  Patricia Ferraz                  PODE  ...                 56   \n",
       "\n",
       "        siglaSexo  municipioNascimento idade new  score_accordingly  \\\n",
       "0               M             Salvador  58.0   0              72.56   \n",
       "1               M             Salvador  58.0   1              72.56   \n",
       "2               M             Salvador  58.0   1              72.56   \n",
       "3               M             Salvador  58.0   0              72.56   \n",
       "4               M             Salvador  58.0   1              72.56   \n",
       "...           ...                  ...   ...  ..                ...   \n",
       "112151          M            São Paulo  45.0   0              68.00   \n",
       "112152          M            São Paulo  45.0   1              68.00   \n",
       "112153          M            São Paulo  45.0   1              68.00   \n",
       "112154          F       Belo Horizonte  43.0   1              40.76   \n",
       "112155          F       Belo Horizonte  43.0   1              40.76   \n",
       "\n",
       "        deputado_enc  orientacao_enc  gender_enc  vote_enc  \n",
       "0                  2               1           1         4  \n",
       "1                  2               1           1         2  \n",
       "2                  2               3           1         4  \n",
       "3                  2               1           1         4  \n",
       "4                  2               1           1         2  \n",
       "...              ...             ...         ...       ...  \n",
       "112151           317               0           1         4  \n",
       "112152           317               1           1         2  \n",
       "112153           317               3           1         4  \n",
       "112154           277               1           0         2  \n",
       "112155           277               3           0         4  \n",
       "\n",
       "[112156 rows x 22 columns]"
      ]
     },
     "execution_count": 16,
     "metadata": {},
     "output_type": "execute_result"
    }
   ],
   "source": [
    "# Load the data into a pandas dataframe\n",
    "dfP = pd.read_csv('..\\data\\preprocessed\\dataVoting.csv')\n",
    "dfP"
   ]
  },
  {
   "cell_type": "code",
   "execution_count": 17,
   "metadata": {},
   "outputs": [
    {
     "data": {
      "application/vnd.plotly.v1+json": {
       "config": {
        "linkText": "Export to plot.ly",
        "plotlyServerURL": "https://plot.ly",
        "showLink": false
       },
       "data": [
        {
         "text": [
          "55.4 %",
          "1.0 %",
          "43.3 %",
          "0.1 %",
          "0.1 %"
         ],
         "textfont": {
          "color": "#000000"
         },
         "textposition": "auto",
         "type": "bar",
         "x": [
          4,
          3,
          2,
          1,
          0
         ],
         "y": [
          62169,
          1113,
          48579,
          146,
          149
         ]
        }
       ],
       "layout": {
        "template": {
         "data": {
          "bar": [
           {
            "error_x": {
             "color": "#2a3f5f"
            },
            "error_y": {
             "color": "#2a3f5f"
            },
            "marker": {
             "line": {
              "color": "#E5ECF6",
              "width": 0.5
             }
            },
            "type": "bar"
           }
          ],
          "barpolar": [
           {
            "marker": {
             "line": {
              "color": "#E5ECF6",
              "width": 0.5
             }
            },
            "type": "barpolar"
           }
          ],
          "carpet": [
           {
            "aaxis": {
             "endlinecolor": "#2a3f5f",
             "gridcolor": "white",
             "linecolor": "white",
             "minorgridcolor": "white",
             "startlinecolor": "#2a3f5f"
            },
            "baxis": {
             "endlinecolor": "#2a3f5f",
             "gridcolor": "white",
             "linecolor": "white",
             "minorgridcolor": "white",
             "startlinecolor": "#2a3f5f"
            },
            "type": "carpet"
           }
          ],
          "choropleth": [
           {
            "colorbar": {
             "outlinewidth": 0,
             "ticks": ""
            },
            "type": "choropleth"
           }
          ],
          "contour": [
           {
            "colorbar": {
             "outlinewidth": 0,
             "ticks": ""
            },
            "colorscale": [
             [
              0,
              "#0d0887"
             ],
             [
              0.1111111111111111,
              "#46039f"
             ],
             [
              0.2222222222222222,
              "#7201a8"
             ],
             [
              0.3333333333333333,
              "#9c179e"
             ],
             [
              0.4444444444444444,
              "#bd3786"
             ],
             [
              0.5555555555555556,
              "#d8576b"
             ],
             [
              0.6666666666666666,
              "#ed7953"
             ],
             [
              0.7777777777777778,
              "#fb9f3a"
             ],
             [
              0.8888888888888888,
              "#fdca26"
             ],
             [
              1,
              "#f0f921"
             ]
            ],
            "type": "contour"
           }
          ],
          "contourcarpet": [
           {
            "colorbar": {
             "outlinewidth": 0,
             "ticks": ""
            },
            "type": "contourcarpet"
           }
          ],
          "heatmap": [
           {
            "colorbar": {
             "outlinewidth": 0,
             "ticks": ""
            },
            "colorscale": [
             [
              0,
              "#0d0887"
             ],
             [
              0.1111111111111111,
              "#46039f"
             ],
             [
              0.2222222222222222,
              "#7201a8"
             ],
             [
              0.3333333333333333,
              "#9c179e"
             ],
             [
              0.4444444444444444,
              "#bd3786"
             ],
             [
              0.5555555555555556,
              "#d8576b"
             ],
             [
              0.6666666666666666,
              "#ed7953"
             ],
             [
              0.7777777777777778,
              "#fb9f3a"
             ],
             [
              0.8888888888888888,
              "#fdca26"
             ],
             [
              1,
              "#f0f921"
             ]
            ],
            "type": "heatmap"
           }
          ],
          "heatmapgl": [
           {
            "colorbar": {
             "outlinewidth": 0,
             "ticks": ""
            },
            "colorscale": [
             [
              0,
              "#0d0887"
             ],
             [
              0.1111111111111111,
              "#46039f"
             ],
             [
              0.2222222222222222,
              "#7201a8"
             ],
             [
              0.3333333333333333,
              "#9c179e"
             ],
             [
              0.4444444444444444,
              "#bd3786"
             ],
             [
              0.5555555555555556,
              "#d8576b"
             ],
             [
              0.6666666666666666,
              "#ed7953"
             ],
             [
              0.7777777777777778,
              "#fb9f3a"
             ],
             [
              0.8888888888888888,
              "#fdca26"
             ],
             [
              1,
              "#f0f921"
             ]
            ],
            "type": "heatmapgl"
           }
          ],
          "histogram": [
           {
            "marker": {
             "colorbar": {
              "outlinewidth": 0,
              "ticks": ""
             }
            },
            "type": "histogram"
           }
          ],
          "histogram2d": [
           {
            "colorbar": {
             "outlinewidth": 0,
             "ticks": ""
            },
            "colorscale": [
             [
              0,
              "#0d0887"
             ],
             [
              0.1111111111111111,
              "#46039f"
             ],
             [
              0.2222222222222222,
              "#7201a8"
             ],
             [
              0.3333333333333333,
              "#9c179e"
             ],
             [
              0.4444444444444444,
              "#bd3786"
             ],
             [
              0.5555555555555556,
              "#d8576b"
             ],
             [
              0.6666666666666666,
              "#ed7953"
             ],
             [
              0.7777777777777778,
              "#fb9f3a"
             ],
             [
              0.8888888888888888,
              "#fdca26"
             ],
             [
              1,
              "#f0f921"
             ]
            ],
            "type": "histogram2d"
           }
          ],
          "histogram2dcontour": [
           {
            "colorbar": {
             "outlinewidth": 0,
             "ticks": ""
            },
            "colorscale": [
             [
              0,
              "#0d0887"
             ],
             [
              0.1111111111111111,
              "#46039f"
             ],
             [
              0.2222222222222222,
              "#7201a8"
             ],
             [
              0.3333333333333333,
              "#9c179e"
             ],
             [
              0.4444444444444444,
              "#bd3786"
             ],
             [
              0.5555555555555556,
              "#d8576b"
             ],
             [
              0.6666666666666666,
              "#ed7953"
             ],
             [
              0.7777777777777778,
              "#fb9f3a"
             ],
             [
              0.8888888888888888,
              "#fdca26"
             ],
             [
              1,
              "#f0f921"
             ]
            ],
            "type": "histogram2dcontour"
           }
          ],
          "mesh3d": [
           {
            "colorbar": {
             "outlinewidth": 0,
             "ticks": ""
            },
            "type": "mesh3d"
           }
          ],
          "parcoords": [
           {
            "line": {
             "colorbar": {
              "outlinewidth": 0,
              "ticks": ""
             }
            },
            "type": "parcoords"
           }
          ],
          "pie": [
           {
            "automargin": true,
            "type": "pie"
           }
          ],
          "scatter": [
           {
            "marker": {
             "colorbar": {
              "outlinewidth": 0,
              "ticks": ""
             }
            },
            "type": "scatter"
           }
          ],
          "scatter3d": [
           {
            "line": {
             "colorbar": {
              "outlinewidth": 0,
              "ticks": ""
             }
            },
            "marker": {
             "colorbar": {
              "outlinewidth": 0,
              "ticks": ""
             }
            },
            "type": "scatter3d"
           }
          ],
          "scattercarpet": [
           {
            "marker": {
             "colorbar": {
              "outlinewidth": 0,
              "ticks": ""
             }
            },
            "type": "scattercarpet"
           }
          ],
          "scattergeo": [
           {
            "marker": {
             "colorbar": {
              "outlinewidth": 0,
              "ticks": ""
             }
            },
            "type": "scattergeo"
           }
          ],
          "scattergl": [
           {
            "marker": {
             "colorbar": {
              "outlinewidth": 0,
              "ticks": ""
             }
            },
            "type": "scattergl"
           }
          ],
          "scattermapbox": [
           {
            "marker": {
             "colorbar": {
              "outlinewidth": 0,
              "ticks": ""
             }
            },
            "type": "scattermapbox"
           }
          ],
          "scatterpolar": [
           {
            "marker": {
             "colorbar": {
              "outlinewidth": 0,
              "ticks": ""
             }
            },
            "type": "scatterpolar"
           }
          ],
          "scatterpolargl": [
           {
            "marker": {
             "colorbar": {
              "outlinewidth": 0,
              "ticks": ""
             }
            },
            "type": "scatterpolargl"
           }
          ],
          "scatterternary": [
           {
            "marker": {
             "colorbar": {
              "outlinewidth": 0,
              "ticks": ""
             }
            },
            "type": "scatterternary"
           }
          ],
          "surface": [
           {
            "colorbar": {
             "outlinewidth": 0,
             "ticks": ""
            },
            "colorscale": [
             [
              0,
              "#0d0887"
             ],
             [
              0.1111111111111111,
              "#46039f"
             ],
             [
              0.2222222222222222,
              "#7201a8"
             ],
             [
              0.3333333333333333,
              "#9c179e"
             ],
             [
              0.4444444444444444,
              "#bd3786"
             ],
             [
              0.5555555555555556,
              "#d8576b"
             ],
             [
              0.6666666666666666,
              "#ed7953"
             ],
             [
              0.7777777777777778,
              "#fb9f3a"
             ],
             [
              0.8888888888888888,
              "#fdca26"
             ],
             [
              1,
              "#f0f921"
             ]
            ],
            "type": "surface"
           }
          ],
          "table": [
           {
            "cells": {
             "fill": {
              "color": "#EBF0F8"
             },
             "line": {
              "color": "white"
             }
            },
            "header": {
             "fill": {
              "color": "#C8D4E3"
             },
             "line": {
              "color": "white"
             }
            },
            "type": "table"
           }
          ]
         },
         "layout": {
          "annotationdefaults": {
           "arrowcolor": "#2a3f5f",
           "arrowhead": 0,
           "arrowwidth": 1
          },
          "autotypenumbers": "strict",
          "coloraxis": {
           "colorbar": {
            "outlinewidth": 0,
            "ticks": ""
           }
          },
          "colorscale": {
           "diverging": [
            [
             0,
             "#8e0152"
            ],
            [
             0.1,
             "#c51b7d"
            ],
            [
             0.2,
             "#de77ae"
            ],
            [
             0.3,
             "#f1b6da"
            ],
            [
             0.4,
             "#fde0ef"
            ],
            [
             0.5,
             "#f7f7f7"
            ],
            [
             0.6,
             "#e6f5d0"
            ],
            [
             0.7,
             "#b8e186"
            ],
            [
             0.8,
             "#7fbc41"
            ],
            [
             0.9,
             "#4d9221"
            ],
            [
             1,
             "#276419"
            ]
           ],
           "sequential": [
            [
             0,
             "#0d0887"
            ],
            [
             0.1111111111111111,
             "#46039f"
            ],
            [
             0.2222222222222222,
             "#7201a8"
            ],
            [
             0.3333333333333333,
             "#9c179e"
            ],
            [
             0.4444444444444444,
             "#bd3786"
            ],
            [
             0.5555555555555556,
             "#d8576b"
            ],
            [
             0.6666666666666666,
             "#ed7953"
            ],
            [
             0.7777777777777778,
             "#fb9f3a"
            ],
            [
             0.8888888888888888,
             "#fdca26"
            ],
            [
             1,
             "#f0f921"
            ]
           ],
           "sequentialminus": [
            [
             0,
             "#0d0887"
            ],
            [
             0.1111111111111111,
             "#46039f"
            ],
            [
             0.2222222222222222,
             "#7201a8"
            ],
            [
             0.3333333333333333,
             "#9c179e"
            ],
            [
             0.4444444444444444,
             "#bd3786"
            ],
            [
             0.5555555555555556,
             "#d8576b"
            ],
            [
             0.6666666666666666,
             "#ed7953"
            ],
            [
             0.7777777777777778,
             "#fb9f3a"
            ],
            [
             0.8888888888888888,
             "#fdca26"
            ],
            [
             1,
             "#f0f921"
            ]
           ]
          },
          "colorway": [
           "#636efa",
           "#EF553B",
           "#00cc96",
           "#ab63fa",
           "#FFA15A",
           "#19d3f3",
           "#FF6692",
           "#B6E880",
           "#FF97FF",
           "#FECB52"
          ],
          "font": {
           "color": "#2a3f5f"
          },
          "geo": {
           "bgcolor": "white",
           "lakecolor": "white",
           "landcolor": "#E5ECF6",
           "showlakes": true,
           "showland": true,
           "subunitcolor": "white"
          },
          "hoverlabel": {
           "align": "left"
          },
          "hovermode": "closest",
          "mapbox": {
           "style": "light"
          },
          "paper_bgcolor": "white",
          "plot_bgcolor": "#E5ECF6",
          "polar": {
           "angularaxis": {
            "gridcolor": "white",
            "linecolor": "white",
            "ticks": ""
           },
           "bgcolor": "#E5ECF6",
           "radialaxis": {
            "gridcolor": "white",
            "linecolor": "white",
            "ticks": ""
           }
          },
          "scene": {
           "xaxis": {
            "backgroundcolor": "#E5ECF6",
            "gridcolor": "white",
            "gridwidth": 2,
            "linecolor": "white",
            "showbackground": true,
            "ticks": "",
            "zerolinecolor": "white"
           },
           "yaxis": {
            "backgroundcolor": "#E5ECF6",
            "gridcolor": "white",
            "gridwidth": 2,
            "linecolor": "white",
            "showbackground": true,
            "ticks": "",
            "zerolinecolor": "white"
           },
           "zaxis": {
            "backgroundcolor": "#E5ECF6",
            "gridcolor": "white",
            "gridwidth": 2,
            "linecolor": "white",
            "showbackground": true,
            "ticks": "",
            "zerolinecolor": "white"
           }
          },
          "shapedefaults": {
           "line": {
            "color": "#2a3f5f"
           }
          },
          "ternary": {
           "aaxis": {
            "gridcolor": "white",
            "linecolor": "white",
            "ticks": ""
           },
           "baxis": {
            "gridcolor": "white",
            "linecolor": "white",
            "ticks": ""
           },
           "bgcolor": "#E5ECF6",
           "caxis": {
            "gridcolor": "white",
            "linecolor": "white",
            "ticks": ""
           }
          },
          "title": {
           "x": 0.05
          },
          "xaxis": {
           "automargin": true,
           "gridcolor": "white",
           "linecolor": "white",
           "ticks": "",
           "title": {
            "standoff": 15
           },
           "zerolinecolor": "white",
           "zerolinewidth": 2
          },
          "yaxis": {
           "automargin": true,
           "gridcolor": "white",
           "linecolor": "white",
           "ticks": "",
           "title": {
            "standoff": 15
           },
           "zerolinecolor": "white",
           "zerolinewidth": 2
          }
         }
        },
        "title": {
         "text": "Distribution Of 112156 vote-ratings"
        },
        "xaxis": {
         "title": {
          "text": "Rating"
         }
        },
        "yaxis": {
         "title": {
          "text": "Count"
         }
        }
       }
      }
     },
     "metadata": {},
     "output_type": "display_data"
    }
   ],
   "source": [
    "data = dfP['vote_enc'].value_counts().sort_index(ascending=False)\n",
    "trace = go.Bar(x = data.index,\n",
    "               text = ['{:.1f} %'.format(val) for val in (data.values / dfP.shape[0] * 100)],\n",
    "               textposition = 'auto',\n",
    "               textfont = dict(color = '#000000'),\n",
    "               y = data.values,\n",
    "               )\n",
    "# Create layout\n",
    "layout = dict(title = 'Distribution Of {} vote-ratings'.format(dfP.shape[0]),\n",
    "              xaxis = dict(title = 'Rating'),\n",
    "              yaxis = dict(title = 'Count'))\n",
    "# Create plot\n",
    "fig = go.Figure(data=[trace], layout=layout)\n",
    "iplot(fig)"
   ]
  },
  {
   "attachments": {},
   "cell_type": "markdown",
   "metadata": {},
   "source": [
    "# With ALL votes - Continuous Rating (0-4)"
   ]
  },
  {
   "cell_type": "code",
   "execution_count": 18,
   "metadata": {
    "id": "tPDlEZxdZNf1"
   },
   "outputs": [],
   "source": [
    "# Create the reader\n",
    "reader = Reader(rating_scale=(0, 4))\n",
    "# Load the data into a dataset\n",
    "data = Dataset.load_from_df(dfP[['deputado_enc', 'idVotacao', 'vote_enc']], reader)\n",
    "\n",
    "# Split the data into a training set and a test set\n",
    "trainset, testset = train_test_split(data, test_size=0.25, random_state=42)"
   ]
  },
  {
   "cell_type": "code",
   "execution_count": 19,
   "metadata": {},
   "outputs": [
    {
     "name": "stdout",
     "output_type": "stream",
     "text": [
      "Number of users:  368 \n",
      "\n",
      "Number of items:  472 \n",
      "\n"
     ]
    }
   ],
   "source": [
    "print('Number of users: ', trainset.n_users, '\\n')\n",
    "print('Number of items: ', trainset.n_items, '\\n')"
   ]
  },
  {
   "attachments": {},
   "cell_type": "markdown",
   "metadata": {
    "id": "EItDklT8SONs"
   },
   "source": [
    "##### KNN MODEL - ratings 0-4, with previous voting "
   ]
  },
  {
   "cell_type": "code",
   "execution_count": 20,
   "metadata": {},
   "outputs": [
    {
     "name": "stdout",
     "output_type": "stream",
     "text": [
      "Estimating biases using als...\n",
      "Computing the pearson_baseline similarity matrix...\n",
      "Done computing similarity matrix.\n",
      "RMSE: 0.5494\n",
      "MAE:  0.1507\n",
      "Estimating biases using als...\n",
      "Computing the pearson_baseline similarity matrix...\n",
      "Done computing similarity matrix.\n",
      "RMSE: 0.4996\n",
      "MAE:  0.1928\n",
      "Estimating biases using als...\n",
      "Computing the pearson_baseline similarity matrix...\n",
      "Done computing similarity matrix.\n",
      "RMSE: 0.5133\n",
      "MAE:  0.2185\n",
      "Estimating biases using als...\n",
      "Computing the pearson_baseline similarity matrix...\n",
      "Done computing similarity matrix.\n",
      "RMSE: 0.5728\n",
      "MAE:  0.2950\n"
     ]
    },
    {
     "data": {
      "image/png": "[encoded data removed]",
      "text/plain": [
       "<Figure size 432x288 with 1 Axes>"
      ]
     },
     "metadata": {
      "needs_background": "light"
     },
     "output_type": "display_data"
    }
   ],
   "source": [
    "k_values = [1,5,10,40]\n",
    "results_A = plot_knn_results(trainset,testset, k_values)"
   ]
  },
  {
   "attachments": {},
   "cell_type": "markdown",
   "metadata": {},
   "source": [
    "##### ALL Algorithms - ratings 0-4, with previous voting "
   ]
  },
  {
   "cell_type": "code",
   "execution_count": 21,
   "metadata": {
    "scrolled": false
   },
   "outputs": [
    {
     "name": "stdout",
     "output_type": "stream",
     "text": [
      "RMSE: 0.4554\n",
      "MAE:  0.2512\n",
      "RMSE: 0.7582\n",
      "MAE:  0.5794\n",
      "RMSE: 0.5007\n",
      "MAE:  0.2815\n",
      "RMSE: 1.3026\n",
      "MAE:  1.0536\n",
      "Estimating biases using als...\n",
      "Computing the msd similarity matrix...\n",
      "Done computing similarity matrix.\n",
      "RMSE: 0.4930\n",
      "MAE:  0.2131\n",
      "Computing the msd similarity matrix...\n",
      "Done computing similarity matrix.\n",
      "RMSE: 0.4938\n",
      "MAE:  0.2213\n",
      "Estimating biases using als...\n",
      "RMSE: 0.7583\n",
      "MAE:  0.5919\n",
      "RMSE: 0.5263\n",
      "MAE:  0.2957\n"
     ]
    }
   ],
   "source": [
    "algorithms = [SVD(), SlopeOne(), NMF(), NormalPredictor(), KNNBaseline(), KNNWithMeans(), BaselineOnly(), CoClustering()]\n",
    "results = evaluate_algorithms(trainset,testset, algorithms)"
   ]
  },
  {
   "cell_type": "code",
   "execution_count": 22,
   "metadata": {},
   "outputs": [
    {
     "data": {
      "text/html": [
       "<div>\n",
       "<style scoped>\n",
       "    .dataframe tbody tr th:only-of-type {\n",
       "        vertical-align: middle;\n",
       "    }\n",
       "\n",
       "    .dataframe tbody tr th {\n",
       "        vertical-align: top;\n",
       "    }\n",
       "\n",
       "    .dataframe thead th {\n",
       "        text-align: right;\n",
       "    }\n",
       "</style>\n",
       "<table border=\"1\" class=\"dataframe\">\n",
       "  <thead>\n",
       "    <tr style=\"text-align: right;\">\n",
       "      <th></th>\n",
       "      <th>test_rmse</th>\n",
       "      <th>test_mae</th>\n",
       "    </tr>\n",
       "  </thead>\n",
       "  <tbody>\n",
       "    <tr>\n",
       "      <th>SVD</th>\n",
       "      <td>0.455354</td>\n",
       "      <td>0.251204</td>\n",
       "    </tr>\n",
       "    <tr>\n",
       "      <th>KNNBaseline</th>\n",
       "      <td>0.492954</td>\n",
       "      <td>0.213148</td>\n",
       "    </tr>\n",
       "    <tr>\n",
       "      <th>KNNWithMeans</th>\n",
       "      <td>0.493783</td>\n",
       "      <td>0.221341</td>\n",
       "    </tr>\n",
       "    <tr>\n",
       "      <th>NMF</th>\n",
       "      <td>0.500664</td>\n",
       "      <td>0.281514</td>\n",
       "    </tr>\n",
       "    <tr>\n",
       "      <th>CoClustering</th>\n",
       "      <td>0.526313</td>\n",
       "      <td>0.295740</td>\n",
       "    </tr>\n",
       "    <tr>\n",
       "      <th>SlopeOne</th>\n",
       "      <td>0.758160</td>\n",
       "      <td>0.579384</td>\n",
       "    </tr>\n",
       "    <tr>\n",
       "      <th>BaselineOnly</th>\n",
       "      <td>0.758258</td>\n",
       "      <td>0.591858</td>\n",
       "    </tr>\n",
       "    <tr>\n",
       "      <th>NormalPredictor</th>\n",
       "      <td>1.302568</td>\n",
       "      <td>1.053583</td>\n",
       "    </tr>\n",
       "  </tbody>\n",
       "</table>\n",
       "</div>"
      ],
      "text/plain": [
       "                 test_rmse  test_mae\n",
       "SVD               0.455354  0.251204\n",
       "KNNBaseline       0.492954  0.213148\n",
       "KNNWithMeans      0.493783  0.221341\n",
       "NMF               0.500664  0.281514\n",
       "CoClustering      0.526313  0.295740\n",
       "SlopeOne          0.758160  0.579384\n",
       "BaselineOnly      0.758258  0.591858\n",
       "NormalPredictor   1.302568  1.053583"
      ]
     },
     "execution_count": 22,
     "metadata": {},
     "output_type": "execute_result"
    }
   ],
   "source": [
    "results"
   ]
  },
  {
   "attachments": {},
   "cell_type": "markdown",
   "metadata": {
    "id": "3zRrCsmNXtfh"
   },
   "source": [
    "# With only Sim or Nao votes - Binary Rating"
   ]
  },
  {
   "cell_type": "code",
   "execution_count": 23,
   "metadata": {
    "id": "tqjkpezWXylA"
   },
   "outputs": [],
   "source": [
    "## create a new dataframe with only the yes or no votes\n",
    "df_bool = dfP.loc[(dfP[\"vote_enc\"] == 2) | (dfP[\"vote_enc\"] == 4)] "
   ]
  },
  {
   "cell_type": "code",
   "execution_count": 24,
   "metadata": {
    "colab": {
     "base_uri": "https://localhost:8080/"
    },
    "id": "sFlEwTQsa2JU",
    "outputId": "effee9b0-574d-4d27-8e34-6cc910adb5ac"
   },
   "outputs": [
    {
     "name": "stderr",
     "output_type": "stream",
     "text": [
      "c:\\Users\\ritac\\anaconda3\\lib\\site-packages\\pandas\\core\\generic.py:6619: SettingWithCopyWarning:\n",
      "\n",
      "\n",
      "A value is trying to be set on a copy of a slice from a DataFrame\n",
      "\n",
      "See the caveats in the documentation: https://pandas.pydata.org/pandas-docs/stable/user_guide/indexing.html#returning-a-view-versus-a-copy\n",
      "\n"
     ]
    }
   ],
   "source": [
    "## replace values for 2 and 4 to 0 and 1\n",
    "df_bool[\"vote_enc\"].replace({2: 0, 4: 1}, inplace=True)"
   ]
  },
  {
   "cell_type": "code",
   "execution_count": 25,
   "metadata": {
    "colab": {
     "base_uri": "https://localhost:8080/",
     "height": 592
    },
    "id": "3V-9MM6hbBjQ",
    "outputId": "9a29b4d8-69bc-46b1-e2a9-a9b7642c1278"
   },
   "outputs": [
    {
     "data": {
      "text/html": [
       "<div>\n",
       "<style scoped>\n",
       "    .dataframe tbody tr th:only-of-type {\n",
       "        vertical-align: middle;\n",
       "    }\n",
       "\n",
       "    .dataframe tbody tr th {\n",
       "        vertical-align: top;\n",
       "    }\n",
       "\n",
       "    .dataframe thead th {\n",
       "        text-align: right;\n",
       "    }\n",
       "</style>\n",
       "<table border=\"1\" class=\"dataframe\">\n",
       "  <thead>\n",
       "    <tr style=\"text-align: right;\">\n",
       "      <th></th>\n",
       "      <th>Unnamed: 0</th>\n",
       "      <th>idVotacao</th>\n",
       "      <th>siglaOrgao</th>\n",
       "      <th>idEvento</th>\n",
       "      <th>aprovacao</th>\n",
       "      <th>uriVotacao</th>\n",
       "      <th>voto</th>\n",
       "      <th>deputado_id</th>\n",
       "      <th>deputado_nome</th>\n",
       "      <th>deputado_siglaPartido</th>\n",
       "      <th>...</th>\n",
       "      <th>idLegislaturaFinal</th>\n",
       "      <th>siglaSexo</th>\n",
       "      <th>municipioNascimento</th>\n",
       "      <th>idade</th>\n",
       "      <th>new</th>\n",
       "      <th>score_accordingly</th>\n",
       "      <th>deputado_enc</th>\n",
       "      <th>orientacao_enc</th>\n",
       "      <th>gender_enc</th>\n",
       "      <th>vote_enc</th>\n",
       "    </tr>\n",
       "  </thead>\n",
       "  <tbody>\n",
       "    <tr>\n",
       "      <th>0</th>\n",
       "      <td>0</td>\n",
       "      <td>2312874-9</td>\n",
       "      <td>PLEN</td>\n",
       "      <td>64653</td>\n",
       "      <td>1.0</td>\n",
       "      <td>https://dadosabertos.camara.leg.br/api/v2/vota...</td>\n",
       "      <td>Sim</td>\n",
       "      <td>204554</td>\n",
       "      <td>Abílio Santana</td>\n",
       "      <td>PL</td>\n",
       "      <td>...</td>\n",
       "      <td>56</td>\n",
       "      <td>M</td>\n",
       "      <td>Salvador</td>\n",
       "      <td>58.0</td>\n",
       "      <td>0</td>\n",
       "      <td>72.56</td>\n",
       "      <td>2</td>\n",
       "      <td>1</td>\n",
       "      <td>1</td>\n",
       "      <td>1</td>\n",
       "    </tr>\n",
       "    <tr>\n",
       "      <th>1</th>\n",
       "      <td>1</td>\n",
       "      <td>46249-294</td>\n",
       "      <td>PLEN</td>\n",
       "      <td>64653</td>\n",
       "      <td>0.0</td>\n",
       "      <td>https://dadosabertos.camara.leg.br/api/v2/vota...</td>\n",
       "      <td>Não</td>\n",
       "      <td>204554</td>\n",
       "      <td>Abílio Santana</td>\n",
       "      <td>PL</td>\n",
       "      <td>...</td>\n",
       "      <td>56</td>\n",
       "      <td>M</td>\n",
       "      <td>Salvador</td>\n",
       "      <td>58.0</td>\n",
       "      <td>1</td>\n",
       "      <td>72.56</td>\n",
       "      <td>2</td>\n",
       "      <td>1</td>\n",
       "      <td>1</td>\n",
       "      <td>0</td>\n",
       "    </tr>\n",
       "    <tr>\n",
       "      <th>2</th>\n",
       "      <td>2</td>\n",
       "      <td>46249-297</td>\n",
       "      <td>PLEN</td>\n",
       "      <td>64653</td>\n",
       "      <td>1.0</td>\n",
       "      <td>https://dadosabertos.camara.leg.br/api/v2/vota...</td>\n",
       "      <td>Sim</td>\n",
       "      <td>204554</td>\n",
       "      <td>Abílio Santana</td>\n",
       "      <td>PL</td>\n",
       "      <td>...</td>\n",
       "      <td>56</td>\n",
       "      <td>M</td>\n",
       "      <td>Salvador</td>\n",
       "      <td>58.0</td>\n",
       "      <td>1</td>\n",
       "      <td>72.56</td>\n",
       "      <td>2</td>\n",
       "      <td>3</td>\n",
       "      <td>1</td>\n",
       "      <td>1</td>\n",
       "    </tr>\n",
       "    <tr>\n",
       "      <th>3</th>\n",
       "      <td>3</td>\n",
       "      <td>46249-312</td>\n",
       "      <td>PLEN</td>\n",
       "      <td>64653</td>\n",
       "      <td>2.0</td>\n",
       "      <td>https://dadosabertos.camara.leg.br/api/v2/vota...</td>\n",
       "      <td>Sim</td>\n",
       "      <td>204554</td>\n",
       "      <td>Abílio Santana</td>\n",
       "      <td>PL</td>\n",
       "      <td>...</td>\n",
       "      <td>56</td>\n",
       "      <td>M</td>\n",
       "      <td>Salvador</td>\n",
       "      <td>58.0</td>\n",
       "      <td>0</td>\n",
       "      <td>72.56</td>\n",
       "      <td>2</td>\n",
       "      <td>1</td>\n",
       "      <td>1</td>\n",
       "      <td>1</td>\n",
       "    </tr>\n",
       "    <tr>\n",
       "      <th>4</th>\n",
       "      <td>4</td>\n",
       "      <td>46249-316</td>\n",
       "      <td>PLEN</td>\n",
       "      <td>64653</td>\n",
       "      <td>0.0</td>\n",
       "      <td>https://dadosabertos.camara.leg.br/api/v2/vota...</td>\n",
       "      <td>Não</td>\n",
       "      <td>204554</td>\n",
       "      <td>Abílio Santana</td>\n",
       "      <td>PL</td>\n",
       "      <td>...</td>\n",
       "      <td>56</td>\n",
       "      <td>M</td>\n",
       "      <td>Salvador</td>\n",
       "      <td>58.0</td>\n",
       "      <td>1</td>\n",
       "      <td>72.56</td>\n",
       "      <td>2</td>\n",
       "      <td>1</td>\n",
       "      <td>1</td>\n",
       "      <td>0</td>\n",
       "    </tr>\n",
       "    <tr>\n",
       "      <th>...</th>\n",
       "      <td>...</td>\n",
       "      <td>...</td>\n",
       "      <td>...</td>\n",
       "      <td>...</td>\n",
       "      <td>...</td>\n",
       "      <td>...</td>\n",
       "      <td>...</td>\n",
       "      <td>...</td>\n",
       "      <td>...</td>\n",
       "      <td>...</td>\n",
       "      <td>...</td>\n",
       "      <td>...</td>\n",
       "      <td>...</td>\n",
       "      <td>...</td>\n",
       "      <td>...</td>\n",
       "      <td>...</td>\n",
       "      <td>...</td>\n",
       "      <td>...</td>\n",
       "      <td>...</td>\n",
       "      <td>...</td>\n",
       "      <td>...</td>\n",
       "    </tr>\n",
       "    <tr>\n",
       "      <th>112151</th>\n",
       "      <td>112151</td>\n",
       "      <td>2323617-49</td>\n",
       "      <td>PLEN</td>\n",
       "      <td>66394</td>\n",
       "      <td>2.0</td>\n",
       "      <td>https://dadosabertos.camara.leg.br/api/v2/vota...</td>\n",
       "      <td>Sim</td>\n",
       "      <td>122466</td>\n",
       "      <td>Ronaldo Martins</td>\n",
       "      <td>REPUBLICANOS</td>\n",
       "      <td>...</td>\n",
       "      <td>56</td>\n",
       "      <td>M</td>\n",
       "      <td>São Paulo</td>\n",
       "      <td>45.0</td>\n",
       "      <td>0</td>\n",
       "      <td>68.00</td>\n",
       "      <td>317</td>\n",
       "      <td>0</td>\n",
       "      <td>1</td>\n",
       "      <td>1</td>\n",
       "    </tr>\n",
       "    <tr>\n",
       "      <th>112152</th>\n",
       "      <td>112152</td>\n",
       "      <td>2323617-56</td>\n",
       "      <td>PLEN</td>\n",
       "      <td>66394</td>\n",
       "      <td>0.0</td>\n",
       "      <td>https://dadosabertos.camara.leg.br/api/v2/vota...</td>\n",
       "      <td>Não</td>\n",
       "      <td>122466</td>\n",
       "      <td>Ronaldo Martins</td>\n",
       "      <td>REPUBLICANOS</td>\n",
       "      <td>...</td>\n",
       "      <td>56</td>\n",
       "      <td>M</td>\n",
       "      <td>São Paulo</td>\n",
       "      <td>45.0</td>\n",
       "      <td>1</td>\n",
       "      <td>68.00</td>\n",
       "      <td>317</td>\n",
       "      <td>1</td>\n",
       "      <td>1</td>\n",
       "      <td>0</td>\n",
       "    </tr>\n",
       "    <tr>\n",
       "      <th>112153</th>\n",
       "      <td>112153</td>\n",
       "      <td>2314962-33</td>\n",
       "      <td>PLEN</td>\n",
       "      <td>66455</td>\n",
       "      <td>1.0</td>\n",
       "      <td>https://dadosabertos.camara.leg.br/api/v2/vota...</td>\n",
       "      <td>Sim</td>\n",
       "      <td>122466</td>\n",
       "      <td>Ronaldo Martins</td>\n",
       "      <td>REPUBLICANOS</td>\n",
       "      <td>...</td>\n",
       "      <td>56</td>\n",
       "      <td>M</td>\n",
       "      <td>São Paulo</td>\n",
       "      <td>45.0</td>\n",
       "      <td>1</td>\n",
       "      <td>68.00</td>\n",
       "      <td>317</td>\n",
       "      <td>3</td>\n",
       "      <td>1</td>\n",
       "      <td>1</td>\n",
       "    </tr>\n",
       "    <tr>\n",
       "      <th>112154</th>\n",
       "      <td>112154</td>\n",
       "      <td>2326278-38</td>\n",
       "      <td>PLEN</td>\n",
       "      <td>66439</td>\n",
       "      <td>0.0</td>\n",
       "      <td>https://dadosabertos.camara.leg.br/api/v2/vota...</td>\n",
       "      <td>Não</td>\n",
       "      <td>205535</td>\n",
       "      <td>Patricia Ferraz</td>\n",
       "      <td>PODE</td>\n",
       "      <td>...</td>\n",
       "      <td>56</td>\n",
       "      <td>F</td>\n",
       "      <td>Belo Horizonte</td>\n",
       "      <td>43.0</td>\n",
       "      <td>1</td>\n",
       "      <td>40.76</td>\n",
       "      <td>277</td>\n",
       "      <td>1</td>\n",
       "      <td>0</td>\n",
       "      <td>0</td>\n",
       "    </tr>\n",
       "    <tr>\n",
       "      <th>112155</th>\n",
       "      <td>112155</td>\n",
       "      <td>2314962-33</td>\n",
       "      <td>PLEN</td>\n",
       "      <td>66455</td>\n",
       "      <td>1.0</td>\n",
       "      <td>https://dadosabertos.camara.leg.br/api/v2/vota...</td>\n",
       "      <td>Sim</td>\n",
       "      <td>205535</td>\n",
       "      <td>Patricia Ferraz</td>\n",
       "      <td>PODE</td>\n",
       "      <td>...</td>\n",
       "      <td>56</td>\n",
       "      <td>F</td>\n",
       "      <td>Belo Horizonte</td>\n",
       "      <td>43.0</td>\n",
       "      <td>1</td>\n",
       "      <td>40.76</td>\n",
       "      <td>277</td>\n",
       "      <td>3</td>\n",
       "      <td>0</td>\n",
       "      <td>1</td>\n",
       "    </tr>\n",
       "  </tbody>\n",
       "</table>\n",
       "<p>110748 rows × 22 columns</p>\n",
       "</div>"
      ],
      "text/plain": [
       "        Unnamed: 0   idVotacao siglaOrgao  idEvento  aprovacao  \\\n",
       "0                0   2312874-9       PLEN     64653        1.0   \n",
       "1                1   46249-294       PLEN     64653        0.0   \n",
       "2                2   46249-297       PLEN     64653        1.0   \n",
       "3                3   46249-312       PLEN     64653        2.0   \n",
       "4                4   46249-316       PLEN     64653        0.0   \n",
       "...            ...         ...        ...       ...        ...   \n",
       "112151      112151  2323617-49       PLEN     66394        2.0   \n",
       "112152      112152  2323617-56       PLEN     66394        0.0   \n",
       "112153      112153  2314962-33       PLEN     66455        1.0   \n",
       "112154      112154  2326278-38       PLEN     66439        0.0   \n",
       "112155      112155  2314962-33       PLEN     66455        1.0   \n",
       "\n",
       "                                               uriVotacao voto  deputado_id  \\\n",
       "0       https://dadosabertos.camara.leg.br/api/v2/vota...  Sim       204554   \n",
       "1       https://dadosabertos.camara.leg.br/api/v2/vota...  Não       204554   \n",
       "2       https://dadosabertos.camara.leg.br/api/v2/vota...  Sim       204554   \n",
       "3       https://dadosabertos.camara.leg.br/api/v2/vota...  Sim       204554   \n",
       "4       https://dadosabertos.camara.leg.br/api/v2/vota...  Não       204554   \n",
       "...                                                   ...  ...          ...   \n",
       "112151  https://dadosabertos.camara.leg.br/api/v2/vota...  Sim       122466   \n",
       "112152  https://dadosabertos.camara.leg.br/api/v2/vota...  Não       122466   \n",
       "112153  https://dadosabertos.camara.leg.br/api/v2/vota...  Sim       122466   \n",
       "112154  https://dadosabertos.camara.leg.br/api/v2/vota...  Não       205535   \n",
       "112155  https://dadosabertos.camara.leg.br/api/v2/vota...  Sim       205535   \n",
       "\n",
       "          deputado_nome deputado_siglaPartido  ... idLegislaturaFinal  \\\n",
       "0        Abílio Santana                    PL  ...                 56   \n",
       "1        Abílio Santana                    PL  ...                 56   \n",
       "2        Abílio Santana                    PL  ...                 56   \n",
       "3        Abílio Santana                    PL  ...                 56   \n",
       "4        Abílio Santana                    PL  ...                 56   \n",
       "...                 ...                   ...  ...                ...   \n",
       "112151  Ronaldo Martins          REPUBLICANOS  ...                 56   \n",
       "112152  Ronaldo Martins          REPUBLICANOS  ...                 56   \n",
       "112153  Ronaldo Martins          REPUBLICANOS  ...                 56   \n",
       "112154  Patricia Ferraz                  PODE  ...                 56   \n",
       "112155  Patricia Ferraz                  PODE  ...                 56   \n",
       "\n",
       "        siglaSexo  municipioNascimento idade new  score_accordingly  \\\n",
       "0               M             Salvador  58.0   0              72.56   \n",
       "1               M             Salvador  58.0   1              72.56   \n",
       "2               M             Salvador  58.0   1              72.56   \n",
       "3               M             Salvador  58.0   0              72.56   \n",
       "4               M             Salvador  58.0   1              72.56   \n",
       "...           ...                  ...   ...  ..                ...   \n",
       "112151          M            São Paulo  45.0   0              68.00   \n",
       "112152          M            São Paulo  45.0   1              68.00   \n",
       "112153          M            São Paulo  45.0   1              68.00   \n",
       "112154          F       Belo Horizonte  43.0   1              40.76   \n",
       "112155          F       Belo Horizonte  43.0   1              40.76   \n",
       "\n",
       "        deputado_enc  orientacao_enc  gender_enc  vote_enc  \n",
       "0                  2               1           1         1  \n",
       "1                  2               1           1         0  \n",
       "2                  2               3           1         1  \n",
       "3                  2               1           1         1  \n",
       "4                  2               1           1         0  \n",
       "...              ...             ...         ...       ...  \n",
       "112151           317               0           1         1  \n",
       "112152           317               1           1         0  \n",
       "112153           317               3           1         1  \n",
       "112154           277               1           0         0  \n",
       "112155           277               3           0         1  \n",
       "\n",
       "[110748 rows x 22 columns]"
      ]
     },
     "execution_count": 25,
     "metadata": {},
     "output_type": "execute_result"
    }
   ],
   "source": [
    "df_bool"
   ]
  },
  {
   "cell_type": "code",
   "execution_count": 26,
   "metadata": {},
   "outputs": [
    {
     "data": {
      "application/vnd.plotly.v1+json": {
       "config": {
        "linkText": "Export to plot.ly",
        "plotlyServerURL": "https://plot.ly",
        "showLink": false
       },
       "data": [
        {
         "text": [
          "56.1 %",
          "43.9 %"
         ],
         "textfont": {
          "color": "#000000"
         },
         "textposition": "auto",
         "type": "bar",
         "x": [
          1,
          0
         ],
         "y": [
          62169,
          48579
         ]
        }
       ],
       "layout": {
        "template": {
         "data": {
          "bar": [
           {
            "error_x": {
             "color": "#2a3f5f"
            },
            "error_y": {
             "color": "#2a3f5f"
            },
            "marker": {
             "line": {
              "color": "#E5ECF6",
              "width": 0.5
             }
            },
            "type": "bar"
           }
          ],
          "barpolar": [
           {
            "marker": {
             "line": {
              "color": "#E5ECF6",
              "width": 0.5
             }
            },
            "type": "barpolar"
           }
          ],
          "carpet": [
           {
            "aaxis": {
             "endlinecolor": "#2a3f5f",
             "gridcolor": "white",
             "linecolor": "white",
             "minorgridcolor": "white",
             "startlinecolor": "#2a3f5f"
            },
            "baxis": {
             "endlinecolor": "#2a3f5f",
             "gridcolor": "white",
             "linecolor": "white",
             "minorgridcolor": "white",
             "startlinecolor": "#2a3f5f"
            },
            "type": "carpet"
           }
          ],
          "choropleth": [
           {
            "colorbar": {
             "outlinewidth": 0,
             "ticks": ""
            },
            "type": "choropleth"
           }
          ],
          "contour": [
           {
            "colorbar": {
             "outlinewidth": 0,
             "ticks": ""
            },
            "colorscale": [
             [
              0,
              "#0d0887"
             ],
             [
              0.1111111111111111,
              "#46039f"
             ],
             [
              0.2222222222222222,
              "#7201a8"
             ],
             [
              0.3333333333333333,
              "#9c179e"
             ],
             [
              0.4444444444444444,
              "#bd3786"
             ],
             [
              0.5555555555555556,
              "#d8576b"
             ],
             [
              0.6666666666666666,
              "#ed7953"
             ],
             [
              0.7777777777777778,
              "#fb9f3a"
             ],
             [
              0.8888888888888888,
              "#fdca26"
             ],
             [
              1,
              "#f0f921"
             ]
            ],
            "type": "contour"
           }
          ],
          "contourcarpet": [
           {
            "colorbar": {
             "outlinewidth": 0,
             "ticks": ""
            },
            "type": "contourcarpet"
           }
          ],
          "heatmap": [
           {
            "colorbar": {
             "outlinewidth": 0,
             "ticks": ""
            },
            "colorscale": [
             [
              0,
              "#0d0887"
             ],
             [
              0.1111111111111111,
              "#46039f"
             ],
             [
              0.2222222222222222,
              "#7201a8"
             ],
             [
              0.3333333333333333,
              "#9c179e"
             ],
             [
              0.4444444444444444,
              "#bd3786"
             ],
             [
              0.5555555555555556,
              "#d8576b"
             ],
             [
              0.6666666666666666,
              "#ed7953"
             ],
             [
              0.7777777777777778,
              "#fb9f3a"
             ],
             [
              0.8888888888888888,
              "#fdca26"
             ],
             [
              1,
              "#f0f921"
             ]
            ],
            "type": "heatmap"
           }
          ],
          "heatmapgl": [
           {
            "colorbar": {
             "outlinewidth": 0,
             "ticks": ""
            },
            "colorscale": [
             [
              0,
              "#0d0887"
             ],
             [
              0.1111111111111111,
              "#46039f"
             ],
             [
              0.2222222222222222,
              "#7201a8"
             ],
             [
              0.3333333333333333,
              "#9c179e"
             ],
             [
              0.4444444444444444,
              "#bd3786"
             ],
             [
              0.5555555555555556,
              "#d8576b"
             ],
             [
              0.6666666666666666,
              "#ed7953"
             ],
             [
              0.7777777777777778,
              "#fb9f3a"
             ],
             [
              0.8888888888888888,
              "#fdca26"
             ],
             [
              1,
              "#f0f921"
             ]
            ],
            "type": "heatmapgl"
           }
          ],
          "histogram": [
           {
            "marker": {
             "colorbar": {
              "outlinewidth": 0,
              "ticks": ""
             }
            },
            "type": "histogram"
           }
          ],
          "histogram2d": [
           {
            "colorbar": {
             "outlinewidth": 0,
             "ticks": ""
            },
            "colorscale": [
             [
              0,
              "#0d0887"
             ],
             [
              0.1111111111111111,
              "#46039f"
             ],
             [
              0.2222222222222222,
              "#7201a8"
             ],
             [
              0.3333333333333333,
              "#9c179e"
             ],
             [
              0.4444444444444444,
              "#bd3786"
             ],
             [
              0.5555555555555556,
              "#d8576b"
             ],
             [
              0.6666666666666666,
              "#ed7953"
             ],
             [
              0.7777777777777778,
              "#fb9f3a"
             ],
             [
              0.8888888888888888,
              "#fdca26"
             ],
             [
              1,
              "#f0f921"
             ]
            ],
            "type": "histogram2d"
           }
          ],
          "histogram2dcontour": [
           {
            "colorbar": {
             "outlinewidth": 0,
             "ticks": ""
            },
            "colorscale": [
             [
              0,
              "#0d0887"
             ],
             [
              0.1111111111111111,
              "#46039f"
             ],
             [
              0.2222222222222222,
              "#7201a8"
             ],
             [
              0.3333333333333333,
              "#9c179e"
             ],
             [
              0.4444444444444444,
              "#bd3786"
             ],
             [
              0.5555555555555556,
              "#d8576b"
             ],
             [
              0.6666666666666666,
              "#ed7953"
             ],
             [
              0.7777777777777778,
              "#fb9f3a"
             ],
             [
              0.8888888888888888,
              "#fdca26"
             ],
             [
              1,
              "#f0f921"
             ]
            ],
            "type": "histogram2dcontour"
           }
          ],
          "mesh3d": [
           {
            "colorbar": {
             "outlinewidth": 0,
             "ticks": ""
            },
            "type": "mesh3d"
           }
          ],
          "parcoords": [
           {
            "line": {
             "colorbar": {
              "outlinewidth": 0,
              "ticks": ""
             }
            },
            "type": "parcoords"
           }
          ],
          "pie": [
           {
            "automargin": true,
            "type": "pie"
           }
          ],
          "scatter": [
           {
            "marker": {
             "colorbar": {
              "outlinewidth": 0,
              "ticks": ""
             }
            },
            "type": "scatter"
           }
          ],
          "scatter3d": [
           {
            "line": {
             "colorbar": {
              "outlinewidth": 0,
              "ticks": ""
             }
            },
            "marker": {
             "colorbar": {
              "outlinewidth": 0,
              "ticks": ""
             }
            },
            "type": "scatter3d"
           }
          ],
          "scattercarpet": [
           {
            "marker": {
             "colorbar": {
              "outlinewidth": 0,
              "ticks": ""
             }
            },
            "type": "scattercarpet"
           }
          ],
          "scattergeo": [
           {
            "marker": {
             "colorbar": {
              "outlinewidth": 0,
              "ticks": ""
             }
            },
            "type": "scattergeo"
           }
          ],
          "scattergl": [
           {
            "marker": {
             "colorbar": {
              "outlinewidth": 0,
              "ticks": ""
             }
            },
            "type": "scattergl"
           }
          ],
          "scattermapbox": [
           {
            "marker": {
             "colorbar": {
              "outlinewidth": 0,
              "ticks": ""
             }
            },
            "type": "scattermapbox"
           }
          ],
          "scatterpolar": [
           {
            "marker": {
             "colorbar": {
              "outlinewidth": 0,
              "ticks": ""
             }
            },
            "type": "scatterpolar"
           }
          ],
          "scatterpolargl": [
           {
            "marker": {
             "colorbar": {
              "outlinewidth": 0,
              "ticks": ""
             }
            },
            "type": "scatterpolargl"
           }
          ],
          "scatterternary": [
           {
            "marker": {
             "colorbar": {
              "outlinewidth": 0,
              "ticks": ""
             }
            },
            "type": "scatterternary"
           }
          ],
          "surface": [
           {
            "colorbar": {
             "outlinewidth": 0,
             "ticks": ""
            },
            "colorscale": [
             [
              0,
              "#0d0887"
             ],
             [
              0.1111111111111111,
              "#46039f"
             ],
             [
              0.2222222222222222,
              "#7201a8"
             ],
             [
              0.3333333333333333,
              "#9c179e"
             ],
             [
              0.4444444444444444,
              "#bd3786"
             ],
             [
              0.5555555555555556,
              "#d8576b"
             ],
             [
              0.6666666666666666,
              "#ed7953"
             ],
             [
              0.7777777777777778,
              "#fb9f3a"
             ],
             [
              0.8888888888888888,
              "#fdca26"
             ],
             [
              1,
              "#f0f921"
             ]
            ],
            "type": "surface"
           }
          ],
          "table": [
           {
            "cells": {
             "fill": {
              "color": "#EBF0F8"
             },
             "line": {
              "color": "white"
             }
            },
            "header": {
             "fill": {
              "color": "#C8D4E3"
             },
             "line": {
              "color": "white"
             }
            },
            "type": "table"
           }
          ]
         },
         "layout": {
          "annotationdefaults": {
           "arrowcolor": "#2a3f5f",
           "arrowhead": 0,
           "arrowwidth": 1
          },
          "autotypenumbers": "strict",
          "coloraxis": {
           "colorbar": {
            "outlinewidth": 0,
            "ticks": ""
           }
          },
          "colorscale": {
           "diverging": [
            [
             0,
             "#8e0152"
            ],
            [
             0.1,
             "#c51b7d"
            ],
            [
             0.2,
             "#de77ae"
            ],
            [
             0.3,
             "#f1b6da"
            ],
            [
             0.4,
             "#fde0ef"
            ],
            [
             0.5,
             "#f7f7f7"
            ],
            [
             0.6,
             "#e6f5d0"
            ],
            [
             0.7,
             "#b8e186"
            ],
            [
             0.8,
             "#7fbc41"
            ],
            [
             0.9,
             "#4d9221"
            ],
            [
             1,
             "#276419"
            ]
           ],
           "sequential": [
            [
             0,
             "#0d0887"
            ],
            [
             0.1111111111111111,
             "#46039f"
            ],
            [
             0.2222222222222222,
             "#7201a8"
            ],
            [
             0.3333333333333333,
             "#9c179e"
            ],
            [
             0.4444444444444444,
             "#bd3786"
            ],
            [
             0.5555555555555556,
             "#d8576b"
            ],
            [
             0.6666666666666666,
             "#ed7953"
            ],
            [
             0.7777777777777778,
             "#fb9f3a"
            ],
            [
             0.8888888888888888,
             "#fdca26"
            ],
            [
             1,
             "#f0f921"
            ]
           ],
           "sequentialminus": [
            [
             0,
             "#0d0887"
            ],
            [
             0.1111111111111111,
             "#46039f"
            ],
            [
             0.2222222222222222,
             "#7201a8"
            ],
            [
             0.3333333333333333,
             "#9c179e"
            ],
            [
             0.4444444444444444,
             "#bd3786"
            ],
            [
             0.5555555555555556,
             "#d8576b"
            ],
            [
             0.6666666666666666,
             "#ed7953"
            ],
            [
             0.7777777777777778,
             "#fb9f3a"
            ],
            [
             0.8888888888888888,
             "#fdca26"
            ],
            [
             1,
             "#f0f921"
            ]
           ]
          },
          "colorway": [
           "#636efa",
           "#EF553B",
           "#00cc96",
           "#ab63fa",
           "#FFA15A",
           "#19d3f3",
           "#FF6692",
           "#B6E880",
           "#FF97FF",
           "#FECB52"
          ],
          "font": {
           "color": "#2a3f5f"
          },
          "geo": {
           "bgcolor": "white",
           "lakecolor": "white",
           "landcolor": "#E5ECF6",
           "showlakes": true,
           "showland": true,
           "subunitcolor": "white"
          },
          "hoverlabel": {
           "align": "left"
          },
          "hovermode": "closest",
          "mapbox": {
           "style": "light"
          },
          "paper_bgcolor": "white",
          "plot_bgcolor": "#E5ECF6",
          "polar": {
           "angularaxis": {
            "gridcolor": "white",
            "linecolor": "white",
            "ticks": ""
           },
           "bgcolor": "#E5ECF6",
           "radialaxis": {
            "gridcolor": "white",
            "linecolor": "white",
            "ticks": ""
           }
          },
          "scene": {
           "xaxis": {
            "backgroundcolor": "#E5ECF6",
            "gridcolor": "white",
            "gridwidth": 2,
            "linecolor": "white",
            "showbackground": true,
            "ticks": "",
            "zerolinecolor": "white"
           },
           "yaxis": {
            "backgroundcolor": "#E5ECF6",
            "gridcolor": "white",
            "gridwidth": 2,
            "linecolor": "white",
            "showbackground": true,
            "ticks": "",
            "zerolinecolor": "white"
           },
           "zaxis": {
            "backgroundcolor": "#E5ECF6",
            "gridcolor": "white",
            "gridwidth": 2,
            "linecolor": "white",
            "showbackground": true,
            "ticks": "",
            "zerolinecolor": "white"
           }
          },
          "shapedefaults": {
           "line": {
            "color": "#2a3f5f"
           }
          },
          "ternary": {
           "aaxis": {
            "gridcolor": "white",
            "linecolor": "white",
            "ticks": ""
           },
           "baxis": {
            "gridcolor": "white",
            "linecolor": "white",
            "ticks": ""
           },
           "bgcolor": "#E5ECF6",
           "caxis": {
            "gridcolor": "white",
            "linecolor": "white",
            "ticks": ""
           }
          },
          "title": {
           "x": 0.05
          },
          "xaxis": {
           "automargin": true,
           "gridcolor": "white",
           "linecolor": "white",
           "ticks": "",
           "title": {
            "standoff": 15
           },
           "zerolinecolor": "white",
           "zerolinewidth": 2
          },
          "yaxis": {
           "automargin": true,
           "gridcolor": "white",
           "linecolor": "white",
           "ticks": "",
           "title": {
            "standoff": 15
           },
           "zerolinecolor": "white",
           "zerolinewidth": 2
          }
         }
        },
        "title": {
         "text": "Distribution Of 110748 vote-ratings"
        },
        "xaxis": {
         "title": {
          "text": "Rating"
         }
        },
        "yaxis": {
         "title": {
          "text": "Count"
         }
        }
       }
      }
     },
     "metadata": {},
     "output_type": "display_data"
    }
   ],
   "source": [
    "data = df_bool['vote_enc'].value_counts().sort_index(ascending=False)\n",
    "trace = go.Bar(x = data.index,\n",
    "               text = ['{:.1f} %'.format(val) for val in (data.values / df_bool.shape[0] * 100)],\n",
    "               textposition = 'auto',\n",
    "               textfont = dict(color = '#000000'),\n",
    "               y = data.values,\n",
    "               )\n",
    "# Create layout\n",
    "layout = dict(title = 'Distribution Of {} vote-ratings'.format(df_bool.shape[0]),\n",
    "              xaxis = dict(title = 'Rating'),\n",
    "              yaxis = dict(title = 'Count'))\n",
    "# Create plot\n",
    "fig = go.Figure(data=[trace], layout=layout)\n",
    "iplot(fig)"
   ]
  },
  {
   "cell_type": "code",
   "execution_count": 27,
   "metadata": {
    "id": "5E0CP6OkZ6nR"
   },
   "outputs": [],
   "source": [
    "# Create the reader\n",
    "reader = Reader(rating_scale=(0, 1))\n",
    "# Load the data into a dataset\n",
    "data = Dataset.load_from_df(df_bool[['deputado_enc', 'idVotacao', 'vote_enc']], reader)\n",
    "\n",
    "# Split the data into a training set and a test set\n",
    "trainset, testset = train_test_split(data, test_size=0.25, random_state=42)"
   ]
  },
  {
   "attachments": {},
   "cell_type": "markdown",
   "metadata": {},
   "source": [
    "### All Algorithms - Binary Ratings"
   ]
  },
  {
   "attachments": {},
   "cell_type": "markdown",
   "metadata": {},
   "source": [
    "### Basic algorithms\n",
    "NormalPredictor algorithm predicts a random rating based on the distribution of the training set, which is assumed to be normal. \n",
    "\n",
    "BaselineOnly algorithm predicts the baseline estimate for given user and item. Memory-based algorithm that predicts ratings based on user and item biases only.\n",
    "\n",
    "### k-NN algorithms\n",
    "KNNWithMeans is basic collaborative filtering algorithm, taking into account the mean ratings of each user. Memory-based algorithm that uses a baseline estimate to account for user and item biases\n",
    "\n",
    "KNNBaseline is a basic collaborative filtering algorithm taking into account a baseline rating. Memory-based algorithm that uses mean ratings instead of a baseline estimate to account for biases.\n",
    "\n",
    "### Matrix Factorization-based algorithms\n",
    "SVD\n",
    "SVD algorithm is equivalent to Probabilistic Matrix Factorization. Model-based algorithm that factorizes the user-item matrix into two lower-dimensional matrices that represent user and item latent factors.\n",
    "\n",
    "NMF\n",
    "NMF is a collaborative filtering algorithm based on Non-negative Matrix Factorization. It is very similar with SVD. Model-based algorithm that factorizes the user-item matrix into two non-negative lower-dimensional matrices that represent user and item latent factors\n",
    "\n",
    "Slope One\n",
    "SlopeOne is a straightforward implementation of the SlopeOne algorithm - Memory-based algorithm that uses the deviations between item ratings to predict ratings\n",
    "\n",
    "Co-clustering\n",
    "Coclustering is a collaborative filtering algorithm based on co-clustering. Model-based algorithm that clusters both users and items simultaneously to group similar ones together."
   ]
  },
  {
   "cell_type": "code",
   "execution_count": 28,
   "metadata": {},
   "outputs": [
    {
     "name": "stdout",
     "output_type": "stream",
     "text": [
      "RMSE: 0.2433\n",
      "MAE:  0.1442\n",
      "RMSE: 0.3731\n",
      "MAE:  0.2808\n",
      "RMSE: 0.2580\n",
      "MAE:  0.1817\n",
      "RMSE: 0.6106\n",
      "MAE:  0.4935\n",
      "Estimating biases using als...\n",
      "Computing the msd similarity matrix...\n",
      "Done computing similarity matrix.\n",
      "RMSE: 0.2423\n",
      "MAE:  0.1035\n",
      "Computing the msd similarity matrix...\n",
      "Done computing similarity matrix.\n",
      "RMSE: 0.2424\n",
      "MAE:  0.1068\n",
      "Estimating biases using als...\n",
      "RMSE: 0.3748\n",
      "MAE:  0.2908\n",
      "RMSE: 0.2546\n",
      "MAE:  0.1362\n"
     ]
    }
   ],
   "source": [
    "algorithms = [SVD(), SlopeOne(), NMF(), NormalPredictor(), KNNBaseline(), KNNWithMeans(), BaselineOnly(), CoClustering()]\n",
    "results,matrix = evaluate_algorithms_binary(trainset,testset, algorithms)"
   ]
  },
  {
   "cell_type": "code",
   "execution_count": 29,
   "metadata": {},
   "outputs": [
    {
     "data": {
      "text/html": [
       "<div>\n",
       "<style scoped>\n",
       "    .dataframe tbody tr th:only-of-type {\n",
       "        vertical-align: middle;\n",
       "    }\n",
       "\n",
       "    .dataframe tbody tr th {\n",
       "        vertical-align: top;\n",
       "    }\n",
       "\n",
       "    .dataframe thead th {\n",
       "        text-align: right;\n",
       "    }\n",
       "</style>\n",
       "<table border=\"1\" class=\"dataframe\">\n",
       "  <thead>\n",
       "    <tr style=\"text-align: right;\">\n",
       "      <th></th>\n",
       "      <th>accuracy</th>\n",
       "      <th>precision</th>\n",
       "      <th>recall</th>\n",
       "      <th>f1_score</th>\n",
       "      <th>test_rmse</th>\n",
       "      <th>test_mae</th>\n",
       "    </tr>\n",
       "  </thead>\n",
       "  <tbody>\n",
       "    <tr>\n",
       "      <th>KNNBaseline</th>\n",
       "      <td>0.924405</td>\n",
       "      <td>0.936416</td>\n",
       "      <td>0.928277</td>\n",
       "      <td>0.932329</td>\n",
       "      <td>0.242259</td>\n",
       "      <td>0.103548</td>\n",
       "    </tr>\n",
       "    <tr>\n",
       "      <th>KNNWithMeans</th>\n",
       "      <td>0.923972</td>\n",
       "      <td>0.935913</td>\n",
       "      <td>0.928020</td>\n",
       "      <td>0.931950</td>\n",
       "      <td>0.242426</td>\n",
       "      <td>0.106797</td>\n",
       "    </tr>\n",
       "    <tr>\n",
       "      <th>SVD</th>\n",
       "      <td>0.923827</td>\n",
       "      <td>0.934936</td>\n",
       "      <td>0.928857</td>\n",
       "      <td>0.931886</td>\n",
       "      <td>0.243304</td>\n",
       "      <td>0.144205</td>\n",
       "    </tr>\n",
       "    <tr>\n",
       "      <th>NMF</th>\n",
       "      <td>0.921949</td>\n",
       "      <td>0.939575</td>\n",
       "      <td>0.920036</td>\n",
       "      <td>0.929703</td>\n",
       "      <td>0.258004</td>\n",
       "      <td>0.181674</td>\n",
       "    </tr>\n",
       "    <tr>\n",
       "      <th>CoClustering</th>\n",
       "      <td>0.918626</td>\n",
       "      <td>0.929435</td>\n",
       "      <td>0.925187</td>\n",
       "      <td>0.927306</td>\n",
       "      <td>0.254554</td>\n",
       "      <td>0.136193</td>\n",
       "    </tr>\n",
       "    <tr>\n",
       "      <th>BaselineOnly</th>\n",
       "      <td>0.811681</td>\n",
       "      <td>0.831300</td>\n",
       "      <td>0.833441</td>\n",
       "      <td>0.832369</td>\n",
       "      <td>0.374843</td>\n",
       "      <td>0.290765</td>\n",
       "    </tr>\n",
       "    <tr>\n",
       "      <th>SlopeOne</th>\n",
       "      <td>0.811753</td>\n",
       "      <td>0.832089</td>\n",
       "      <td>0.832411</td>\n",
       "      <td>0.832250</td>\n",
       "      <td>0.373140</td>\n",
       "      <td>0.280799</td>\n",
       "    </tr>\n",
       "    <tr>\n",
       "      <th>NormalPredictor</th>\n",
       "      <td>0.507422</td>\n",
       "      <td>0.562451</td>\n",
       "      <td>0.549124</td>\n",
       "      <td>0.555708</td>\n",
       "      <td>0.610619</td>\n",
       "      <td>0.493533</td>\n",
       "    </tr>\n",
       "  </tbody>\n",
       "</table>\n",
       "</div>"
      ],
      "text/plain": [
       "                 accuracy  precision    recall  f1_score  test_rmse  test_mae\n",
       "KNNBaseline      0.924405   0.936416  0.928277  0.932329   0.242259  0.103548\n",
       "KNNWithMeans     0.923972   0.935913  0.928020  0.931950   0.242426  0.106797\n",
       "SVD              0.923827   0.934936  0.928857  0.931886   0.243304  0.144205\n",
       "NMF              0.921949   0.939575  0.920036  0.929703   0.258004  0.181674\n",
       "CoClustering     0.918626   0.929435  0.925187  0.927306   0.254554  0.136193\n",
       "BaselineOnly     0.811681   0.831300  0.833441  0.832369   0.374843  0.290765\n",
       "SlopeOne         0.811753   0.832089  0.832411  0.832250   0.373140  0.280799\n",
       "NormalPredictor  0.507422   0.562451  0.549124  0.555708   0.610619  0.493533"
      ]
     },
     "execution_count": 29,
     "metadata": {},
     "output_type": "execute_result"
    }
   ],
   "source": [
    "results"
   ]
  },
  {
   "cell_type": "code",
   "execution_count": 14,
   "metadata": {
    "scrolled": true
   },
   "outputs": [],
   "source": [
    "# Plot the confusion matrix as a heatmap\n",
    "# sns.heatmap(matrix, annot=True, cmap='Blues', fmt='g')\n",
    "# matrix"
   ]
  },
  {
   "attachments": {},
   "cell_type": "markdown",
   "metadata": {},
   "source": [
    "#### KNN with diferent K and test_sizes"
   ]
  },
  {
   "cell_type": "code",
   "execution_count": 30,
   "metadata": {
    "scrolled": true
   },
   "outputs": [
    {
     "name": "stdout",
     "output_type": "stream",
     "text": [
      "Estimating biases using als...\n",
      "Computing the msd similarity matrix...\n",
      "Done computing similarity matrix.\n",
      "Estimating biases using als...\n",
      "Computing the msd similarity matrix...\n",
      "Done computing similarity matrix.\n",
      "Estimating biases using als...\n",
      "Computing the msd similarity matrix...\n",
      "Done computing similarity matrix.\n",
      "Estimating biases using als...\n",
      "Computing the msd similarity matrix...\n",
      "Done computing similarity matrix.\n",
      "Estimating biases using als...\n",
      "Computing the msd similarity matrix...\n",
      "Done computing similarity matrix.\n",
      "Estimating biases using als...\n",
      "Computing the msd similarity matrix...\n",
      "Done computing similarity matrix.\n",
      "Estimating biases using als...\n",
      "Computing the msd similarity matrix...\n",
      "Done computing similarity matrix.\n",
      "Estimating biases using als...\n",
      "Computing the msd similarity matrix...\n",
      "Done computing similarity matrix.\n",
      "Estimating biases using als...\n",
      "Computing the msd similarity matrix...\n",
      "Done computing similarity matrix.\n",
      "Estimating biases using als...\n",
      "Computing the msd similarity matrix...\n",
      "Done computing similarity matrix.\n",
      "Estimating biases using als...\n",
      "Computing the msd similarity matrix...\n",
      "Done computing similarity matrix.\n",
      "Estimating biases using als...\n",
      "Computing the msd similarity matrix...\n",
      "Done computing similarity matrix.\n",
      "Estimating biases using als...\n",
      "Computing the msd similarity matrix...\n",
      "Done computing similarity matrix.\n",
      "Estimating biases using als...\n",
      "Computing the msd similarity matrix...\n",
      "Done computing similarity matrix.\n",
      "Estimating biases using als...\n",
      "Computing the msd similarity matrix...\n",
      "Done computing similarity matrix.\n",
      "Estimating biases using als...\n",
      "Computing the msd similarity matrix...\n",
      "Done computing similarity matrix.\n",
      "Estimating biases using als...\n",
      "Computing the msd similarity matrix...\n",
      "Done computing similarity matrix.\n",
      "Estimating biases using als...\n",
      "Computing the msd similarity matrix...\n",
      "Done computing similarity matrix.\n",
      "Estimating biases using als...\n",
      "Computing the msd similarity matrix...\n",
      "Done computing similarity matrix.\n",
      "Estimating biases using als...\n",
      "Computing the msd similarity matrix...\n",
      "Done computing similarity matrix.\n",
      "Estimating biases using als...\n",
      "Computing the msd similarity matrix...\n",
      "Done computing similarity matrix.\n",
      "Estimating biases using als...\n",
      "Computing the msd similarity matrix...\n",
      "Done computing similarity matrix.\n",
      "Estimating biases using als...\n",
      "Computing the msd similarity matrix...\n",
      "Done computing similarity matrix.\n",
      "Estimating biases using als...\n",
      "Computing the msd similarity matrix...\n",
      "Done computing similarity matrix.\n",
      "Estimating biases using als...\n",
      "Computing the msd similarity matrix...\n",
      "Done computing similarity matrix.\n"
     ]
    },
    {
     "data": {
      "text/html": [
       "<div>\n",
       "<style scoped>\n",
       "    .dataframe tbody tr th:only-of-type {\n",
       "        vertical-align: middle;\n",
       "    }\n",
       "\n",
       "    .dataframe tbody tr th {\n",
       "        vertical-align: top;\n",
       "    }\n",
       "\n",
       "    .dataframe thead th {\n",
       "        text-align: right;\n",
       "    }\n",
       "</style>\n",
       "<table border=\"1\" class=\"dataframe\">\n",
       "  <thead>\n",
       "    <tr style=\"text-align: right;\">\n",
       "      <th></th>\n",
       "      <th>Test Size</th>\n",
       "      <th>K</th>\n",
       "      <th>accuracy</th>\n",
       "      <th>precision</th>\n",
       "      <th>recall</th>\n",
       "      <th>f1_score</th>\n",
       "    </tr>\n",
       "  </thead>\n",
       "  <tbody>\n",
       "    <tr>\n",
       "      <th>0</th>\n",
       "      <td>10</td>\n",
       "      <td>1</td>\n",
       "      <td>0.800000</td>\n",
       "      <td>0.833333</td>\n",
       "      <td>0.833333</td>\n",
       "      <td>0.833333</td>\n",
       "    </tr>\n",
       "    <tr>\n",
       "      <th>1</th>\n",
       "      <td>10</td>\n",
       "      <td>5</td>\n",
       "      <td>1.000000</td>\n",
       "      <td>1.000000</td>\n",
       "      <td>1.000000</td>\n",
       "      <td>1.000000</td>\n",
       "    </tr>\n",
       "    <tr>\n",
       "      <th>2</th>\n",
       "      <td>10</td>\n",
       "      <td>10</td>\n",
       "      <td>1.000000</td>\n",
       "      <td>1.000000</td>\n",
       "      <td>1.000000</td>\n",
       "      <td>1.000000</td>\n",
       "    </tr>\n",
       "    <tr>\n",
       "      <th>3</th>\n",
       "      <td>10</td>\n",
       "      <td>20</td>\n",
       "      <td>1.000000</td>\n",
       "      <td>1.000000</td>\n",
       "      <td>1.000000</td>\n",
       "      <td>1.000000</td>\n",
       "    </tr>\n",
       "    <tr>\n",
       "      <th>4</th>\n",
       "      <td>10</td>\n",
       "      <td>40</td>\n",
       "      <td>1.000000</td>\n",
       "      <td>1.000000</td>\n",
       "      <td>1.000000</td>\n",
       "      <td>1.000000</td>\n",
       "    </tr>\n",
       "    <tr>\n",
       "      <th>5</th>\n",
       "      <td>30</td>\n",
       "      <td>1</td>\n",
       "      <td>0.933333</td>\n",
       "      <td>0.947368</td>\n",
       "      <td>0.947368</td>\n",
       "      <td>0.947368</td>\n",
       "    </tr>\n",
       "    <tr>\n",
       "      <th>6</th>\n",
       "      <td>30</td>\n",
       "      <td>5</td>\n",
       "      <td>0.933333</td>\n",
       "      <td>0.904762</td>\n",
       "      <td>1.000000</td>\n",
       "      <td>0.950000</td>\n",
       "    </tr>\n",
       "    <tr>\n",
       "      <th>7</th>\n",
       "      <td>30</td>\n",
       "      <td>10</td>\n",
       "      <td>0.933333</td>\n",
       "      <td>0.904762</td>\n",
       "      <td>1.000000</td>\n",
       "      <td>0.950000</td>\n",
       "    </tr>\n",
       "    <tr>\n",
       "      <th>8</th>\n",
       "      <td>30</td>\n",
       "      <td>20</td>\n",
       "      <td>0.966667</td>\n",
       "      <td>0.950000</td>\n",
       "      <td>1.000000</td>\n",
       "      <td>0.974359</td>\n",
       "    </tr>\n",
       "    <tr>\n",
       "      <th>9</th>\n",
       "      <td>30</td>\n",
       "      <td>40</td>\n",
       "      <td>0.966667</td>\n",
       "      <td>0.950000</td>\n",
       "      <td>1.000000</td>\n",
       "      <td>0.974359</td>\n",
       "    </tr>\n",
       "    <tr>\n",
       "      <th>10</th>\n",
       "      <td>50</td>\n",
       "      <td>1</td>\n",
       "      <td>0.940000</td>\n",
       "      <td>0.966667</td>\n",
       "      <td>0.935484</td>\n",
       "      <td>0.950820</td>\n",
       "    </tr>\n",
       "    <tr>\n",
       "      <th>11</th>\n",
       "      <td>50</td>\n",
       "      <td>5</td>\n",
       "      <td>0.940000</td>\n",
       "      <td>0.937500</td>\n",
       "      <td>0.967742</td>\n",
       "      <td>0.952381</td>\n",
       "    </tr>\n",
       "    <tr>\n",
       "      <th>12</th>\n",
       "      <td>50</td>\n",
       "      <td>10</td>\n",
       "      <td>0.940000</td>\n",
       "      <td>0.937500</td>\n",
       "      <td>0.967742</td>\n",
       "      <td>0.952381</td>\n",
       "    </tr>\n",
       "    <tr>\n",
       "      <th>13</th>\n",
       "      <td>50</td>\n",
       "      <td>20</td>\n",
       "      <td>0.960000</td>\n",
       "      <td>0.967742</td>\n",
       "      <td>0.967742</td>\n",
       "      <td>0.967742</td>\n",
       "    </tr>\n",
       "    <tr>\n",
       "      <th>14</th>\n",
       "      <td>50</td>\n",
       "      <td>40</td>\n",
       "      <td>0.960000</td>\n",
       "      <td>0.967742</td>\n",
       "      <td>0.967742</td>\n",
       "      <td>0.967742</td>\n",
       "    </tr>\n",
       "    <tr>\n",
       "      <th>15</th>\n",
       "      <td>70</td>\n",
       "      <td>1</td>\n",
       "      <td>0.942857</td>\n",
       "      <td>0.952381</td>\n",
       "      <td>0.952381</td>\n",
       "      <td>0.952381</td>\n",
       "    </tr>\n",
       "    <tr>\n",
       "      <th>16</th>\n",
       "      <td>70</td>\n",
       "      <td>5</td>\n",
       "      <td>0.928571</td>\n",
       "      <td>0.911111</td>\n",
       "      <td>0.976190</td>\n",
       "      <td>0.942529</td>\n",
       "    </tr>\n",
       "    <tr>\n",
       "      <th>17</th>\n",
       "      <td>70</td>\n",
       "      <td>10</td>\n",
       "      <td>0.928571</td>\n",
       "      <td>0.911111</td>\n",
       "      <td>0.976190</td>\n",
       "      <td>0.942529</td>\n",
       "    </tr>\n",
       "    <tr>\n",
       "      <th>18</th>\n",
       "      <td>70</td>\n",
       "      <td>20</td>\n",
       "      <td>0.942857</td>\n",
       "      <td>0.931818</td>\n",
       "      <td>0.976190</td>\n",
       "      <td>0.953488</td>\n",
       "    </tr>\n",
       "    <tr>\n",
       "      <th>19</th>\n",
       "      <td>70</td>\n",
       "      <td>40</td>\n",
       "      <td>0.928571</td>\n",
       "      <td>0.930233</td>\n",
       "      <td>0.952381</td>\n",
       "      <td>0.941176</td>\n",
       "    </tr>\n",
       "    <tr>\n",
       "      <th>20</th>\n",
       "      <td>90</td>\n",
       "      <td>1</td>\n",
       "      <td>0.922222</td>\n",
       "      <td>0.923077</td>\n",
       "      <td>0.941176</td>\n",
       "      <td>0.932039</td>\n",
       "    </tr>\n",
       "    <tr>\n",
       "      <th>21</th>\n",
       "      <td>90</td>\n",
       "      <td>5</td>\n",
       "      <td>0.922222</td>\n",
       "      <td>0.907407</td>\n",
       "      <td>0.960784</td>\n",
       "      <td>0.933333</td>\n",
       "    </tr>\n",
       "    <tr>\n",
       "      <th>22</th>\n",
       "      <td>90</td>\n",
       "      <td>10</td>\n",
       "      <td>0.922222</td>\n",
       "      <td>0.907407</td>\n",
       "      <td>0.960784</td>\n",
       "      <td>0.933333</td>\n",
       "    </tr>\n",
       "    <tr>\n",
       "      <th>23</th>\n",
       "      <td>90</td>\n",
       "      <td>20</td>\n",
       "      <td>0.922222</td>\n",
       "      <td>0.907407</td>\n",
       "      <td>0.960784</td>\n",
       "      <td>0.933333</td>\n",
       "    </tr>\n",
       "    <tr>\n",
       "      <th>24</th>\n",
       "      <td>90</td>\n",
       "      <td>40</td>\n",
       "      <td>0.911111</td>\n",
       "      <td>0.905660</td>\n",
       "      <td>0.941176</td>\n",
       "      <td>0.923077</td>\n",
       "    </tr>\n",
       "  </tbody>\n",
       "</table>\n",
       "</div>"
      ],
      "text/plain": [
       "    Test Size   K  accuracy  precision    recall  f1_score\n",
       "0          10   1  0.800000   0.833333  0.833333  0.833333\n",
       "1          10   5  1.000000   1.000000  1.000000  1.000000\n",
       "2          10  10  1.000000   1.000000  1.000000  1.000000\n",
       "3          10  20  1.000000   1.000000  1.000000  1.000000\n",
       "4          10  40  1.000000   1.000000  1.000000  1.000000\n",
       "5          30   1  0.933333   0.947368  0.947368  0.947368\n",
       "6          30   5  0.933333   0.904762  1.000000  0.950000\n",
       "7          30  10  0.933333   0.904762  1.000000  0.950000\n",
       "8          30  20  0.966667   0.950000  1.000000  0.974359\n",
       "9          30  40  0.966667   0.950000  1.000000  0.974359\n",
       "10         50   1  0.940000   0.966667  0.935484  0.950820\n",
       "11         50   5  0.940000   0.937500  0.967742  0.952381\n",
       "12         50  10  0.940000   0.937500  0.967742  0.952381\n",
       "13         50  20  0.960000   0.967742  0.967742  0.967742\n",
       "14         50  40  0.960000   0.967742  0.967742  0.967742\n",
       "15         70   1  0.942857   0.952381  0.952381  0.952381\n",
       "16         70   5  0.928571   0.911111  0.976190  0.942529\n",
       "17         70  10  0.928571   0.911111  0.976190  0.942529\n",
       "18         70  20  0.942857   0.931818  0.976190  0.953488\n",
       "19         70  40  0.928571   0.930233  0.952381  0.941176\n",
       "20         90   1  0.922222   0.923077  0.941176  0.932039\n",
       "21         90   5  0.922222   0.907407  0.960784  0.933333\n",
       "22         90  10  0.922222   0.907407  0.960784  0.933333\n",
       "23         90  20  0.922222   0.907407  0.960784  0.933333\n",
       "24         90  40  0.911111   0.905660  0.941176  0.923077"
      ]
     },
     "execution_count": 30,
     "metadata": {},
     "output_type": "execute_result"
    }
   ],
   "source": [
    "# Define the test sizes to evaluate\n",
    "test_sizes = np.arange(10, 91, 20)\n",
    "k_values = [1,5,10,20,40]\n",
    "\n",
    "# Evaluate the test sizes and store the results\n",
    "results = evaluate_test_size(data, test_sizes,k_values)\n",
    "results"
   ]
  },
  {
   "cell_type": "code",
   "execution_count": 31,
   "metadata": {},
   "outputs": [
    {
     "data": {
      "image/png": "[encoded data removed]",
      "text/plain": [
       "<Figure size 432x288 with 1 Axes>"
      ]
     },
     "metadata": {
      "needs_background": "light"
     },
     "output_type": "display_data"
    }
   ],
   "source": [
    "# Group the results by test size\n",
    "grouped = results.groupby(['Test Size'])\n",
    "\n",
    "# Iterate through each group and plot the RMSE values against k\n",
    "for name, group in grouped:\n",
    "    test_size = name\n",
    "    plt.plot(group['K'], group['accuracy'], label=f\"Test Size: {test_size}\")\n",
    "\n",
    "# Add axis labels and a legend\n",
    "plt.xlabel('K')\n",
    "plt.ylabel('Accuracy')\n",
    "plt.legend()\n",
    "\n",
    "# Show the plot\n",
    "plt.show()"
   ]
  },
  {
   "attachments": {},
   "cell_type": "markdown",
   "metadata": {},
   "source": [
    "#### Noisy Data - 10% of real data"
   ]
  },
  {
   "cell_type": "code",
   "execution_count": 32,
   "metadata": {},
   "outputs": [
    {
     "name": "stderr",
     "output_type": "stream",
     "text": [
      "C:\\Users\\ritac\\AppData\\Local\\Temp/ipykernel_16944/3285990240.py:8: SettingWithCopyWarning:\n",
      "\n",
      "\n",
      "A value is trying to be set on a copy of a slice from a DataFrame.\n",
      "Try using .loc[row_indexer,col_indexer] = value instead\n",
      "\n",
      "See the caveats in the documentation: https://pandas.pydata.org/pandas-docs/stable/user_guide/indexing.html#returning-a-view-versus-a-copy\n",
      "\n"
     ]
    }
   ],
   "source": [
    "# add noise to ratings column\n",
    "num_rows = len(df_bool)\n",
    "num_real_ratings = int(num_rows * 0.1)  # keep 10% real ratings\n",
    "num_noise_ratings = num_rows - num_real_ratings\n",
    "noise_ratings = np.random.randint(2, size=num_noise_ratings)  # generate random binary ratings\n",
    "ratings = np.concatenate((df_bool['vote_enc'].values[:num_real_ratings], noise_ratings))  # combine real and noise ratings\n",
    "np.random.shuffle(ratings)  # shuffle the ratings\n",
    "df_bool['vote_noise'] = ratings  # replace the original ratings with the shuffled ratings"
   ]
  },
  {
   "cell_type": "code",
   "execution_count": 33,
   "metadata": {},
   "outputs": [],
   "source": [
    "# Load the data into a dataset\n",
    "data = Dataset.load_from_df(df_bool[['deputado_enc', 'idVotacao', 'vote_noise']], reader)\n",
    "\n",
    "# Split the data into a training set and a test set\n",
    "trainset, testset = train_test_split(data, test_size=0.25, random_state=42)"
   ]
  },
  {
   "cell_type": "code",
   "execution_count": 34,
   "metadata": {},
   "outputs": [
    {
     "name": "stdout",
     "output_type": "stream",
     "text": [
      "Estimating biases using als...\n",
      "Computing the msd similarity matrix...\n",
      "Done computing similarity matrix.\n",
      "Estimating biases using als...\n",
      "Computing the msd similarity matrix...\n",
      "Done computing similarity matrix.\n",
      "Estimating biases using als...\n",
      "Computing the msd similarity matrix...\n",
      "Done computing similarity matrix.\n",
      "Estimating biases using als...\n",
      "Computing the msd similarity matrix...\n",
      "Done computing similarity matrix.\n",
      "Estimating biases using als...\n",
      "Computing the msd similarity matrix...\n",
      "Done computing similarity matrix.\n",
      "Estimating biases using als...\n",
      "Computing the msd similarity matrix...\n",
      "Done computing similarity matrix.\n",
      "Estimating biases using als...\n",
      "Computing the msd similarity matrix...\n",
      "Done computing similarity matrix.\n",
      "Estimating biases using als...\n",
      "Computing the msd similarity matrix...\n",
      "Done computing similarity matrix.\n",
      "Estimating biases using als...\n",
      "Computing the msd similarity matrix...\n",
      "Done computing similarity matrix.\n",
      "Estimating biases using als...\n",
      "Computing the msd similarity matrix...\n",
      "Done computing similarity matrix.\n",
      "Estimating biases using als...\n",
      "Computing the msd similarity matrix...\n",
      "Done computing similarity matrix.\n",
      "Estimating biases using als...\n",
      "Computing the msd similarity matrix...\n",
      "Done computing similarity matrix.\n",
      "Estimating biases using als...\n",
      "Computing the msd similarity matrix...\n",
      "Done computing similarity matrix.\n",
      "Estimating biases using als...\n",
      "Computing the msd similarity matrix...\n",
      "Done computing similarity matrix.\n",
      "Estimating biases using als...\n",
      "Computing the msd similarity matrix...\n",
      "Done computing similarity matrix.\n",
      "Estimating biases using als...\n",
      "Computing the msd similarity matrix...\n",
      "Done computing similarity matrix.\n",
      "Estimating biases using als...\n",
      "Computing the msd similarity matrix...\n",
      "Done computing similarity matrix.\n",
      "Estimating biases using als...\n",
      "Computing the msd similarity matrix...\n",
      "Done computing similarity matrix.\n",
      "Estimating biases using als...\n",
      "Computing the msd similarity matrix...\n",
      "Done computing similarity matrix.\n",
      "Estimating biases using als...\n",
      "Computing the msd similarity matrix...\n",
      "Done computing similarity matrix.\n",
      "Estimating biases using als...\n",
      "Computing the msd similarity matrix...\n",
      "Done computing similarity matrix.\n",
      "Estimating biases using als...\n",
      "Computing the msd similarity matrix...\n",
      "Done computing similarity matrix.\n",
      "Estimating biases using als...\n",
      "Computing the msd similarity matrix...\n",
      "Done computing similarity matrix.\n",
      "Estimating biases using als...\n",
      "Computing the msd similarity matrix...\n",
      "Done computing similarity matrix.\n",
      "Estimating biases using als...\n",
      "Computing the msd similarity matrix...\n",
      "Done computing similarity matrix.\n"
     ]
    },
    {
     "data": {
      "text/html": [
       "<div>\n",
       "<style scoped>\n",
       "    .dataframe tbody tr th:only-of-type {\n",
       "        vertical-align: middle;\n",
       "    }\n",
       "\n",
       "    .dataframe tbody tr th {\n",
       "        vertical-align: top;\n",
       "    }\n",
       "\n",
       "    .dataframe thead th {\n",
       "        text-align: right;\n",
       "    }\n",
       "</style>\n",
       "<table border=\"1\" class=\"dataframe\">\n",
       "  <thead>\n",
       "    <tr style=\"text-align: right;\">\n",
       "      <th></th>\n",
       "      <th>Test Size</th>\n",
       "      <th>K</th>\n",
       "      <th>accuracy</th>\n",
       "      <th>precision</th>\n",
       "      <th>recall</th>\n",
       "      <th>f1_score</th>\n",
       "    </tr>\n",
       "  </thead>\n",
       "  <tbody>\n",
       "    <tr>\n",
       "      <th>0</th>\n",
       "      <td>10</td>\n",
       "      <td>1</td>\n",
       "      <td>0.500000</td>\n",
       "      <td>0.428571</td>\n",
       "      <td>0.750000</td>\n",
       "      <td>0.545455</td>\n",
       "    </tr>\n",
       "    <tr>\n",
       "      <th>1</th>\n",
       "      <td>10</td>\n",
       "      <td>5</td>\n",
       "      <td>0.500000</td>\n",
       "      <td>0.400000</td>\n",
       "      <td>0.500000</td>\n",
       "      <td>0.444444</td>\n",
       "    </tr>\n",
       "    <tr>\n",
       "      <th>2</th>\n",
       "      <td>10</td>\n",
       "      <td>10</td>\n",
       "      <td>0.700000</td>\n",
       "      <td>0.571429</td>\n",
       "      <td>1.000000</td>\n",
       "      <td>0.727273</td>\n",
       "    </tr>\n",
       "    <tr>\n",
       "      <th>3</th>\n",
       "      <td>10</td>\n",
       "      <td>20</td>\n",
       "      <td>0.500000</td>\n",
       "      <td>0.400000</td>\n",
       "      <td>0.500000</td>\n",
       "      <td>0.444444</td>\n",
       "    </tr>\n",
       "    <tr>\n",
       "      <th>4</th>\n",
       "      <td>10</td>\n",
       "      <td>40</td>\n",
       "      <td>0.800000</td>\n",
       "      <td>0.750000</td>\n",
       "      <td>0.750000</td>\n",
       "      <td>0.750000</td>\n",
       "    </tr>\n",
       "    <tr>\n",
       "      <th>5</th>\n",
       "      <td>30</td>\n",
       "      <td>1</td>\n",
       "      <td>0.533333</td>\n",
       "      <td>0.473684</td>\n",
       "      <td>0.692308</td>\n",
       "      <td>0.562500</td>\n",
       "    </tr>\n",
       "    <tr>\n",
       "      <th>6</th>\n",
       "      <td>30</td>\n",
       "      <td>5</td>\n",
       "      <td>0.566667</td>\n",
       "      <td>0.500000</td>\n",
       "      <td>0.692308</td>\n",
       "      <td>0.580645</td>\n",
       "    </tr>\n",
       "    <tr>\n",
       "      <th>7</th>\n",
       "      <td>30</td>\n",
       "      <td>10</td>\n",
       "      <td>0.500000</td>\n",
       "      <td>0.458333</td>\n",
       "      <td>0.846154</td>\n",
       "      <td>0.594595</td>\n",
       "    </tr>\n",
       "    <tr>\n",
       "      <th>8</th>\n",
       "      <td>30</td>\n",
       "      <td>20</td>\n",
       "      <td>0.466667</td>\n",
       "      <td>0.434783</td>\n",
       "      <td>0.769231</td>\n",
       "      <td>0.555556</td>\n",
       "    </tr>\n",
       "    <tr>\n",
       "      <th>9</th>\n",
       "      <td>30</td>\n",
       "      <td>40</td>\n",
       "      <td>0.533333</td>\n",
       "      <td>0.476190</td>\n",
       "      <td>0.769231</td>\n",
       "      <td>0.588235</td>\n",
       "    </tr>\n",
       "    <tr>\n",
       "      <th>10</th>\n",
       "      <td>50</td>\n",
       "      <td>1</td>\n",
       "      <td>0.460000</td>\n",
       "      <td>0.428571</td>\n",
       "      <td>0.521739</td>\n",
       "      <td>0.470588</td>\n",
       "    </tr>\n",
       "    <tr>\n",
       "      <th>11</th>\n",
       "      <td>50</td>\n",
       "      <td>5</td>\n",
       "      <td>0.500000</td>\n",
       "      <td>0.464286</td>\n",
       "      <td>0.565217</td>\n",
       "      <td>0.509804</td>\n",
       "    </tr>\n",
       "    <tr>\n",
       "      <th>12</th>\n",
       "      <td>50</td>\n",
       "      <td>10</td>\n",
       "      <td>0.520000</td>\n",
       "      <td>0.485714</td>\n",
       "      <td>0.739130</td>\n",
       "      <td>0.586207</td>\n",
       "    </tr>\n",
       "    <tr>\n",
       "      <th>13</th>\n",
       "      <td>50</td>\n",
       "      <td>20</td>\n",
       "      <td>0.440000</td>\n",
       "      <td>0.424242</td>\n",
       "      <td>0.608696</td>\n",
       "      <td>0.500000</td>\n",
       "    </tr>\n",
       "    <tr>\n",
       "      <th>14</th>\n",
       "      <td>50</td>\n",
       "      <td>40</td>\n",
       "      <td>0.580000</td>\n",
       "      <td>0.527778</td>\n",
       "      <td>0.826087</td>\n",
       "      <td>0.644068</td>\n",
       "    </tr>\n",
       "    <tr>\n",
       "      <th>15</th>\n",
       "      <td>70</td>\n",
       "      <td>1</td>\n",
       "      <td>0.457143</td>\n",
       "      <td>0.461538</td>\n",
       "      <td>0.514286</td>\n",
       "      <td>0.486486</td>\n",
       "    </tr>\n",
       "    <tr>\n",
       "      <th>16</th>\n",
       "      <td>70</td>\n",
       "      <td>5</td>\n",
       "      <td>0.500000</td>\n",
       "      <td>0.500000</td>\n",
       "      <td>0.542857</td>\n",
       "      <td>0.520548</td>\n",
       "    </tr>\n",
       "    <tr>\n",
       "      <th>17</th>\n",
       "      <td>70</td>\n",
       "      <td>10</td>\n",
       "      <td>0.542857</td>\n",
       "      <td>0.534884</td>\n",
       "      <td>0.657143</td>\n",
       "      <td>0.589744</td>\n",
       "    </tr>\n",
       "    <tr>\n",
       "      <th>18</th>\n",
       "      <td>70</td>\n",
       "      <td>20</td>\n",
       "      <td>0.500000</td>\n",
       "      <td>0.500000</td>\n",
       "      <td>0.571429</td>\n",
       "      <td>0.533333</td>\n",
       "    </tr>\n",
       "    <tr>\n",
       "      <th>19</th>\n",
       "      <td>70</td>\n",
       "      <td>40</td>\n",
       "      <td>0.585714</td>\n",
       "      <td>0.571429</td>\n",
       "      <td>0.685714</td>\n",
       "      <td>0.623377</td>\n",
       "    </tr>\n",
       "    <tr>\n",
       "      <th>20</th>\n",
       "      <td>90</td>\n",
       "      <td>1</td>\n",
       "      <td>0.500000</td>\n",
       "      <td>0.529412</td>\n",
       "      <td>0.562500</td>\n",
       "      <td>0.545455</td>\n",
       "    </tr>\n",
       "    <tr>\n",
       "      <th>21</th>\n",
       "      <td>90</td>\n",
       "      <td>5</td>\n",
       "      <td>0.566667</td>\n",
       "      <td>0.588235</td>\n",
       "      <td>0.625000</td>\n",
       "      <td>0.606061</td>\n",
       "    </tr>\n",
       "    <tr>\n",
       "      <th>22</th>\n",
       "      <td>90</td>\n",
       "      <td>10</td>\n",
       "      <td>0.533333</td>\n",
       "      <td>0.557692</td>\n",
       "      <td>0.604167</td>\n",
       "      <td>0.580000</td>\n",
       "    </tr>\n",
       "    <tr>\n",
       "      <th>23</th>\n",
       "      <td>90</td>\n",
       "      <td>20</td>\n",
       "      <td>0.533333</td>\n",
       "      <td>0.562500</td>\n",
       "      <td>0.562500</td>\n",
       "      <td>0.562500</td>\n",
       "    </tr>\n",
       "    <tr>\n",
       "      <th>24</th>\n",
       "      <td>90</td>\n",
       "      <td>40</td>\n",
       "      <td>0.555556</td>\n",
       "      <td>0.580000</td>\n",
       "      <td>0.604167</td>\n",
       "      <td>0.591837</td>\n",
       "    </tr>\n",
       "  </tbody>\n",
       "</table>\n",
       "</div>"
      ],
      "text/plain": [
       "    Test Size   K  accuracy  precision    recall  f1_score\n",
       "0          10   1  0.500000   0.428571  0.750000  0.545455\n",
       "1          10   5  0.500000   0.400000  0.500000  0.444444\n",
       "2          10  10  0.700000   0.571429  1.000000  0.727273\n",
       "3          10  20  0.500000   0.400000  0.500000  0.444444\n",
       "4          10  40  0.800000   0.750000  0.750000  0.750000\n",
       "5          30   1  0.533333   0.473684  0.692308  0.562500\n",
       "6          30   5  0.566667   0.500000  0.692308  0.580645\n",
       "7          30  10  0.500000   0.458333  0.846154  0.594595\n",
       "8          30  20  0.466667   0.434783  0.769231  0.555556\n",
       "9          30  40  0.533333   0.476190  0.769231  0.588235\n",
       "10         50   1  0.460000   0.428571  0.521739  0.470588\n",
       "11         50   5  0.500000   0.464286  0.565217  0.509804\n",
       "12         50  10  0.520000   0.485714  0.739130  0.586207\n",
       "13         50  20  0.440000   0.424242  0.608696  0.500000\n",
       "14         50  40  0.580000   0.527778  0.826087  0.644068\n",
       "15         70   1  0.457143   0.461538  0.514286  0.486486\n",
       "16         70   5  0.500000   0.500000  0.542857  0.520548\n",
       "17         70  10  0.542857   0.534884  0.657143  0.589744\n",
       "18         70  20  0.500000   0.500000  0.571429  0.533333\n",
       "19         70  40  0.585714   0.571429  0.685714  0.623377\n",
       "20         90   1  0.500000   0.529412  0.562500  0.545455\n",
       "21         90   5  0.566667   0.588235  0.625000  0.606061\n",
       "22         90  10  0.533333   0.557692  0.604167  0.580000\n",
       "23         90  20  0.533333   0.562500  0.562500  0.562500\n",
       "24         90  40  0.555556   0.580000  0.604167  0.591837"
      ]
     },
     "execution_count": 34,
     "metadata": {},
     "output_type": "execute_result"
    }
   ],
   "source": [
    "# Define the test sizes to evaluate\n",
    "test_sizes = np.arange(10, 91, 20)\n",
    "k_values = [1,5,10,20,40]\n",
    "\n",
    "# Evaluate the test sizes and store the results\n",
    "results = evaluate_test_size(data, test_sizes,k_values)\n",
    "results"
   ]
  },
  {
   "cell_type": "code",
   "execution_count": 35,
   "metadata": {},
   "outputs": [],
   "source": [
    "# Split the data into training and testing sets\n",
    "trainset = data.build_full_trainset()\n",
    "# 10% data for test\n",
    "test_size = int(len(df_bool) * 0.1)\n",
    "# 5% deputies\n",
    "test_deputies = df_bool['deputado_enc'].unique()[:int(len(df_bool['deputado_enc'].unique())*0.05)] "
   ]
  },
  {
   "cell_type": "code",
   "execution_count": 36,
   "metadata": {},
   "outputs": [
    {
     "name": "stdout",
     "output_type": "stream",
     "text": [
      "Number of deputies in the training set:  368\n",
      "Number of votes in the training set:  473\n",
      "Number of deputies in the testing set:  18\n",
      "Number of votesin the testing set:  572\n"
     ]
    }
   ],
   "source": [
    "testset = []\n",
    "for deputado_enc in test_deputies:\n",
    "    deputy_votes = df_bool[df_bool['deputado_enc'] == deputado_enc]\n",
    "    # index split the data into training and test sets\n",
    "    split_index = int(len(deputy_votes) * 0.9)\n",
    "    test_ratings = deputy_votes.iloc[split_index:].itertuples(index=False)\n",
    "    testset += [(str(r.deputado_enc), str(r.idVotacao), r.vote_enc) for r in test_ratings]\n",
    "\n",
    "# Print the size of the training and testing sets\n",
    "print('Number of deputies in the training set: ', trainset.n_users)\n",
    "print('Number of votes in the training set: ', trainset.n_items)\n",
    "print('Number of deputies in the testing set: ', len(test_deputies))\n",
    "print('Number of votesin the testing set: ', len(testset))"
   ]
  },
  {
   "cell_type": "code",
   "execution_count": 37,
   "metadata": {},
   "outputs": [
    {
     "name": "stdout",
     "output_type": "stream",
     "text": [
      "RMSE: 0.5031\n",
      "MAE:  0.5018\n",
      "RMSE: 0.4994\n",
      "MAE:  0.4994\n",
      "RMSE: 0.4994\n",
      "MAE:  0.4994\n",
      "RMSE: 0.6024\n",
      "MAE:  0.4932\n",
      "Estimating biases using als...\n",
      "Computing the msd similarity matrix...\n",
      "Done computing similarity matrix.\n",
      "RMSE: 0.5025\n",
      "MAE:  0.5014\n",
      "Computing the msd similarity matrix...\n",
      "Done computing similarity matrix.\n",
      "RMSE: 0.4994\n",
      "MAE:  0.4994\n",
      "Estimating biases using als...\n",
      "RMSE: 0.5025\n",
      "MAE:  0.5014\n",
      "RMSE: 0.4994\n",
      "MAE:  0.4994\n"
     ]
    }
   ],
   "source": [
    "algorithms = [SVD(), SlopeOne(), NMF(), NormalPredictor(), KNNBaseline(), KNNWithMeans(), BaselineOnly(), CoClustering()]\n",
    "results,matrix = evaluate_algorithms_binary(trainset,testset, algorithms)"
   ]
  },
  {
   "cell_type": "code",
   "execution_count": 38,
   "metadata": {},
   "outputs": [
    {
     "data": {
      "text/html": [
       "<div>\n",
       "<style scoped>\n",
       "    .dataframe tbody tr th:only-of-type {\n",
       "        vertical-align: middle;\n",
       "    }\n",
       "\n",
       "    .dataframe tbody tr th {\n",
       "        vertical-align: top;\n",
       "    }\n",
       "\n",
       "    .dataframe thead th {\n",
       "        text-align: right;\n",
       "    }\n",
       "</style>\n",
       "<table border=\"1\" class=\"dataframe\">\n",
       "  <thead>\n",
       "    <tr style=\"text-align: right;\">\n",
       "      <th></th>\n",
       "      <th>accuracy</th>\n",
       "      <th>precision</th>\n",
       "      <th>recall</th>\n",
       "      <th>f1_score</th>\n",
       "      <th>test_rmse</th>\n",
       "      <th>test_mae</th>\n",
       "    </tr>\n",
       "  </thead>\n",
       "  <tbody>\n",
       "    <tr>\n",
       "      <th>SlopeOne</th>\n",
       "      <td>0.578671</td>\n",
       "      <td>0.578671</td>\n",
       "      <td>1.000000</td>\n",
       "      <td>0.733112</td>\n",
       "      <td>0.499409</td>\n",
       "      <td>0.499395</td>\n",
       "    </tr>\n",
       "    <tr>\n",
       "      <th>NMF</th>\n",
       "      <td>0.578671</td>\n",
       "      <td>0.578671</td>\n",
       "      <td>1.000000</td>\n",
       "      <td>0.733112</td>\n",
       "      <td>0.499409</td>\n",
       "      <td>0.499395</td>\n",
       "    </tr>\n",
       "    <tr>\n",
       "      <th>KNNWithMeans</th>\n",
       "      <td>0.578671</td>\n",
       "      <td>0.578671</td>\n",
       "      <td>1.000000</td>\n",
       "      <td>0.733112</td>\n",
       "      <td>0.499409</td>\n",
       "      <td>0.499395</td>\n",
       "    </tr>\n",
       "    <tr>\n",
       "      <th>CoClustering</th>\n",
       "      <td>0.578671</td>\n",
       "      <td>0.578671</td>\n",
       "      <td>1.000000</td>\n",
       "      <td>0.733112</td>\n",
       "      <td>0.499409</td>\n",
       "      <td>0.499395</td>\n",
       "    </tr>\n",
       "    <tr>\n",
       "      <th>SVD</th>\n",
       "      <td>0.494755</td>\n",
       "      <td>0.568182</td>\n",
       "      <td>0.528701</td>\n",
       "      <td>0.547731</td>\n",
       "      <td>0.503139</td>\n",
       "      <td>0.501754</td>\n",
       "    </tr>\n",
       "    <tr>\n",
       "      <th>NormalPredictor</th>\n",
       "      <td>0.489510</td>\n",
       "      <td>0.568421</td>\n",
       "      <td>0.489426</td>\n",
       "      <td>0.525974</td>\n",
       "      <td>0.602447</td>\n",
       "      <td>0.493247</td>\n",
       "    </tr>\n",
       "    <tr>\n",
       "      <th>KNNBaseline</th>\n",
       "      <td>0.479021</td>\n",
       "      <td>0.561338</td>\n",
       "      <td>0.456193</td>\n",
       "      <td>0.503333</td>\n",
       "      <td>0.502533</td>\n",
       "      <td>0.501407</td>\n",
       "    </tr>\n",
       "    <tr>\n",
       "      <th>BaselineOnly</th>\n",
       "      <td>0.479021</td>\n",
       "      <td>0.561338</td>\n",
       "      <td>0.456193</td>\n",
       "      <td>0.503333</td>\n",
       "      <td>0.502533</td>\n",
       "      <td>0.501407</td>\n",
       "    </tr>\n",
       "  </tbody>\n",
       "</table>\n",
       "</div>"
      ],
      "text/plain": [
       "                 accuracy  precision    recall  f1_score  test_rmse  test_mae\n",
       "SlopeOne         0.578671   0.578671  1.000000  0.733112   0.499409  0.499395\n",
       "NMF              0.578671   0.578671  1.000000  0.733112   0.499409  0.499395\n",
       "KNNWithMeans     0.578671   0.578671  1.000000  0.733112   0.499409  0.499395\n",
       "CoClustering     0.578671   0.578671  1.000000  0.733112   0.499409  0.499395\n",
       "SVD              0.494755   0.568182  0.528701  0.547731   0.503139  0.501754\n",
       "NormalPredictor  0.489510   0.568421  0.489426  0.525974   0.602447  0.493247\n",
       "KNNBaseline      0.479021   0.561338  0.456193  0.503333   0.502533  0.501407\n",
       "BaselineOnly     0.479021   0.561338  0.456193  0.503333   0.502533  0.501407"
      ]
     },
     "execution_count": 38,
     "metadata": {},
     "output_type": "execute_result"
    }
   ],
   "source": [
    "results"
   ]
  },
  {
   "attachments": {},
   "cell_type": "markdown",
   "metadata": {},
   "source": [
    "### Knn, with k = [1,5,10,20,40]"
   ]
  },
  {
   "cell_type": "code",
   "execution_count": 39,
   "metadata": {
    "colab": {
     "base_uri": "https://localhost:8080/",
     "height": 713
    },
    "id": "2fJYAx2xaKUa",
    "outputId": "84be036d-8d38-48c6-f4ad-d267fa17fa1d"
   },
   "outputs": [
    {
     "name": "stdout",
     "output_type": "stream",
     "text": [
      "Estimating biases using als...\n",
      "Computing the pearson_baseline similarity matrix...\n",
      "Done computing similarity matrix.\n",
      "RMSE: 0.4994\n",
      "MAE:  0.4994\n",
      "Estimating biases using als...\n",
      "Computing the pearson_baseline similarity matrix...\n",
      "Done computing similarity matrix.\n",
      "RMSE: 0.4994\n",
      "MAE:  0.4994\n",
      "Estimating biases using als...\n",
      "Computing the pearson_baseline similarity matrix...\n",
      "Done computing similarity matrix.\n",
      "RMSE: 0.4994\n",
      "MAE:  0.4994\n",
      "Estimating biases using als...\n",
      "Computing the pearson_baseline similarity matrix...\n",
      "Done computing similarity matrix.\n",
      "RMSE: 0.4994\n",
      "MAE:  0.4994\n",
      "Estimating biases using als...\n",
      "Computing the pearson_baseline similarity matrix...\n",
      "Done computing similarity matrix.\n",
      "RMSE: 0.4994\n",
      "MAE:  0.4994\n"
     ]
    },
    {
     "data": {
      "image/png": "[encoded data removed]",
      "text/plain": [
       "<Figure size 432x288 with 1 Axes>"
      ]
     },
     "metadata": {
      "needs_background": "light"
     },
     "output_type": "display_data"
    }
   ],
   "source": [
    "k_values = [1,5,10,20,40]\n",
    "results_YN = plot_knn_results(trainset,testset, k_values)"
   ]
  },
  {
   "cell_type": "code",
   "execution_count": 40,
   "metadata": {},
   "outputs": [
    {
     "name": "stdout",
     "output_type": "stream",
     "text": [
      "1.0 0.5068703013456315 0.6727457577377397\n"
     ]
    }
   ],
   "source": [
    "svdModel_binary(trainset)"
   ]
  },
  {
   "cell_type": "code",
   "execution_count": 41,
   "metadata": {},
   "outputs": [
    {
     "name": "stdout",
     "output_type": "stream",
     "text": [
      "Estimating biases using sgd...\n",
      "RMSE: 0.5000\n"
     ]
    },
    {
     "data": {
      "text/plain": [
       "0.5000435888658187"
      ]
     },
     "execution_count": 41,
     "metadata": {},
     "output_type": "execute_result"
    }
   ],
   "source": [
    "bslModel(trainset)"
   ]
  },
  {
   "attachments": {},
   "cell_type": "markdown",
   "metadata": {
    "id": "h2kVTRaNZNf2"
   },
   "source": [
    "# With orientation, gender, age and city - Continuous Rating"
   ]
  },
  {
   "cell_type": "code",
   "execution_count": 125,
   "metadata": {
    "id": "q5kUrZnSZNf4"
   },
   "outputs": [],
   "source": [
    "# Convert the data into a Surprise-compatible dataset format\n",
    "reader = Reader(rating_scale=(0, 4))\n",
    "data_spec = CustomDataset(dfP, reader)"
   ]
  },
  {
   "cell_type": "code",
   "execution_count": 126,
   "metadata": {
    "id": "f7joSYg9ENya"
   },
   "outputs": [],
   "source": [
    "# Split the data into a training set and a test set\n",
    "trainset, testset = train_test_split(data_spec, test_size=0.25, random_state=42)"
   ]
  },
  {
   "cell_type": "code",
   "execution_count": 127,
   "metadata": {},
   "outputs": [
    {
     "name": "stdout",
     "output_type": "stream",
     "text": [
      "Estimating biases using sgd...\n",
      "RMSE: 0.9254\n"
     ]
    },
    {
     "data": {
      "text/plain": [
       "0.9254046321986652"
      ]
     },
     "execution_count": 127,
     "metadata": {},
     "output_type": "execute_result"
    }
   ],
   "source": [
    "bslModel(trainset)"
   ]
  },
  {
   "cell_type": "code",
   "execution_count": 128,
   "metadata": {},
   "outputs": [
    {
     "name": "stdout",
     "output_type": "stream",
     "text": [
      "MAE:  0.7370\n",
      "RMSE: 0.7915\n",
      "MAE:  0.7370\n"
     ]
    },
    {
     "data": {
      "text/plain": [
       "(0.791548838752148, 0.7369818420275982)"
      ]
     },
     "execution_count": 128,
     "metadata": {},
     "output_type": "execute_result"
    }
   ],
   "source": [
    "svdModel(trainset)"
   ]
  },
  {
   "cell_type": "code",
   "execution_count": 129,
   "metadata": {},
   "outputs": [
    {
     "name": "stdout",
     "output_type": "stream",
     "text": [
      "Estimating biases using als...\n",
      "Computing the pearson_baseline similarity matrix...\n",
      "Done computing similarity matrix.\n",
      "RMSE: 0.5494\n",
      "MAE:  0.1507\n",
      "Estimating biases using als...\n",
      "Computing the pearson_baseline similarity matrix...\n",
      "Done computing similarity matrix.\n",
      "RMSE: 0.4996\n",
      "MAE:  0.1928\n",
      "Estimating biases using als...\n",
      "Computing the pearson_baseline similarity matrix...\n",
      "Done computing similarity matrix.\n",
      "RMSE: 0.5133\n",
      "MAE:  0.2185\n",
      "Estimating biases using als...\n",
      "Computing the pearson_baseline similarity matrix...\n",
      "Done computing similarity matrix.\n",
      "RMSE: 0.5413\n",
      "MAE:  0.2535\n",
      "Estimating biases using als...\n",
      "Computing the pearson_baseline similarity matrix...\n",
      "Done computing similarity matrix.\n",
      "RMSE: 0.5728\n",
      "MAE:  0.2950\n"
     ]
    },
    {
     "data": {
      "image/png": "[encoded data removed]",
      "text/plain": [
       "<Figure size 432x288 with 1 Axes>"
      ]
     },
     "metadata": {
      "needs_background": "light"
     },
     "output_type": "display_data"
    },
    {
     "data": {
      "text/html": [
       "<div>\n",
       "<style scoped>\n",
       "    .dataframe tbody tr th:only-of-type {\n",
       "        vertical-align: middle;\n",
       "    }\n",
       "\n",
       "    .dataframe tbody tr th {\n",
       "        vertical-align: top;\n",
       "    }\n",
       "\n",
       "    .dataframe thead th {\n",
       "        text-align: right;\n",
       "    }\n",
       "</style>\n",
       "<table border=\"1\" class=\"dataframe\">\n",
       "  <thead>\n",
       "    <tr style=\"text-align: right;\">\n",
       "      <th></th>\n",
       "      <th>k</th>\n",
       "      <th>rmse</th>\n",
       "      <th>accuracy</th>\n",
       "    </tr>\n",
       "  </thead>\n",
       "  <tbody>\n",
       "    <tr>\n",
       "      <th>0</th>\n",
       "      <td>1.0</td>\n",
       "      <td>0.549409</td>\n",
       "      <td>0.150711</td>\n",
       "    </tr>\n",
       "    <tr>\n",
       "      <th>1</th>\n",
       "      <td>5.0</td>\n",
       "      <td>0.499628</td>\n",
       "      <td>0.192813</td>\n",
       "    </tr>\n",
       "    <tr>\n",
       "      <th>2</th>\n",
       "      <td>10.0</td>\n",
       "      <td>0.513332</td>\n",
       "      <td>0.218479</td>\n",
       "    </tr>\n",
       "    <tr>\n",
       "      <th>3</th>\n",
       "      <td>20.0</td>\n",
       "      <td>0.541256</td>\n",
       "      <td>0.253531</td>\n",
       "    </tr>\n",
       "    <tr>\n",
       "      <th>4</th>\n",
       "      <td>40.0</td>\n",
       "      <td>0.572848</td>\n",
       "      <td>0.295029</td>\n",
       "    </tr>\n",
       "  </tbody>\n",
       "</table>\n",
       "</div>"
      ],
      "text/plain": [
       "      k      rmse  accuracy\n",
       "0   1.0  0.549409  0.150711\n",
       "1   5.0  0.499628  0.192813\n",
       "2  10.0  0.513332  0.218479\n",
       "3  20.0  0.541256  0.253531\n",
       "4  40.0  0.572848  0.295029"
      ]
     },
     "execution_count": 129,
     "metadata": {},
     "output_type": "execute_result"
    }
   ],
   "source": [
    "k_values = [1,5,10,20,40]\n",
    "plot_knn_results(trainset,testset, k_values)"
   ]
  }
 ],
 "metadata": {
  "colab": {
   "provenance": []
  },
  "kernelspec": {
   "display_name": "Python 3 (ipykernel)",
   "language": "python",
   "name": "python3"
  },
  "language_info": {
   "codemirror_mode": {
    "name": "ipython",
    "version": 3
   },
   "file_extension": ".py",
   "mimetype": "text/x-python",
   "name": "python",
   "nbconvert_exporter": "python",
   "pygments_lexer": "ipython3",
   "version": "3.9.7"
  },
  "vscode": {
   "interpreter": {
    "hash": "c0077efedd7f951d8e806ea1d02fda7cb26a9ecb591206ce4c3d80753635a572"
   }
  }
 },
 "nbformat": 4,
 "nbformat_minor": 1
}
