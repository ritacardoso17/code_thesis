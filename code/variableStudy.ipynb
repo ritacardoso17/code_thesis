{
 "cells": [
  {
   "cell_type": "code",
   "execution_count": 2,
   "id": "196739d8",
   "metadata": {},
   "outputs": [],
   "source": [
    "import pandas as pd\n",
    "import matplotlib.pyplot as plt\n",
    "import numpy as np\n",
    "import seaborn as sns\n",
    "import datetime\n",
    "from datetime import date\n",
    "\n",
    "##csv usados\n",
    "df = pd.read_csv(\"../data/raw/votacoes-2022.csv\", sep=';')\n",
    "dfV = pd.read_csv(\"../data/raw/votacoesVotos-2022.csv\", sep=';')\n",
    "dfO =  pd.read_csv(\"../data/raw/votacoesOrientacoes-2022.csv\", sep=';')\n",
    "deputados = pd.read_csv(\"../data/raw/deputados.csv\", sep=';')\n",
    "\n",
    "themes =  pd.read_csv(\"../data/raw/proposicoesTemas-2022.csv\", sep=';')"
   ]
  },
  {
   "attachments": {},
   "cell_type": "markdown",
   "id": "e6e5ed76",
   "metadata": {},
   "source": [
    "### Functions"
   ]
  },
  {
   "cell_type": "code",
   "execution_count": 3,
   "id": "b6b4aa83",
   "metadata": {},
   "outputs": [],
   "source": [
    "## Para identificar tipos de sexo no plot\n",
    "def pltcolor(lst):\n",
    "    cols=[]\n",
    "    for l in lst:\n",
    "        if l=='F':\n",
    "            cols.append('red')\n",
    "        elif l=='M':\n",
    "            cols.append('blue')\n",
    "        else:\n",
    "            cols.append('green')\n",
    "    return cols\n",
    "\n",
    "## Para identificar tipos de idade no plot\n",
    "def pltcolorA(lst):\n",
    "    cols=[]\n",
    "    for l in lst:\n",
    "        if l > 70:\n",
    "            cols.append('red')\n",
    "        elif 50 <l<70:\n",
    "            cols.append('blue')\n",
    "        elif 30 <l< 50:\n",
    "            cols.append('yellow')\n",
    "        else:\n",
    "            cols.append('green')\n",
    "    return cols\n",
    "\n",
    "def pltcolorM(lst):\n",
    "    cols=[]\n",
    "    for l in lst:\n",
    "        if l == 42:\n",
    "            cols.append('red')\n",
    "        elif l==43:\n",
    "            cols.append('blue')\n",
    "        elif l==44:\n",
    "            cols.append('magenta')\n",
    "        elif l==38:\n",
    "            cols.append('cyan')\n",
    "        elif l==16:\n",
    "            cols.append('yellow')\n",
    "        elif l==47:\n",
    "            cols.append('black')\n",
    "        elif l==2:\n",
    "            cols.append('grey')\n",
    "        elif l==3:\n",
    "            cols.append('brown')    \n",
    "        else:\n",
    "            cols.append('green')\n",
    "    return cols"
   ]
  },
  {
   "cell_type": "code",
   "execution_count": 4,
   "id": "a9c85607",
   "metadata": {},
   "outputs": [],
   "source": [
    "import matplotlib.pyplot as plt\n",
    "import matplotlib.patches as mpatches\n",
    "\n",
    "\n",
    "# Function to map deputado com score de concordancia com o partido\n",
    "def pltt(df):\n",
    "    # # Create figure with plot\n",
    "    fig = plt.figure() #Here is your error\n",
    "    plt.scatter(df[\"deputado_enc\"],df[\"score_accordingly\"])\n",
    "#     fig.set_size_inches(18.5, 10.5)\n",
    "    return plt.show()\n",
    "\n",
    "# Function to map deputado com score de concordancia com o partido, tendo em conta o sexo\n",
    "def pltS(df, topic):\n",
    "    # Create the colors list using the function above\n",
    "    cols=pltcolor(df[topic])\n",
    "    # # Create figure with plot\n",
    "    fig = plt.figure()\n",
    "    ax1 = fig.add_subplot(2,2,1)\n",
    "    ax1.scatter(df[\"deputado_enc\"],df[\"score_accordingly\"],  c=cols, s=100)\n",
    "    \n",
    "    # Creating legend with color box\n",
    "    pop_a = mpatches.Patch(color='red', label='F')\n",
    "    pop_b = mpatches.Patch(color='blue', label='M')\n",
    "    plt.legend(handles=[pop_a,pop_b])\n",
    "    \n",
    "    fig.set_size_inches(18.5, 10.5)\n",
    "    plt.show()\n",
    "    return plt.show()\n",
    "\n",
    "# Function to map deputado com score de concordancia com o partido, tendo em conta a idade\n",
    "def pltA(df, topic):\n",
    "    # Create the colors list using the function above\n",
    "    cols=pltcolorA(df[topic])\n",
    "    # # Create figure with plot\n",
    "    fig = plt.figure() \n",
    "    ax1 = fig.add_subplot(2,2,1)\n",
    "    ax1.scatter(df[\"deputado_enc\"],df[\"score_accordingly\"],  c=cols, s=100)\n",
    "   \n",
    "    # Creating legend with color box\n",
    "    pop_a = mpatches.Patch(color='red', label='> 70 anos')\n",
    "    pop_b = mpatches.Patch(color='blue', label=']50,70] anos')\n",
    "    pop_c = mpatches.Patch(color='yellow', label=']30,50] anos')\n",
    "    pop_d = mpatches.Patch(color='green', label='< 30 anos')\n",
    "    plt.legend(handles=[pop_a,pop_b,pop_c,pop_d])            \n",
    "                \n",
    "    fig.set_size_inches(18.5, 10.5)\n",
    "    plt.show()\n",
    "    return plt.show()\n",
    "\n",
    "\n",
    "##### ----------------------------------------------------------- .. -------------------------------------------------------\n",
    "#\n",
    "#              FAZER FUNÇAO PARA DESCREVER A MESMA COISA MAS COM OS MUNICIPIOS DE NASCIMENTO DE CADA DEPUTADO\n",
    "#\n",
    "\n",
    "# Function to map deputado com score de concordancia com o partido, tendo em conta o municipio\n",
    "def pltM(df, topic):\n",
    "    # Create the colors list using the function above\n",
    "    cols=pltcolorM(df[topic])\n",
    "    # # Create figure with plot\n",
    "    fig = plt.figure() \n",
    "    ax1 = fig.add_subplot(2,2,1)\n",
    "    ax1.scatter(df[\"deputado_enc\"],df[\"score_accordingly\"],  c=cols, s=100)\n",
    "   \n",
    "    # Creating legend with color box\n",
    "    pop_a = mpatches.Patch(color='red', label='Rio de Janeiro')\n",
    "    pop_b = mpatches.Patch(color='blue', label='São Paulo')\n",
    "    pop_c = mpatches.Patch(color='magenta', label='SAlvador')\n",
    "    pop_d = mpatches.Patch(color='cyan', label='REcife')\n",
    "    pop_e = mpatches.Patch(color='yellow', label='Fortaleza')\n",
    "    pop_f = mpatches.Patch(color='black', label='Sao Luis')\n",
    "    pop_g = mpatches.Patch(color='grey', label='Belem')\n",
    "    pop_h = mpatches.Patch(color='brown', label='Brasilia')\n",
    "    pop_i = mpatches.Patch(color='green', label='Outros')\n",
    "\n",
    "    plt.legend(handles=[pop_a,pop_b,pop_c,pop_d,pop_e,pop_f,pop_g,pop_h, pop_i])            \n",
    "                \n",
    "    fig.set_size_inches(18.5, 10.5)\n",
    "    plt.show()\n",
    "    return plt.show()\n",
    "\n",
    "# Function to map  deputado com score de concordancia com o partido, tendo em conta o municipio -- bar plot\n",
    "def pltMBar(df, topic):\n",
    "    g=sns.catplot(x=topic, y=\"score_accordingly\",data=df)\n",
    "    g.fig.set_figwidth(15)\n",
    "    g.fig.set_figheight(7)\n",
    "    plt.xticks(rotation=90)\n",
    "    plt.ylim((0,100))\n",
    "    return plt.show()"
   ]
  },
  {
   "cell_type": "code",
   "execution_count": 5,
   "id": "13a63318",
   "metadata": {},
   "outputs": [],
   "source": [
    "## Data preprocessing for ML \n",
    "def prepareDataForML(df):\n",
    "    \n",
    "    # Count the number of times each voting orientation occurred\n",
    "    voting = df[\"new\"].value_counts()\n",
    "  \n",
    "    ## Calculate the percentage of deputies who vote according to the party sum of all times \n",
    "    ## they agree divided by the number of times they voted => percentage\n",
    "    percent = (df.groupby('deputado_nome')['new'].sum())/df['deputado_nome'].value_counts()\n",
    "    pdAcord = pd.DataFrame({'deputado_nome':df['deputado_nome'].unique().tolist(),'score_accordingly': round(percent*100,2)})\n",
    "    \n",
    "    # Merge the calculated agreement score with the original dataframe\n",
    "    dfPL = pd.merge(df,pdAcord, on ='deputado_nome')\n",
    "    \n",
    "    # Create encoder and label encoder objects\n",
    "    encoder = OneHotEncoder() \n",
    "    label_encoder = LabelEncoder()\n",
    "    \n",
    "    # Encode the deputy names, birthplace, and voting orientation\n",
    "    encoded_deputados = label_encoder.fit_transform(dfPL['deputado_nome'])\n",
    "    encoded_gender = label_encoder.fit_transform(dfPL['siglaSexo'])\n",
    "    encoded_municipios = label_encoder.fit_transform(dfPL['municipioNascimento'])\n",
    "    encoded_orientacao = label_encoder.fit_transform(dfPL['orientacao'])\n",
    "    encoded_vote = label_encoder.fit_transform(dfPL['voto'])\n",
    "\n",
    "    \n",
    "    \n",
    "    # Add the encoded values to the dataframe\n",
    "    dfPL['deputado_enc'] = encoded_deputados\n",
    "    dfPL['orientacao_enc'] = encoded_orientacao\n",
    "    dfPL['gender_enc'] = encoded_gender\n",
    "    dfPL['vote_enc'] = encoded_vote\n",
    "    \n",
    "    \n",
    "    return dfPL"
   ]
  },
  {
   "cell_type": "code",
   "execution_count": 6,
   "id": "3e15d28a",
   "metadata": {},
   "outputs": [],
   "source": [
    "from sklearn.preprocessing import OneHotEncoder, LabelEncoder\n",
    "\n",
    "#dataframe focado para um partido politico, para fazer plt, com o score de concordancia\n",
    "def voteType(party):\n",
    "    party = df2.loc[df2[\"deputado_siglaPartido\"] == party]\n",
    "    voting = party[\"new\"].value_counts()\n",
    "  \n",
    "    ##percentagem de deputados que votam de acordo com o partido\n",
    "    ## soma de todos as vezes que concordam  a dividir pela quantidade de vezes que votou => percentagem\n",
    "    percent = (party.groupby('deputado_nome')['new'].sum())/party['deputado_nome'].value_counts()\n",
    "    pdAcord = pd.DataFrame({'deputado_nome':party['deputado_nome'].unique().tolist(),'score_accordingly': round(percent*100,2)})\n",
    "    dfPL = pd.merge(party,pdAcord, on ='deputado_nome')\n",
    "    encoder = OneHotEncoder()\n",
    "    # integer encode\n",
    "    label_encoder = LabelEncoder()\n",
    "    encoded_deputados = label_encoder.fit_transform(dfPL['deputado_nome'])\n",
    "    encoded_municipios = label_encoder.fit_transform(dfPL['municipioNascimento'])\n",
    "\n",
    "#     dfPL['municipio_enc'] = encoded_municipios\n",
    "    dfPL['deputado_enc'] = encoded_deputados\n",
    "    return  dfPL\n",
    "\n",
    "\n",
    "\n",
    "##dicionario para municipios ---- ver se util\n",
    "def dictMunc(dfPL):\n",
    "    dictMunicipio = pd.DataFrame({\"municNascime\":dfPL[\"municipioNascimento\"].unique().tolist(),'enc': dfPL[\"municipio_enc\"].unique().tolist()})\n",
    "    dictMunicipio.sort_values('enc', inplace=True)\n",
    "    return dictMunicipio"
   ]
  },
  {
   "attachments": {},
   "cell_type": "markdown",
   "id": "43a2fb8d",
   "metadata": {},
   "source": [
    "#### dataframe for proposals that were voted in the year 2022"
   ]
  },
  {
   "cell_type": "code",
   "execution_count": 7,
   "id": "3feb1504",
   "metadata": {},
   "outputs": [],
   "source": [
    "df = df.drop(['uri', 'data', 'dataHoraRegistro', 'idOrgao', 'uriOrgao',\n",
    "         'uriEvento','descricao' , 'ultimaAberturaVotacao_dataHoraRegistro',\n",
    "       'ultimaAberturaVotacao_descricao',\n",
    "       'ultimaApresentacaoProposicao_dataHoraRegistro',\n",
    "       'ultimaApresentacaoProposicao_descricao',\n",
    "       'ultimaApresentacaoProposicao_idProposicao',\n",
    "       'ultimaApresentacaoProposicao_uriProposicao'], axis=1)"
   ]
  },
  {
   "cell_type": "code",
   "execution_count": 8,
   "id": "810d898d",
   "metadata": {},
   "outputs": [
    {
     "data": {
      "text/html": [
       "<div>\n",
       "<style scoped>\n",
       "    .dataframe tbody tr th:only-of-type {\n",
       "        vertical-align: middle;\n",
       "    }\n",
       "\n",
       "    .dataframe tbody tr th {\n",
       "        vertical-align: top;\n",
       "    }\n",
       "\n",
       "    .dataframe thead th {\n",
       "        text-align: right;\n",
       "    }\n",
       "</style>\n",
       "<table border=\"1\" class=\"dataframe\">\n",
       "  <thead>\n",
       "    <tr style=\"text-align: right;\">\n",
       "      <th></th>\n",
       "      <th>idVotacao</th>\n",
       "      <th>siglaOrgao</th>\n",
       "      <th>idEvento</th>\n",
       "      <th>aprovacao</th>\n",
       "    </tr>\n",
       "  </thead>\n",
       "  <tbody>\n",
       "    <tr>\n",
       "      <th>0</th>\n",
       "      <td>2276475-116</td>\n",
       "      <td>PLEN</td>\n",
       "      <td>64635</td>\n",
       "      <td>1.0</td>\n",
       "    </tr>\n",
       "    <tr>\n",
       "      <th>1</th>\n",
       "      <td>2236607-112</td>\n",
       "      <td>PLEN</td>\n",
       "      <td>64635</td>\n",
       "      <td>0.0</td>\n",
       "    </tr>\n",
       "    <tr>\n",
       "      <th>2</th>\n",
       "      <td>2276475-96</td>\n",
       "      <td>PLEN</td>\n",
       "      <td>64635</td>\n",
       "      <td>0.0</td>\n",
       "    </tr>\n",
       "    <tr>\n",
       "      <th>3</th>\n",
       "      <td>2276475-107</td>\n",
       "      <td>PLEN</td>\n",
       "      <td>64635</td>\n",
       "      <td>1.0</td>\n",
       "    </tr>\n",
       "    <tr>\n",
       "      <th>4</th>\n",
       "      <td>2276475-111</td>\n",
       "      <td>PLEN</td>\n",
       "      <td>64635</td>\n",
       "      <td>1.0</td>\n",
       "    </tr>\n",
       "    <tr>\n",
       "      <th>...</th>\n",
       "      <td>...</td>\n",
       "      <td>...</td>\n",
       "      <td>...</td>\n",
       "      <td>...</td>\n",
       "    </tr>\n",
       "    <tr>\n",
       "      <th>3834</th>\n",
       "      <td>2314962-21</td>\n",
       "      <td>SECAP(SGM)</td>\n",
       "      <td>0</td>\n",
       "      <td>1.0</td>\n",
       "    </tr>\n",
       "    <tr>\n",
       "      <th>3835</th>\n",
       "      <td>2314962-22</td>\n",
       "      <td>SECAP(SGM)</td>\n",
       "      <td>0</td>\n",
       "      <td>1.0</td>\n",
       "    </tr>\n",
       "    <tr>\n",
       "      <th>3836</th>\n",
       "      <td>2314962-23</td>\n",
       "      <td>SECAP(SGM)</td>\n",
       "      <td>0</td>\n",
       "      <td>1.0</td>\n",
       "    </tr>\n",
       "    <tr>\n",
       "      <th>3837</th>\n",
       "      <td>2314962-24</td>\n",
       "      <td>PLEN</td>\n",
       "      <td>0</td>\n",
       "      <td>1.0</td>\n",
       "    </tr>\n",
       "    <tr>\n",
       "      <th>3838</th>\n",
       "      <td>2314962-33</td>\n",
       "      <td>PLEN</td>\n",
       "      <td>66455</td>\n",
       "      <td>1.0</td>\n",
       "    </tr>\n",
       "  </tbody>\n",
       "</table>\n",
       "<p>3839 rows × 4 columns</p>\n",
       "</div>"
      ],
      "text/plain": [
       "        idVotacao  siglaOrgao  idEvento  aprovacao\n",
       "0     2276475-116        PLEN     64635        1.0\n",
       "1     2236607-112        PLEN     64635        0.0\n",
       "2      2276475-96        PLEN     64635        0.0\n",
       "3     2276475-107        PLEN     64635        1.0\n",
       "4     2276475-111        PLEN     64635        1.0\n",
       "...           ...         ...       ...        ...\n",
       "3834   2314962-21  SECAP(SGM)         0        1.0\n",
       "3835   2314962-22  SECAP(SGM)         0        1.0\n",
       "3836   2314962-23  SECAP(SGM)         0        1.0\n",
       "3837   2314962-24        PLEN         0        1.0\n",
       "3838   2314962-33        PLEN     66455        1.0\n",
       "\n",
       "[3839 rows x 4 columns]"
      ]
     },
     "execution_count": 8,
     "metadata": {},
     "output_type": "execute_result"
    }
   ],
   "source": [
    "df.columns = ['idVotacao', 'siglaOrgao', 'idEvento', 'aprovacao', 'votosSim', 'votosNao',\n",
    "       'votosOutros']\n",
    "\n",
    "##Retirar variaveis que nao vao ser usadas para estudar;\n",
    "df = df.drop([ 'votosSim', 'votosNao','votosOutros'], axis=1)\n",
    "df"
   ]
  },
  {
   "attachments": {},
   "cell_type": "markdown",
   "id": "0f1d68e2",
   "metadata": {},
   "source": [
    "#### dataframe for proposals that were voted in the year 2022, with the name and the party of each deputee"
   ]
  },
  {
   "cell_type": "code",
   "execution_count": 9,
   "id": "19414770",
   "metadata": {},
   "outputs": [
    {
     "data": {
      "text/html": [
       "<div>\n",
       "<style scoped>\n",
       "    .dataframe tbody tr th:only-of-type {\n",
       "        vertical-align: middle;\n",
       "    }\n",
       "\n",
       "    .dataframe tbody tr th {\n",
       "        vertical-align: top;\n",
       "    }\n",
       "\n",
       "    .dataframe thead th {\n",
       "        text-align: right;\n",
       "    }\n",
       "</style>\n",
       "<table border=\"1\" class=\"dataframe\">\n",
       "  <thead>\n",
       "    <tr style=\"text-align: right;\">\n",
       "      <th></th>\n",
       "      <th>idVotacao</th>\n",
       "      <th>uriVotacao</th>\n",
       "      <th>voto</th>\n",
       "      <th>deputado_id</th>\n",
       "      <th>deputado_nome</th>\n",
       "      <th>deputado_siglaPartido</th>\n",
       "    </tr>\n",
       "  </thead>\n",
       "  <tbody>\n",
       "    <tr>\n",
       "      <th>0</th>\n",
       "      <td>105464-319</td>\n",
       "      <td>https://dadosabertos.camara.leg.br/api/v2/vota...</td>\n",
       "      <td>Não</td>\n",
       "      <td>204521</td>\n",
       "      <td>Abou Anni</td>\n",
       "      <td>UNIÃO</td>\n",
       "    </tr>\n",
       "    <tr>\n",
       "      <th>1</th>\n",
       "      <td>105464-319</td>\n",
       "      <td>https://dadosabertos.camara.leg.br/api/v2/vota...</td>\n",
       "      <td>Não</td>\n",
       "      <td>204528</td>\n",
       "      <td>Adriana Ventura</td>\n",
       "      <td>NOVO</td>\n",
       "    </tr>\n",
       "    <tr>\n",
       "      <th>2</th>\n",
       "      <td>105464-319</td>\n",
       "      <td>https://dadosabertos.camara.leg.br/api/v2/vota...</td>\n",
       "      <td>Não</td>\n",
       "      <td>121948</td>\n",
       "      <td>Adriano do Baldy</td>\n",
       "      <td>PP</td>\n",
       "    </tr>\n",
       "    <tr>\n",
       "      <th>3</th>\n",
       "      <td>105464-319</td>\n",
       "      <td>https://dadosabertos.camara.leg.br/api/v2/vota...</td>\n",
       "      <td>Sim</td>\n",
       "      <td>74646</td>\n",
       "      <td>Aécio Neves</td>\n",
       "      <td>PSDB</td>\n",
       "    </tr>\n",
       "    <tr>\n",
       "      <th>4</th>\n",
       "      <td>105464-319</td>\n",
       "      <td>https://dadosabertos.camara.leg.br/api/v2/vota...</td>\n",
       "      <td>Não</td>\n",
       "      <td>141372</td>\n",
       "      <td>Aelton Freitas</td>\n",
       "      <td>PP</td>\n",
       "    </tr>\n",
       "  </tbody>\n",
       "</table>\n",
       "</div>"
      ],
      "text/plain": [
       "    idVotacao                                         uriVotacao voto  \\\n",
       "0  105464-319  https://dadosabertos.camara.leg.br/api/v2/vota...  Não   \n",
       "1  105464-319  https://dadosabertos.camara.leg.br/api/v2/vota...  Não   \n",
       "2  105464-319  https://dadosabertos.camara.leg.br/api/v2/vota...  Não   \n",
       "3  105464-319  https://dadosabertos.camara.leg.br/api/v2/vota...  Sim   \n",
       "4  105464-319  https://dadosabertos.camara.leg.br/api/v2/vota...  Não   \n",
       "\n",
       "   deputado_id     deputado_nome deputado_siglaPartido  \n",
       "0       204521         Abou Anni                 UNIÃO  \n",
       "1       204528   Adriana Ventura                  NOVO  \n",
       "2       121948  Adriano do Baldy                    PP  \n",
       "3        74646       Aécio Neves                  PSDB  \n",
       "4       141372    Aelton Freitas                    PP  "
      ]
     },
     "execution_count": 9,
     "metadata": {},
     "output_type": "execute_result"
    }
   ],
   "source": [
    "dfV.columns\n",
    "dfV = dfV.drop(['dataHoraVoto', 'deputado_uri','deputado_uriPartido', 'deputado_siglaUf', 'deputado_idLegislatura',\n",
    "       'deputado_urlFoto'], axis=1)\n",
    "dfV[:5]"
   ]
  },
  {
   "cell_type": "code",
   "execution_count": 10,
   "id": "068688e5",
   "metadata": {},
   "outputs": [
    {
     "data": {
      "text/html": [
       "<div>\n",
       "<style scoped>\n",
       "    .dataframe tbody tr th:only-of-type {\n",
       "        vertical-align: middle;\n",
       "    }\n",
       "\n",
       "    .dataframe tbody tr th {\n",
       "        vertical-align: top;\n",
       "    }\n",
       "\n",
       "    .dataframe thead th {\n",
       "        text-align: right;\n",
       "    }\n",
       "</style>\n",
       "<table border=\"1\" class=\"dataframe\">\n",
       "  <thead>\n",
       "    <tr style=\"text-align: right;\">\n",
       "      <th></th>\n",
       "      <th>uriProposicao</th>\n",
       "      <th>siglaTipo</th>\n",
       "      <th>numero</th>\n",
       "      <th>ano</th>\n",
       "      <th>codTema</th>\n",
       "      <th>tema</th>\n",
       "      <th>relevancia</th>\n",
       "    </tr>\n",
       "  </thead>\n",
       "  <tbody>\n",
       "    <tr>\n",
       "      <th>0</th>\n",
       "      <td>https://dadosabertos.camara.leg.br/api/v2/prop...</td>\n",
       "      <td>CON</td>\n",
       "      <td>1</td>\n",
       "      <td>2022</td>\n",
       "      <td>53</td>\n",
       "      <td>Processo Legislativo e Atuação Parlamentar</td>\n",
       "      <td>0</td>\n",
       "    </tr>\n",
       "    <tr>\n",
       "      <th>1</th>\n",
       "      <td>https://dadosabertos.camara.leg.br/api/v2/prop...</td>\n",
       "      <td>INC</td>\n",
       "      <td>1</td>\n",
       "      <td>2022</td>\n",
       "      <td>41</td>\n",
       "      <td>Cidades e Desenvolvimento Urbano</td>\n",
       "      <td>0</td>\n",
       "    </tr>\n",
       "    <tr>\n",
       "      <th>2</th>\n",
       "      <td>https://dadosabertos.camara.leg.br/api/v2/prop...</td>\n",
       "      <td>INC</td>\n",
       "      <td>1</td>\n",
       "      <td>2022</td>\n",
       "      <td>57</td>\n",
       "      <td>Defesa e Segurança</td>\n",
       "      <td>0</td>\n",
       "    </tr>\n",
       "    <tr>\n",
       "      <th>3</th>\n",
       "      <td>https://dadosabertos.camara.leg.br/api/v2/prop...</td>\n",
       "      <td>INC</td>\n",
       "      <td>1</td>\n",
       "      <td>2022</td>\n",
       "      <td>70</td>\n",
       "      <td>Finanças Públicas e Orçamento</td>\n",
       "      <td>0</td>\n",
       "    </tr>\n",
       "    <tr>\n",
       "      <th>4</th>\n",
       "      <td>https://dadosabertos.camara.leg.br/api/v2/prop...</td>\n",
       "      <td>INC</td>\n",
       "      <td>1</td>\n",
       "      <td>2022</td>\n",
       "      <td>48</td>\n",
       "      <td>Meio Ambiente e Desenvolvimento Sustentável</td>\n",
       "      <td>0</td>\n",
       "    </tr>\n",
       "    <tr>\n",
       "      <th>...</th>\n",
       "      <td>...</td>\n",
       "      <td>...</td>\n",
       "      <td>...</td>\n",
       "      <td>...</td>\n",
       "      <td>...</td>\n",
       "      <td>...</td>\n",
       "      <td>...</td>\n",
       "    </tr>\n",
       "    <tr>\n",
       "      <th>9755</th>\n",
       "      <td>https://dadosabertos.camara.leg.br/api/v2/prop...</td>\n",
       "      <td>PL</td>\n",
       "      <td>3059</td>\n",
       "      <td>2022</td>\n",
       "      <td>70</td>\n",
       "      <td>Finanças Públicas e Orçamento</td>\n",
       "      <td>0</td>\n",
       "    </tr>\n",
       "    <tr>\n",
       "      <th>9756</th>\n",
       "      <td>https://dadosabertos.camara.leg.br/api/v2/prop...</td>\n",
       "      <td>PL</td>\n",
       "      <td>3059</td>\n",
       "      <td>2022</td>\n",
       "      <td>55</td>\n",
       "      <td>Relações Internacionais e Comércio Exterior</td>\n",
       "      <td>0</td>\n",
       "    </tr>\n",
       "    <tr>\n",
       "      <th>9757</th>\n",
       "      <td>https://dadosabertos.camara.leg.br/api/v2/prop...</td>\n",
       "      <td>EMS</td>\n",
       "      <td>3062</td>\n",
       "      <td>2022</td>\n",
       "      <td>66</td>\n",
       "      <td>Indústria, Comércio e Serviços</td>\n",
       "      <td>0</td>\n",
       "    </tr>\n",
       "    <tr>\n",
       "      <th>9758</th>\n",
       "      <td>https://dadosabertos.camara.leg.br/api/v2/prop...</td>\n",
       "      <td>EMS</td>\n",
       "      <td>3062</td>\n",
       "      <td>2022</td>\n",
       "      <td>48</td>\n",
       "      <td>Meio Ambiente e Desenvolvimento Sustentável</td>\n",
       "      <td>0</td>\n",
       "    </tr>\n",
       "    <tr>\n",
       "      <th>9759</th>\n",
       "      <td>https://dadosabertos.camara.leg.br/api/v2/prop...</td>\n",
       "      <td>PL</td>\n",
       "      <td>3062</td>\n",
       "      <td>2022</td>\n",
       "      <td>48</td>\n",
       "      <td>Meio Ambiente e Desenvolvimento Sustentável</td>\n",
       "      <td>0</td>\n",
       "    </tr>\n",
       "  </tbody>\n",
       "</table>\n",
       "<p>9760 rows × 7 columns</p>\n",
       "</div>"
      ],
      "text/plain": [
       "                                          uriProposicao siglaTipo  numero  \\\n",
       "0     https://dadosabertos.camara.leg.br/api/v2/prop...       CON       1   \n",
       "1     https://dadosabertos.camara.leg.br/api/v2/prop...       INC       1   \n",
       "2     https://dadosabertos.camara.leg.br/api/v2/prop...       INC       1   \n",
       "3     https://dadosabertos.camara.leg.br/api/v2/prop...       INC       1   \n",
       "4     https://dadosabertos.camara.leg.br/api/v2/prop...       INC       1   \n",
       "...                                                 ...       ...     ...   \n",
       "9755  https://dadosabertos.camara.leg.br/api/v2/prop...        PL    3059   \n",
       "9756  https://dadosabertos.camara.leg.br/api/v2/prop...        PL    3059   \n",
       "9757  https://dadosabertos.camara.leg.br/api/v2/prop...       EMS    3062   \n",
       "9758  https://dadosabertos.camara.leg.br/api/v2/prop...       EMS    3062   \n",
       "9759  https://dadosabertos.camara.leg.br/api/v2/prop...        PL    3062   \n",
       "\n",
       "       ano  codTema                                         tema  relevancia  \n",
       "0     2022       53   Processo Legislativo e Atuação Parlamentar           0  \n",
       "1     2022       41             Cidades e Desenvolvimento Urbano           0  \n",
       "2     2022       57                           Defesa e Segurança           0  \n",
       "3     2022       70                Finanças Públicas e Orçamento           0  \n",
       "4     2022       48  Meio Ambiente e Desenvolvimento Sustentável           0  \n",
       "...    ...      ...                                          ...         ...  \n",
       "9755  2022       70                Finanças Públicas e Orçamento           0  \n",
       "9756  2022       55  Relações Internacionais e Comércio Exterior           0  \n",
       "9757  2022       66               Indústria, Comércio e Serviços           0  \n",
       "9758  2022       48  Meio Ambiente e Desenvolvimento Sustentável           0  \n",
       "9759  2022       48  Meio Ambiente e Desenvolvimento Sustentável           0  \n",
       "\n",
       "[9760 rows x 7 columns]"
      ]
     },
     "execution_count": 10,
     "metadata": {},
     "output_type": "execute_result"
    }
   ],
   "source": [
    "themes"
   ]
  },
  {
   "attachments": {},
   "cell_type": "markdown",
   "id": "239a14d8",
   "metadata": {},
   "source": [
    "#### dataframe for each deputee that ever participated in a voting event"
   ]
  },
  {
   "cell_type": "code",
   "execution_count": 11,
   "id": "b6b17558",
   "metadata": {},
   "outputs": [],
   "source": [
    "# deputados.columns\n",
    "deputados = deputados.drop(['uri', 'nomeCivil', 'cpf', 'urlRedeSocial', 'urlWebsite', 'ufNascimento'], axis=1)"
   ]
  },
  {
   "cell_type": "code",
   "execution_count": 12,
   "id": "a503218a",
   "metadata": {},
   "outputs": [],
   "source": [
    "today = date.today()\n",
    "today.year\n",
    "\n",
    "##PARA DEPUTADOS APARTIR DA LEGISLATURA 54º\n",
    "deputados = deputados[deputados[\"idLegislaturaInicial\"] > 54]\n",
    "deputados.loc[deputados[\"dataFalecimento\"].isna(), \"dataFalecimento\"] = today\n",
    "\n",
    "deputados[\"dataFalecimento\"] = pd.to_datetime(deputados[\"dataFalecimento\"], errors = 'coerce')\n",
    "deputados[\"dataNascimento\"] = pd.to_datetime(deputados[\"dataNascimento\"], errors = 'coerce')\n",
    "deputados[\"idade\"] =  ((deputados[\"dataFalecimento\"] - deputados[\"dataNascimento\"]).astype('<m8[Y]') )\n",
    "deputados = deputados.drop(['dataFalecimento', 'dataNascimento'], axis=1)"
   ]
  },
  {
   "cell_type": "code",
   "execution_count": 13,
   "id": "0103b762",
   "metadata": {},
   "outputs": [
    {
     "data": {
      "text/html": [
       "<div>\n",
       "<style scoped>\n",
       "    .dataframe tbody tr th:only-of-type {\n",
       "        vertical-align: middle;\n",
       "    }\n",
       "\n",
       "    .dataframe tbody tr th {\n",
       "        vertical-align: top;\n",
       "    }\n",
       "\n",
       "    .dataframe thead th {\n",
       "        text-align: right;\n",
       "    }\n",
       "</style>\n",
       "<table border=\"1\" class=\"dataframe\">\n",
       "  <thead>\n",
       "    <tr style=\"text-align: right;\">\n",
       "      <th></th>\n",
       "      <th>deputado_nome</th>\n",
       "      <th>idLegislaturaInicial</th>\n",
       "      <th>idLegislaturaFinal</th>\n",
       "      <th>siglaSexo</th>\n",
       "      <th>municipioNascimento</th>\n",
       "      <th>idade</th>\n",
       "    </tr>\n",
       "  </thead>\n",
       "  <tbody>\n",
       "    <tr>\n",
       "      <th>0</th>\n",
       "      <td>Abílio Santana</td>\n",
       "      <td>56</td>\n",
       "      <td>56</td>\n",
       "      <td>M</td>\n",
       "      <td>Salvador</td>\n",
       "      <td>58.0</td>\n",
       "    </tr>\n",
       "    <tr>\n",
       "      <th>1</th>\n",
       "      <td>Abou Anni</td>\n",
       "      <td>56</td>\n",
       "      <td>56</td>\n",
       "      <td>M</td>\n",
       "      <td>São Paulo</td>\n",
       "      <td>56.0</td>\n",
       "    </tr>\n",
       "    <tr>\n",
       "      <th>2</th>\n",
       "      <td>Acácio Favacho</td>\n",
       "      <td>56</td>\n",
       "      <td>56</td>\n",
       "      <td>M</td>\n",
       "      <td>Macapá</td>\n",
       "      <td>39.0</td>\n",
       "    </tr>\n",
       "    <tr>\n",
       "      <th>3</th>\n",
       "      <td>Adolfo Viana</td>\n",
       "      <td>56</td>\n",
       "      <td>56</td>\n",
       "      <td>M</td>\n",
       "      <td>Salvador</td>\n",
       "      <td>42.0</td>\n",
       "    </tr>\n",
       "    <tr>\n",
       "      <th>4</th>\n",
       "      <td>Adriana Ventura</td>\n",
       "      <td>56</td>\n",
       "      <td>56</td>\n",
       "      <td>F</td>\n",
       "      <td>São Paulo</td>\n",
       "      <td>54.0</td>\n",
       "    </tr>\n",
       "    <tr>\n",
       "      <th>...</th>\n",
       "      <td>...</td>\n",
       "      <td>...</td>\n",
       "      <td>...</td>\n",
       "      <td>...</td>\n",
       "      <td>...</td>\n",
       "      <td>...</td>\n",
       "    </tr>\n",
       "    <tr>\n",
       "      <th>931</th>\n",
       "      <td>WILSON BESERRA</td>\n",
       "      <td>55</td>\n",
       "      <td>55</td>\n",
       "      <td>M</td>\n",
       "      <td>Rio de Janeiro</td>\n",
       "      <td>53.0</td>\n",
       "    </tr>\n",
       "    <tr>\n",
       "      <th>934</th>\n",
       "      <td>XUXU DAL MOLIN</td>\n",
       "      <td>55</td>\n",
       "      <td>55</td>\n",
       "      <td>M</td>\n",
       "      <td>Realeza</td>\n",
       "      <td>47.0</td>\n",
       "    </tr>\n",
       "    <tr>\n",
       "      <th>937</th>\n",
       "      <td>ZECA CAVALCANTI</td>\n",
       "      <td>55</td>\n",
       "      <td>55</td>\n",
       "      <td>M</td>\n",
       "      <td>Arcoverde</td>\n",
       "      <td>56.0</td>\n",
       "    </tr>\n",
       "    <tr>\n",
       "      <th>938</th>\n",
       "      <td>ZECA DO PT</td>\n",
       "      <td>55</td>\n",
       "      <td>55</td>\n",
       "      <td>M</td>\n",
       "      <td>Porto Murtinho</td>\n",
       "      <td>73.0</td>\n",
       "    </tr>\n",
       "    <tr>\n",
       "      <th>939</th>\n",
       "      <td>ZENAIDE MAIA</td>\n",
       "      <td>55</td>\n",
       "      <td>55</td>\n",
       "      <td>F</td>\n",
       "      <td>Brejo do Cruz</td>\n",
       "      <td>68.0</td>\n",
       "    </tr>\n",
       "  </tbody>\n",
       "</table>\n",
       "<p>539 rows × 6 columns</p>\n",
       "</div>"
      ],
      "text/plain": [
       "       deputado_nome  idLegislaturaInicial  idLegislaturaFinal siglaSexo  \\\n",
       "0     Abílio Santana                    56                  56         M   \n",
       "1          Abou Anni                    56                  56         M   \n",
       "2     Acácio Favacho                    56                  56         M   \n",
       "3       Adolfo Viana                    56                  56         M   \n",
       "4    Adriana Ventura                    56                  56         F   \n",
       "..               ...                   ...                 ...       ...   \n",
       "931   WILSON BESERRA                    55                  55         M   \n",
       "934   XUXU DAL MOLIN                    55                  55         M   \n",
       "937  ZECA CAVALCANTI                    55                  55         M   \n",
       "938       ZECA DO PT                    55                  55         M   \n",
       "939     ZENAIDE MAIA                    55                  55         F   \n",
       "\n",
       "    municipioNascimento  idade  \n",
       "0              Salvador   58.0  \n",
       "1             São Paulo   56.0  \n",
       "2                Macapá   39.0  \n",
       "3              Salvador   42.0  \n",
       "4             São Paulo   54.0  \n",
       "..                  ...    ...  \n",
       "931      Rio de Janeiro   53.0  \n",
       "934             Realeza   47.0  \n",
       "937           Arcoverde   56.0  \n",
       "938      Porto Murtinho   73.0  \n",
       "939       Brejo do Cruz   68.0  \n",
       "\n",
       "[539 rows x 6 columns]"
      ]
     },
     "execution_count": 13,
     "metadata": {},
     "output_type": "execute_result"
    }
   ],
   "source": [
    "deputados.columns = ['deputado_nome', 'idLegislaturaInicial', 'idLegislaturaFinal', 'siglaSexo',\n",
    "       'municipioNascimento', 'idade']\n",
    "deputados"
   ]
  },
  {
   "cell_type": "code",
   "execution_count": 14,
   "id": "39d35c17",
   "metadata": {},
   "outputs": [],
   "source": [
    "dfO.columns\n",
    "dfO = dfO.drop(['uriVotacao','descricao', 'siglaBancada',\n",
    "       'uriBancada','siglaOrgao'], axis=1)"
   ]
  },
  {
   "cell_type": "code",
   "execution_count": 15,
   "id": "997db6bd",
   "metadata": {},
   "outputs": [
    {
     "data": {
      "text/html": [
       "<div>\n",
       "<style scoped>\n",
       "    .dataframe tbody tr th:only-of-type {\n",
       "        vertical-align: middle;\n",
       "    }\n",
       "\n",
       "    .dataframe tbody tr th {\n",
       "        vertical-align: top;\n",
       "    }\n",
       "\n",
       "    .dataframe thead th {\n",
       "        text-align: right;\n",
       "    }\n",
       "</style>\n",
       "<table border=\"1\" class=\"dataframe\">\n",
       "  <thead>\n",
       "    <tr style=\"text-align: right;\">\n",
       "      <th></th>\n",
       "      <th>idVotacao</th>\n",
       "      <th>orientacao</th>\n",
       "    </tr>\n",
       "  </thead>\n",
       "  <tbody>\n",
       "    <tr>\n",
       "      <th>0</th>\n",
       "      <td>2314962-33</td>\n",
       "      <td>Sim</td>\n",
       "    </tr>\n",
       "    <tr>\n",
       "      <th>1</th>\n",
       "      <td>2314962-33</td>\n",
       "      <td>Sim</td>\n",
       "    </tr>\n",
       "    <tr>\n",
       "      <th>2</th>\n",
       "      <td>2314962-33</td>\n",
       "      <td>Sim</td>\n",
       "    </tr>\n",
       "    <tr>\n",
       "      <th>3</th>\n",
       "      <td>2314962-33</td>\n",
       "      <td>Sim</td>\n",
       "    </tr>\n",
       "    <tr>\n",
       "      <th>4</th>\n",
       "      <td>2314962-33</td>\n",
       "      <td>Sim</td>\n",
       "    </tr>\n",
       "    <tr>\n",
       "      <th>...</th>\n",
       "      <td>...</td>\n",
       "      <td>...</td>\n",
       "    </tr>\n",
       "    <tr>\n",
       "      <th>12034</th>\n",
       "      <td>2312874-9</td>\n",
       "      <td>Sim</td>\n",
       "    </tr>\n",
       "    <tr>\n",
       "      <th>12035</th>\n",
       "      <td>2312874-9</td>\n",
       "      <td>Sim</td>\n",
       "    </tr>\n",
       "    <tr>\n",
       "      <th>12036</th>\n",
       "      <td>2312874-9</td>\n",
       "      <td>Obstrução</td>\n",
       "    </tr>\n",
       "    <tr>\n",
       "      <th>12037</th>\n",
       "      <td>2312874-9</td>\n",
       "      <td>Sim</td>\n",
       "    </tr>\n",
       "    <tr>\n",
       "      <th>12038</th>\n",
       "      <td>2312874-9</td>\n",
       "      <td>Sim</td>\n",
       "    </tr>\n",
       "  </tbody>\n",
       "</table>\n",
       "<p>12039 rows × 2 columns</p>\n",
       "</div>"
      ],
      "text/plain": [
       "        idVotacao orientacao\n",
       "0      2314962-33        Sim\n",
       "1      2314962-33        Sim\n",
       "2      2314962-33        Sim\n",
       "3      2314962-33        Sim\n",
       "4      2314962-33        Sim\n",
       "...           ...        ...\n",
       "12034   2312874-9        Sim\n",
       "12035   2312874-9        Sim\n",
       "12036   2312874-9  Obstrução\n",
       "12037   2312874-9        Sim\n",
       "12038   2312874-9        Sim\n",
       "\n",
       "[12039 rows x 2 columns]"
      ]
     },
     "execution_count": 15,
     "metadata": {},
     "output_type": "execute_result"
    }
   ],
   "source": [
    "dfO"
   ]
  },
  {
   "cell_type": "code",
   "execution_count": 16,
   "id": "3ea58392",
   "metadata": {},
   "outputs": [
    {
     "data": {
      "text/html": [
       "<div>\n",
       "<style scoped>\n",
       "    .dataframe tbody tr th:only-of-type {\n",
       "        vertical-align: middle;\n",
       "    }\n",
       "\n",
       "    .dataframe tbody tr th {\n",
       "        vertical-align: top;\n",
       "    }\n",
       "\n",
       "    .dataframe thead th {\n",
       "        text-align: right;\n",
       "    }\n",
       "</style>\n",
       "<table border=\"1\" class=\"dataframe\">\n",
       "  <thead>\n",
       "    <tr style=\"text-align: right;\">\n",
       "      <th></th>\n",
       "      <th>idVotacao</th>\n",
       "      <th>siglaOrgao</th>\n",
       "      <th>idEvento</th>\n",
       "      <th>aprovacao</th>\n",
       "      <th>uriVotacao</th>\n",
       "      <th>voto</th>\n",
       "      <th>deputado_id</th>\n",
       "      <th>deputado_nome</th>\n",
       "      <th>deputado_siglaPartido</th>\n",
       "      <th>orientacao</th>\n",
       "      <th>idLegislaturaInicial</th>\n",
       "      <th>idLegislaturaFinal</th>\n",
       "      <th>siglaSexo</th>\n",
       "      <th>municipioNascimento</th>\n",
       "      <th>idade</th>\n",
       "    </tr>\n",
       "  </thead>\n",
       "  <tbody>\n",
       "    <tr>\n",
       "      <th>0</th>\n",
       "      <td>2312874-9</td>\n",
       "      <td>PLEN</td>\n",
       "      <td>64653</td>\n",
       "      <td>1.0</td>\n",
       "      <td>https://dadosabertos.camara.leg.br/api/v2/vota...</td>\n",
       "      <td>Sim</td>\n",
       "      <td>204554</td>\n",
       "      <td>Abílio Santana</td>\n",
       "      <td>PL</td>\n",
       "      <td>NaN</td>\n",
       "      <td>56</td>\n",
       "      <td>56</td>\n",
       "      <td>M</td>\n",
       "      <td>Salvador</td>\n",
       "      <td>58.0</td>\n",
       "    </tr>\n",
       "    <tr>\n",
       "      <th>1</th>\n",
       "      <td>2312874-9</td>\n",
       "      <td>PLEN</td>\n",
       "      <td>64653</td>\n",
       "      <td>1.0</td>\n",
       "      <td>https://dadosabertos.camara.leg.br/api/v2/vota...</td>\n",
       "      <td>Sim</td>\n",
       "      <td>204554</td>\n",
       "      <td>Abílio Santana</td>\n",
       "      <td>PL</td>\n",
       "      <td>NaN</td>\n",
       "      <td>56</td>\n",
       "      <td>56</td>\n",
       "      <td>M</td>\n",
       "      <td>Salvador</td>\n",
       "      <td>58.0</td>\n",
       "    </tr>\n",
       "    <tr>\n",
       "      <th>2</th>\n",
       "      <td>2312874-9</td>\n",
       "      <td>PLEN</td>\n",
       "      <td>64653</td>\n",
       "      <td>1.0</td>\n",
       "      <td>https://dadosabertos.camara.leg.br/api/v2/vota...</td>\n",
       "      <td>Sim</td>\n",
       "      <td>204554</td>\n",
       "      <td>Abílio Santana</td>\n",
       "      <td>PL</td>\n",
       "      <td>Não</td>\n",
       "      <td>56</td>\n",
       "      <td>56</td>\n",
       "      <td>M</td>\n",
       "      <td>Salvador</td>\n",
       "      <td>58.0</td>\n",
       "    </tr>\n",
       "    <tr>\n",
       "      <th>3</th>\n",
       "      <td>2312874-9</td>\n",
       "      <td>PLEN</td>\n",
       "      <td>64653</td>\n",
       "      <td>1.0</td>\n",
       "      <td>https://dadosabertos.camara.leg.br/api/v2/vota...</td>\n",
       "      <td>Sim</td>\n",
       "      <td>204554</td>\n",
       "      <td>Abílio Santana</td>\n",
       "      <td>PL</td>\n",
       "      <td>Liberado</td>\n",
       "      <td>56</td>\n",
       "      <td>56</td>\n",
       "      <td>M</td>\n",
       "      <td>Salvador</td>\n",
       "      <td>58.0</td>\n",
       "    </tr>\n",
       "    <tr>\n",
       "      <th>4</th>\n",
       "      <td>2312874-9</td>\n",
       "      <td>PLEN</td>\n",
       "      <td>64653</td>\n",
       "      <td>1.0</td>\n",
       "      <td>https://dadosabertos.camara.leg.br/api/v2/vota...</td>\n",
       "      <td>Sim</td>\n",
       "      <td>204554</td>\n",
       "      <td>Abílio Santana</td>\n",
       "      <td>PL</td>\n",
       "      <td>Sim</td>\n",
       "      <td>56</td>\n",
       "      <td>56</td>\n",
       "      <td>M</td>\n",
       "      <td>Salvador</td>\n",
       "      <td>58.0</td>\n",
       "    </tr>\n",
       "    <tr>\n",
       "      <th>...</th>\n",
       "      <td>...</td>\n",
       "      <td>...</td>\n",
       "      <td>...</td>\n",
       "      <td>...</td>\n",
       "      <td>...</td>\n",
       "      <td>...</td>\n",
       "      <td>...</td>\n",
       "      <td>...</td>\n",
       "      <td>...</td>\n",
       "      <td>...</td>\n",
       "      <td>...</td>\n",
       "      <td>...</td>\n",
       "      <td>...</td>\n",
       "      <td>...</td>\n",
       "      <td>...</td>\n",
       "    </tr>\n",
       "    <tr>\n",
       "      <th>3006451</th>\n",
       "      <td>2314962-33</td>\n",
       "      <td>PLEN</td>\n",
       "      <td>66455</td>\n",
       "      <td>1.0</td>\n",
       "      <td>https://dadosabertos.camara.leg.br/api/v2/vota...</td>\n",
       "      <td>Sim</td>\n",
       "      <td>205535</td>\n",
       "      <td>Patricia Ferraz</td>\n",
       "      <td>PODE</td>\n",
       "      <td>Sim</td>\n",
       "      <td>56</td>\n",
       "      <td>56</td>\n",
       "      <td>F</td>\n",
       "      <td>Belo Horizonte</td>\n",
       "      <td>43.0</td>\n",
       "    </tr>\n",
       "    <tr>\n",
       "      <th>3006452</th>\n",
       "      <td>2314962-33</td>\n",
       "      <td>PLEN</td>\n",
       "      <td>66455</td>\n",
       "      <td>1.0</td>\n",
       "      <td>https://dadosabertos.camara.leg.br/api/v2/vota...</td>\n",
       "      <td>Sim</td>\n",
       "      <td>205535</td>\n",
       "      <td>Patricia Ferraz</td>\n",
       "      <td>PODE</td>\n",
       "      <td>Sim</td>\n",
       "      <td>56</td>\n",
       "      <td>56</td>\n",
       "      <td>F</td>\n",
       "      <td>Belo Horizonte</td>\n",
       "      <td>43.0</td>\n",
       "    </tr>\n",
       "    <tr>\n",
       "      <th>3006453</th>\n",
       "      <td>2314962-33</td>\n",
       "      <td>PLEN</td>\n",
       "      <td>66455</td>\n",
       "      <td>1.0</td>\n",
       "      <td>https://dadosabertos.camara.leg.br/api/v2/vota...</td>\n",
       "      <td>Sim</td>\n",
       "      <td>205535</td>\n",
       "      <td>Patricia Ferraz</td>\n",
       "      <td>PODE</td>\n",
       "      <td>Sim</td>\n",
       "      <td>56</td>\n",
       "      <td>56</td>\n",
       "      <td>F</td>\n",
       "      <td>Belo Horizonte</td>\n",
       "      <td>43.0</td>\n",
       "    </tr>\n",
       "    <tr>\n",
       "      <th>3006454</th>\n",
       "      <td>2314962-33</td>\n",
       "      <td>PLEN</td>\n",
       "      <td>66455</td>\n",
       "      <td>1.0</td>\n",
       "      <td>https://dadosabertos.camara.leg.br/api/v2/vota...</td>\n",
       "      <td>Sim</td>\n",
       "      <td>205535</td>\n",
       "      <td>Patricia Ferraz</td>\n",
       "      <td>PODE</td>\n",
       "      <td>Sim</td>\n",
       "      <td>56</td>\n",
       "      <td>56</td>\n",
       "      <td>F</td>\n",
       "      <td>Belo Horizonte</td>\n",
       "      <td>43.0</td>\n",
       "    </tr>\n",
       "    <tr>\n",
       "      <th>3006455</th>\n",
       "      <td>2314962-33</td>\n",
       "      <td>PLEN</td>\n",
       "      <td>66455</td>\n",
       "      <td>1.0</td>\n",
       "      <td>https://dadosabertos.camara.leg.br/api/v2/vota...</td>\n",
       "      <td>Sim</td>\n",
       "      <td>205535</td>\n",
       "      <td>Patricia Ferraz</td>\n",
       "      <td>PODE</td>\n",
       "      <td>Sim</td>\n",
       "      <td>56</td>\n",
       "      <td>56</td>\n",
       "      <td>F</td>\n",
       "      <td>Belo Horizonte</td>\n",
       "      <td>43.0</td>\n",
       "    </tr>\n",
       "  </tbody>\n",
       "</table>\n",
       "<p>3006456 rows × 15 columns</p>\n",
       "</div>"
      ],
      "text/plain": [
       "          idVotacao siglaOrgao  idEvento  aprovacao  \\\n",
       "0         2312874-9       PLEN     64653        1.0   \n",
       "1         2312874-9       PLEN     64653        1.0   \n",
       "2         2312874-9       PLEN     64653        1.0   \n",
       "3         2312874-9       PLEN     64653        1.0   \n",
       "4         2312874-9       PLEN     64653        1.0   \n",
       "...             ...        ...       ...        ...   \n",
       "3006451  2314962-33       PLEN     66455        1.0   \n",
       "3006452  2314962-33       PLEN     66455        1.0   \n",
       "3006453  2314962-33       PLEN     66455        1.0   \n",
       "3006454  2314962-33       PLEN     66455        1.0   \n",
       "3006455  2314962-33       PLEN     66455        1.0   \n",
       "\n",
       "                                                uriVotacao voto  deputado_id  \\\n",
       "0        https://dadosabertos.camara.leg.br/api/v2/vota...  Sim       204554   \n",
       "1        https://dadosabertos.camara.leg.br/api/v2/vota...  Sim       204554   \n",
       "2        https://dadosabertos.camara.leg.br/api/v2/vota...  Sim       204554   \n",
       "3        https://dadosabertos.camara.leg.br/api/v2/vota...  Sim       204554   \n",
       "4        https://dadosabertos.camara.leg.br/api/v2/vota...  Sim       204554   \n",
       "...                                                    ...  ...          ...   \n",
       "3006451  https://dadosabertos.camara.leg.br/api/v2/vota...  Sim       205535   \n",
       "3006452  https://dadosabertos.camara.leg.br/api/v2/vota...  Sim       205535   \n",
       "3006453  https://dadosabertos.camara.leg.br/api/v2/vota...  Sim       205535   \n",
       "3006454  https://dadosabertos.camara.leg.br/api/v2/vota...  Sim       205535   \n",
       "3006455  https://dadosabertos.camara.leg.br/api/v2/vota...  Sim       205535   \n",
       "\n",
       "           deputado_nome deputado_siglaPartido orientacao  \\\n",
       "0         Abílio Santana                    PL        NaN   \n",
       "1         Abílio Santana                    PL        NaN   \n",
       "2         Abílio Santana                    PL        Não   \n",
       "3         Abílio Santana                    PL   Liberado   \n",
       "4         Abílio Santana                    PL        Sim   \n",
       "...                  ...                   ...        ...   \n",
       "3006451  Patricia Ferraz                  PODE        Sim   \n",
       "3006452  Patricia Ferraz                  PODE        Sim   \n",
       "3006453  Patricia Ferraz                  PODE        Sim   \n",
       "3006454  Patricia Ferraz                  PODE        Sim   \n",
       "3006455  Patricia Ferraz                  PODE        Sim   \n",
       "\n",
       "         idLegislaturaInicial  idLegislaturaFinal siglaSexo  \\\n",
       "0                          56                  56         M   \n",
       "1                          56                  56         M   \n",
       "2                          56                  56         M   \n",
       "3                          56                  56         M   \n",
       "4                          56                  56         M   \n",
       "...                       ...                 ...       ...   \n",
       "3006451                    56                  56         F   \n",
       "3006452                    56                  56         F   \n",
       "3006453                    56                  56         F   \n",
       "3006454                    56                  56         F   \n",
       "3006455                    56                  56         F   \n",
       "\n",
       "        municipioNascimento  idade  \n",
       "0                  Salvador   58.0  \n",
       "1                  Salvador   58.0  \n",
       "2                  Salvador   58.0  \n",
       "3                  Salvador   58.0  \n",
       "4                  Salvador   58.0  \n",
       "...                     ...    ...  \n",
       "3006451      Belo Horizonte   43.0  \n",
       "3006452      Belo Horizonte   43.0  \n",
       "3006453      Belo Horizonte   43.0  \n",
       "3006454      Belo Horizonte   43.0  \n",
       "3006455      Belo Horizonte   43.0  \n",
       "\n",
       "[3006456 rows x 15 columns]"
      ]
     },
     "execution_count": 16,
     "metadata": {},
     "output_type": "execute_result"
    }
   ],
   "source": [
    "## datatset with voting and orientation of each party for each voting id\n",
    "df_resumo = pd.merge(df,dfV, on ='idVotacao')\n",
    "df_resumo = pd.merge(df_resumo,dfO, on ='idVotacao')\n",
    "df_resumo = pd.merge(df_resumo, deputados, on ='deputado_nome')\n",
    "df_resumo"
   ]
  },
  {
   "cell_type": "code",
   "execution_count": 17,
   "id": "297da901",
   "metadata": {},
   "outputs": [],
   "source": [
    "##percentagem de valores NULL no dataset\n",
    "percent= df_resumo.isnull().sum() * 100 / len(df_resumo)\n",
    "missing_value = pd.DataFrame({'percent_missing': percent})\n",
    "missing_value.sort_values('percent_missing', inplace=True)"
   ]
  },
  {
   "cell_type": "code",
   "execution_count": 18,
   "id": "2e372e22",
   "metadata": {},
   "outputs": [],
   "source": [
    "df_resumo.loc[df_resumo[\"aprovacao\"].isna(), \"aprovacao\"] = 2\n",
    "df2=df_resumo.dropna(axis=0)"
   ]
  },
  {
   "cell_type": "code",
   "execution_count": 19,
   "id": "dbe59111",
   "metadata": {},
   "outputs": [
    {
     "data": {
      "text/html": [
       "<div>\n",
       "<style scoped>\n",
       "    .dataframe tbody tr th:only-of-type {\n",
       "        vertical-align: middle;\n",
       "    }\n",
       "\n",
       "    .dataframe tbody tr th {\n",
       "        vertical-align: top;\n",
       "    }\n",
       "\n",
       "    .dataframe thead th {\n",
       "        text-align: right;\n",
       "    }\n",
       "</style>\n",
       "<table border=\"1\" class=\"dataframe\">\n",
       "  <thead>\n",
       "    <tr style=\"text-align: right;\">\n",
       "      <th></th>\n",
       "      <th>idVotacao</th>\n",
       "      <th>siglaOrgao</th>\n",
       "      <th>idEvento</th>\n",
       "      <th>aprovacao</th>\n",
       "      <th>uriVotacao</th>\n",
       "      <th>voto</th>\n",
       "      <th>deputado_id</th>\n",
       "      <th>deputado_nome</th>\n",
       "      <th>deputado_siglaPartido</th>\n",
       "      <th>orientacao</th>\n",
       "      <th>idLegislaturaInicial</th>\n",
       "      <th>idLegislaturaFinal</th>\n",
       "      <th>siglaSexo</th>\n",
       "      <th>municipioNascimento</th>\n",
       "      <th>idade</th>\n",
       "    </tr>\n",
       "  </thead>\n",
       "  <tbody>\n",
       "    <tr>\n",
       "      <th>2</th>\n",
       "      <td>2312874-9</td>\n",
       "      <td>PLEN</td>\n",
       "      <td>64653</td>\n",
       "      <td>1.0</td>\n",
       "      <td>https://dadosabertos.camara.leg.br/api/v2/vota...</td>\n",
       "      <td>Sim</td>\n",
       "      <td>204554</td>\n",
       "      <td>Abílio Santana</td>\n",
       "      <td>PL</td>\n",
       "      <td>Não</td>\n",
       "      <td>56</td>\n",
       "      <td>56</td>\n",
       "      <td>M</td>\n",
       "      <td>Salvador</td>\n",
       "      <td>58.0</td>\n",
       "    </tr>\n",
       "    <tr>\n",
       "      <th>3</th>\n",
       "      <td>2312874-9</td>\n",
       "      <td>PLEN</td>\n",
       "      <td>64653</td>\n",
       "      <td>1.0</td>\n",
       "      <td>https://dadosabertos.camara.leg.br/api/v2/vota...</td>\n",
       "      <td>Sim</td>\n",
       "      <td>204554</td>\n",
       "      <td>Abílio Santana</td>\n",
       "      <td>PL</td>\n",
       "      <td>Liberado</td>\n",
       "      <td>56</td>\n",
       "      <td>56</td>\n",
       "      <td>M</td>\n",
       "      <td>Salvador</td>\n",
       "      <td>58.0</td>\n",
       "    </tr>\n",
       "    <tr>\n",
       "      <th>4</th>\n",
       "      <td>2312874-9</td>\n",
       "      <td>PLEN</td>\n",
       "      <td>64653</td>\n",
       "      <td>1.0</td>\n",
       "      <td>https://dadosabertos.camara.leg.br/api/v2/vota...</td>\n",
       "      <td>Sim</td>\n",
       "      <td>204554</td>\n",
       "      <td>Abílio Santana</td>\n",
       "      <td>PL</td>\n",
       "      <td>Sim</td>\n",
       "      <td>56</td>\n",
       "      <td>56</td>\n",
       "      <td>M</td>\n",
       "      <td>Salvador</td>\n",
       "      <td>58.0</td>\n",
       "    </tr>\n",
       "    <tr>\n",
       "      <th>7</th>\n",
       "      <td>2312874-9</td>\n",
       "      <td>PLEN</td>\n",
       "      <td>64653</td>\n",
       "      <td>1.0</td>\n",
       "      <td>https://dadosabertos.camara.leg.br/api/v2/vota...</td>\n",
       "      <td>Sim</td>\n",
       "      <td>204554</td>\n",
       "      <td>Abílio Santana</td>\n",
       "      <td>PL</td>\n",
       "      <td>Obstrução</td>\n",
       "      <td>56</td>\n",
       "      <td>56</td>\n",
       "      <td>M</td>\n",
       "      <td>Salvador</td>\n",
       "      <td>58.0</td>\n",
       "    </tr>\n",
       "    <tr>\n",
       "      <th>8</th>\n",
       "      <td>2312874-9</td>\n",
       "      <td>PLEN</td>\n",
       "      <td>64653</td>\n",
       "      <td>1.0</td>\n",
       "      <td>https://dadosabertos.camara.leg.br/api/v2/vota...</td>\n",
       "      <td>Sim</td>\n",
       "      <td>204554</td>\n",
       "      <td>Abílio Santana</td>\n",
       "      <td>PL</td>\n",
       "      <td>Sim</td>\n",
       "      <td>56</td>\n",
       "      <td>56</td>\n",
       "      <td>M</td>\n",
       "      <td>Salvador</td>\n",
       "      <td>58.0</td>\n",
       "    </tr>\n",
       "    <tr>\n",
       "      <th>...</th>\n",
       "      <td>...</td>\n",
       "      <td>...</td>\n",
       "      <td>...</td>\n",
       "      <td>...</td>\n",
       "      <td>...</td>\n",
       "      <td>...</td>\n",
       "      <td>...</td>\n",
       "      <td>...</td>\n",
       "      <td>...</td>\n",
       "      <td>...</td>\n",
       "      <td>...</td>\n",
       "      <td>...</td>\n",
       "      <td>...</td>\n",
       "      <td>...</td>\n",
       "      <td>...</td>\n",
       "    </tr>\n",
       "    <tr>\n",
       "      <th>3006451</th>\n",
       "      <td>2314962-33</td>\n",
       "      <td>PLEN</td>\n",
       "      <td>66455</td>\n",
       "      <td>1.0</td>\n",
       "      <td>https://dadosabertos.camara.leg.br/api/v2/vota...</td>\n",
       "      <td>Sim</td>\n",
       "      <td>205535</td>\n",
       "      <td>Patricia Ferraz</td>\n",
       "      <td>PODE</td>\n",
       "      <td>Sim</td>\n",
       "      <td>56</td>\n",
       "      <td>56</td>\n",
       "      <td>F</td>\n",
       "      <td>Belo Horizonte</td>\n",
       "      <td>43.0</td>\n",
       "    </tr>\n",
       "    <tr>\n",
       "      <th>3006452</th>\n",
       "      <td>2314962-33</td>\n",
       "      <td>PLEN</td>\n",
       "      <td>66455</td>\n",
       "      <td>1.0</td>\n",
       "      <td>https://dadosabertos.camara.leg.br/api/v2/vota...</td>\n",
       "      <td>Sim</td>\n",
       "      <td>205535</td>\n",
       "      <td>Patricia Ferraz</td>\n",
       "      <td>PODE</td>\n",
       "      <td>Sim</td>\n",
       "      <td>56</td>\n",
       "      <td>56</td>\n",
       "      <td>F</td>\n",
       "      <td>Belo Horizonte</td>\n",
       "      <td>43.0</td>\n",
       "    </tr>\n",
       "    <tr>\n",
       "      <th>3006453</th>\n",
       "      <td>2314962-33</td>\n",
       "      <td>PLEN</td>\n",
       "      <td>66455</td>\n",
       "      <td>1.0</td>\n",
       "      <td>https://dadosabertos.camara.leg.br/api/v2/vota...</td>\n",
       "      <td>Sim</td>\n",
       "      <td>205535</td>\n",
       "      <td>Patricia Ferraz</td>\n",
       "      <td>PODE</td>\n",
       "      <td>Sim</td>\n",
       "      <td>56</td>\n",
       "      <td>56</td>\n",
       "      <td>F</td>\n",
       "      <td>Belo Horizonte</td>\n",
       "      <td>43.0</td>\n",
       "    </tr>\n",
       "    <tr>\n",
       "      <th>3006454</th>\n",
       "      <td>2314962-33</td>\n",
       "      <td>PLEN</td>\n",
       "      <td>66455</td>\n",
       "      <td>1.0</td>\n",
       "      <td>https://dadosabertos.camara.leg.br/api/v2/vota...</td>\n",
       "      <td>Sim</td>\n",
       "      <td>205535</td>\n",
       "      <td>Patricia Ferraz</td>\n",
       "      <td>PODE</td>\n",
       "      <td>Sim</td>\n",
       "      <td>56</td>\n",
       "      <td>56</td>\n",
       "      <td>F</td>\n",
       "      <td>Belo Horizonte</td>\n",
       "      <td>43.0</td>\n",
       "    </tr>\n",
       "    <tr>\n",
       "      <th>3006455</th>\n",
       "      <td>2314962-33</td>\n",
       "      <td>PLEN</td>\n",
       "      <td>66455</td>\n",
       "      <td>1.0</td>\n",
       "      <td>https://dadosabertos.camara.leg.br/api/v2/vota...</td>\n",
       "      <td>Sim</td>\n",
       "      <td>205535</td>\n",
       "      <td>Patricia Ferraz</td>\n",
       "      <td>PODE</td>\n",
       "      <td>Sim</td>\n",
       "      <td>56</td>\n",
       "      <td>56</td>\n",
       "      <td>F</td>\n",
       "      <td>Belo Horizonte</td>\n",
       "      <td>43.0</td>\n",
       "    </tr>\n",
       "  </tbody>\n",
       "</table>\n",
       "<p>2499423 rows × 15 columns</p>\n",
       "</div>"
      ],
      "text/plain": [
       "          idVotacao siglaOrgao  idEvento  aprovacao  \\\n",
       "2         2312874-9       PLEN     64653        1.0   \n",
       "3         2312874-9       PLEN     64653        1.0   \n",
       "4         2312874-9       PLEN     64653        1.0   \n",
       "7         2312874-9       PLEN     64653        1.0   \n",
       "8         2312874-9       PLEN     64653        1.0   \n",
       "...             ...        ...       ...        ...   \n",
       "3006451  2314962-33       PLEN     66455        1.0   \n",
       "3006452  2314962-33       PLEN     66455        1.0   \n",
       "3006453  2314962-33       PLEN     66455        1.0   \n",
       "3006454  2314962-33       PLEN     66455        1.0   \n",
       "3006455  2314962-33       PLEN     66455        1.0   \n",
       "\n",
       "                                                uriVotacao voto  deputado_id  \\\n",
       "2        https://dadosabertos.camara.leg.br/api/v2/vota...  Sim       204554   \n",
       "3        https://dadosabertos.camara.leg.br/api/v2/vota...  Sim       204554   \n",
       "4        https://dadosabertos.camara.leg.br/api/v2/vota...  Sim       204554   \n",
       "7        https://dadosabertos.camara.leg.br/api/v2/vota...  Sim       204554   \n",
       "8        https://dadosabertos.camara.leg.br/api/v2/vota...  Sim       204554   \n",
       "...                                                    ...  ...          ...   \n",
       "3006451  https://dadosabertos.camara.leg.br/api/v2/vota...  Sim       205535   \n",
       "3006452  https://dadosabertos.camara.leg.br/api/v2/vota...  Sim       205535   \n",
       "3006453  https://dadosabertos.camara.leg.br/api/v2/vota...  Sim       205535   \n",
       "3006454  https://dadosabertos.camara.leg.br/api/v2/vota...  Sim       205535   \n",
       "3006455  https://dadosabertos.camara.leg.br/api/v2/vota...  Sim       205535   \n",
       "\n",
       "           deputado_nome deputado_siglaPartido orientacao  \\\n",
       "2         Abílio Santana                    PL        Não   \n",
       "3         Abílio Santana                    PL   Liberado   \n",
       "4         Abílio Santana                    PL        Sim   \n",
       "7         Abílio Santana                    PL  Obstrução   \n",
       "8         Abílio Santana                    PL        Sim   \n",
       "...                  ...                   ...        ...   \n",
       "3006451  Patricia Ferraz                  PODE        Sim   \n",
       "3006452  Patricia Ferraz                  PODE        Sim   \n",
       "3006453  Patricia Ferraz                  PODE        Sim   \n",
       "3006454  Patricia Ferraz                  PODE        Sim   \n",
       "3006455  Patricia Ferraz                  PODE        Sim   \n",
       "\n",
       "         idLegislaturaInicial  idLegislaturaFinal siglaSexo  \\\n",
       "2                          56                  56         M   \n",
       "3                          56                  56         M   \n",
       "4                          56                  56         M   \n",
       "7                          56                  56         M   \n",
       "8                          56                  56         M   \n",
       "...                       ...                 ...       ...   \n",
       "3006451                    56                  56         F   \n",
       "3006452                    56                  56         F   \n",
       "3006453                    56                  56         F   \n",
       "3006454                    56                  56         F   \n",
       "3006455                    56                  56         F   \n",
       "\n",
       "        municipioNascimento  idade  \n",
       "2                  Salvador   58.0  \n",
       "3                  Salvador   58.0  \n",
       "4                  Salvador   58.0  \n",
       "7                  Salvador   58.0  \n",
       "8                  Salvador   58.0  \n",
       "...                     ...    ...  \n",
       "3006451      Belo Horizonte   43.0  \n",
       "3006452      Belo Horizonte   43.0  \n",
       "3006453      Belo Horizonte   43.0  \n",
       "3006454      Belo Horizonte   43.0  \n",
       "3006455      Belo Horizonte   43.0  \n",
       "\n",
       "[2499423 rows x 15 columns]"
      ]
     },
     "execution_count": 19,
     "metadata": {},
     "output_type": "execute_result"
    }
   ],
   "source": [
    "df2"
   ]
  },
  {
   "cell_type": "code",
   "execution_count": 20,
   "id": "352d89a9",
   "metadata": {},
   "outputs": [
    {
     "data": {
      "text/html": [
       "<div>\n",
       "<style scoped>\n",
       "    .dataframe tbody tr th:only-of-type {\n",
       "        vertical-align: middle;\n",
       "    }\n",
       "\n",
       "    .dataframe tbody tr th {\n",
       "        vertical-align: top;\n",
       "    }\n",
       "\n",
       "    .dataframe thead th {\n",
       "        text-align: right;\n",
       "    }\n",
       "</style>\n",
       "<table border=\"1\" class=\"dataframe\">\n",
       "  <thead>\n",
       "    <tr style=\"text-align: right;\">\n",
       "      <th></th>\n",
       "      <th></th>\n",
       "      <th></th>\n",
       "      <th>repetitions</th>\n",
       "    </tr>\n",
       "    <tr>\n",
       "      <th>deputado_id</th>\n",
       "      <th>idVotacao</th>\n",
       "      <th>voto</th>\n",
       "      <th></th>\n",
       "    </tr>\n",
       "  </thead>\n",
       "  <tbody>\n",
       "    <tr>\n",
       "      <th>133810</th>\n",
       "      <th>2301321-40</th>\n",
       "      <th>Sim</th>\n",
       "      <td>28</td>\n",
       "    </tr>\n",
       "    <tr>\n",
       "      <th>204508</th>\n",
       "      <th>2301321-40</th>\n",
       "      <th>Sim</th>\n",
       "      <td>28</td>\n",
       "    </tr>\n",
       "    <tr>\n",
       "      <th>193726</th>\n",
       "      <th>2301321-40</th>\n",
       "      <th>Sim</th>\n",
       "      <td>28</td>\n",
       "    </tr>\n",
       "    <tr>\n",
       "      <th>204489</th>\n",
       "      <th>2301321-40</th>\n",
       "      <th>Sim</th>\n",
       "      <td>28</td>\n",
       "    </tr>\n",
       "    <tr>\n",
       "      <th>204479</th>\n",
       "      <th>2301321-40</th>\n",
       "      <th>Sim</th>\n",
       "      <td>28</td>\n",
       "    </tr>\n",
       "    <tr>\n",
       "      <th>...</th>\n",
       "      <th>...</th>\n",
       "      <th>...</th>\n",
       "      <td>...</td>\n",
       "    </tr>\n",
       "    <tr>\n",
       "      <th>66828</th>\n",
       "      <th>2334096-29</th>\n",
       "      <th>Sim</th>\n",
       "      <td>3</td>\n",
       "    </tr>\n",
       "    <tr>\n",
       "      <th>204572</th>\n",
       "      <th>2334096-29</th>\n",
       "      <th>Sim</th>\n",
       "      <td>3</td>\n",
       "    </tr>\n",
       "    <tr>\n",
       "      <th>204419</th>\n",
       "      <th>2334095-31</th>\n",
       "      <th>Sim</th>\n",
       "      <td>2</td>\n",
       "    </tr>\n",
       "    <tr>\n",
       "      <th>204533</th>\n",
       "      <th>2334095-31</th>\n",
       "      <th>Sim</th>\n",
       "      <td>2</td>\n",
       "    </tr>\n",
       "    <tr>\n",
       "      <th>204572</th>\n",
       "      <th>2334095-31</th>\n",
       "      <th>Sim</th>\n",
       "      <td>2</td>\n",
       "    </tr>\n",
       "  </tbody>\n",
       "</table>\n",
       "<p>112156 rows × 1 columns</p>\n",
       "</div>"
      ],
      "text/plain": [
       "                             repetitions\n",
       "deputado_id idVotacao  voto             \n",
       "133810      2301321-40 Sim            28\n",
       "204508      2301321-40 Sim            28\n",
       "193726      2301321-40 Sim            28\n",
       "204489      2301321-40 Sim            28\n",
       "204479      2301321-40 Sim            28\n",
       "...                                  ...\n",
       "66828       2334096-29 Sim             3\n",
       "204572      2334096-29 Sim             3\n",
       "204419      2334095-31 Sim             2\n",
       "204533      2334095-31 Sim             2\n",
       "204572      2334095-31 Sim             2\n",
       "\n",
       "[112156 rows x 1 columns]"
      ]
     },
     "execution_count": 20,
     "metadata": {},
     "output_type": "execute_result"
    }
   ],
   "source": [
    "df2[['deputado_id', 'idVotacao', 'voto']].value_counts().to_frame().rename(columns={0:'repetitions'})"
   ]
  },
  {
   "cell_type": "code",
   "execution_count": 21,
   "id": "0127eb0f",
   "metadata": {},
   "outputs": [],
   "source": [
    "df2 = df2.drop_duplicates(subset=['deputado_id', 'idVotacao', 'voto'], keep='first').reset_index(drop=True)"
   ]
  },
  {
   "cell_type": "code",
   "execution_count": 22,
   "id": "b66de372",
   "metadata": {},
   "outputs": [
    {
     "data": {
      "text/html": [
       "<div>\n",
       "<style scoped>\n",
       "    .dataframe tbody tr th:only-of-type {\n",
       "        vertical-align: middle;\n",
       "    }\n",
       "\n",
       "    .dataframe tbody tr th {\n",
       "        vertical-align: top;\n",
       "    }\n",
       "\n",
       "    .dataframe thead th {\n",
       "        text-align: right;\n",
       "    }\n",
       "</style>\n",
       "<table border=\"1\" class=\"dataframe\">\n",
       "  <thead>\n",
       "    <tr style=\"text-align: right;\">\n",
       "      <th></th>\n",
       "      <th></th>\n",
       "      <th></th>\n",
       "      <th>repetitions</th>\n",
       "    </tr>\n",
       "    <tr>\n",
       "      <th>deputado_id</th>\n",
       "      <th>idVotacao</th>\n",
       "      <th>voto</th>\n",
       "      <th></th>\n",
       "    </tr>\n",
       "  </thead>\n",
       "  <tbody>\n",
       "    <tr>\n",
       "      <th>66179</th>\n",
       "      <th>105464-319</th>\n",
       "      <th>Não</th>\n",
       "      <td>1</td>\n",
       "    </tr>\n",
       "    <tr>\n",
       "      <th rowspan=\"4\" valign=\"top\">204473</th>\n",
       "      <th>2298445-77</th>\n",
       "      <th>Não</th>\n",
       "      <td>1</td>\n",
       "    </tr>\n",
       "    <tr>\n",
       "      <th>2306112-59</th>\n",
       "      <th>Sim</th>\n",
       "      <td>1</td>\n",
       "    </tr>\n",
       "    <tr>\n",
       "      <th>2301321-40</th>\n",
       "      <th>Sim</th>\n",
       "      <td>1</td>\n",
       "    </tr>\n",
       "    <tr>\n",
       "      <th>2301088-74</th>\n",
       "      <th>Sim</th>\n",
       "      <td>1</td>\n",
       "    </tr>\n",
       "    <tr>\n",
       "      <th>...</th>\n",
       "      <th>...</th>\n",
       "      <th>...</th>\n",
       "      <td>...</td>\n",
       "    </tr>\n",
       "    <tr>\n",
       "      <th rowspan=\"4\" valign=\"top\">194260</th>\n",
       "      <th>2318736-85</th>\n",
       "      <th>Não</th>\n",
       "      <td>1</td>\n",
       "    </tr>\n",
       "    <tr>\n",
       "      <th>2318736-82</th>\n",
       "      <th>Sim</th>\n",
       "      <td>1</td>\n",
       "    </tr>\n",
       "    <tr>\n",
       "      <th>2318736-79</th>\n",
       "      <th>Não</th>\n",
       "      <td>1</td>\n",
       "    </tr>\n",
       "    <tr>\n",
       "      <th>2318736-62</th>\n",
       "      <th>Não</th>\n",
       "      <td>1</td>\n",
       "    </tr>\n",
       "    <tr>\n",
       "      <th>220008</th>\n",
       "      <th>596844-116</th>\n",
       "      <th>Sim</th>\n",
       "      <td>1</td>\n",
       "    </tr>\n",
       "  </tbody>\n",
       "</table>\n",
       "<p>112156 rows × 1 columns</p>\n",
       "</div>"
      ],
      "text/plain": [
       "                             repetitions\n",
       "deputado_id idVotacao  voto             \n",
       "66179       105464-319 Não             1\n",
       "204473      2298445-77 Não             1\n",
       "            2306112-59 Sim             1\n",
       "            2301321-40 Sim             1\n",
       "            2301088-74 Sim             1\n",
       "...                                  ...\n",
       "194260      2318736-85 Não             1\n",
       "            2318736-82 Sim             1\n",
       "            2318736-79 Não             1\n",
       "            2318736-62 Não             1\n",
       "220008      596844-116 Sim             1\n",
       "\n",
       "[112156 rows x 1 columns]"
      ]
     },
     "execution_count": 22,
     "metadata": {},
     "output_type": "execute_result"
    }
   ],
   "source": [
    "df2[['deputado_id', 'idVotacao', 'voto']].value_counts().to_frame().rename(columns={0:'repetitions'})"
   ]
  },
  {
   "cell_type": "code",
   "execution_count": 23,
   "id": "5a88eabf",
   "metadata": {},
   "outputs": [],
   "source": [
    "##find values in cols where orientation and vote is equal\n",
    "## if the value matches => 1 and if its different => 0\n",
    "df2[\"new\"] = np.where((df2['voto'] == df2['orientacao']), 1, 0)"
   ]
  },
  {
   "cell_type": "code",
   "execution_count": 24,
   "id": "3d7668ac",
   "metadata": {},
   "outputs": [
    {
     "data": {
      "text/html": [
       "<div>\n",
       "<style scoped>\n",
       "    .dataframe tbody tr th:only-of-type {\n",
       "        vertical-align: middle;\n",
       "    }\n",
       "\n",
       "    .dataframe tbody tr th {\n",
       "        vertical-align: top;\n",
       "    }\n",
       "\n",
       "    .dataframe thead th {\n",
       "        text-align: right;\n",
       "    }\n",
       "</style>\n",
       "<table border=\"1\" class=\"dataframe\">\n",
       "  <thead>\n",
       "    <tr style=\"text-align: right;\">\n",
       "      <th></th>\n",
       "      <th>idVotacao</th>\n",
       "      <th>siglaOrgao</th>\n",
       "      <th>idEvento</th>\n",
       "      <th>aprovacao</th>\n",
       "      <th>uriVotacao</th>\n",
       "      <th>voto</th>\n",
       "      <th>deputado_id</th>\n",
       "      <th>deputado_nome</th>\n",
       "      <th>deputado_siglaPartido</th>\n",
       "      <th>orientacao</th>\n",
       "      <th>...</th>\n",
       "      <th>idLegislaturaFinal</th>\n",
       "      <th>siglaSexo</th>\n",
       "      <th>municipioNascimento</th>\n",
       "      <th>idade</th>\n",
       "      <th>new</th>\n",
       "      <th>score_accordingly</th>\n",
       "      <th>deputado_enc</th>\n",
       "      <th>orientacao_enc</th>\n",
       "      <th>gender_enc</th>\n",
       "      <th>vote_enc</th>\n",
       "    </tr>\n",
       "  </thead>\n",
       "  <tbody>\n",
       "    <tr>\n",
       "      <th>0</th>\n",
       "      <td>2312874-9</td>\n",
       "      <td>PLEN</td>\n",
       "      <td>64653</td>\n",
       "      <td>1.0</td>\n",
       "      <td>https://dadosabertos.camara.leg.br/api/v2/vota...</td>\n",
       "      <td>Sim</td>\n",
       "      <td>204554</td>\n",
       "      <td>Abílio Santana</td>\n",
       "      <td>PL</td>\n",
       "      <td>Não</td>\n",
       "      <td>...</td>\n",
       "      <td>56</td>\n",
       "      <td>M</td>\n",
       "      <td>Salvador</td>\n",
       "      <td>58.0</td>\n",
       "      <td>0</td>\n",
       "      <td>72.56</td>\n",
       "      <td>2</td>\n",
       "      <td>1</td>\n",
       "      <td>1</td>\n",
       "      <td>4</td>\n",
       "    </tr>\n",
       "    <tr>\n",
       "      <th>1</th>\n",
       "      <td>46249-294</td>\n",
       "      <td>PLEN</td>\n",
       "      <td>64653</td>\n",
       "      <td>0.0</td>\n",
       "      <td>https://dadosabertos.camara.leg.br/api/v2/vota...</td>\n",
       "      <td>Não</td>\n",
       "      <td>204554</td>\n",
       "      <td>Abílio Santana</td>\n",
       "      <td>PL</td>\n",
       "      <td>Não</td>\n",
       "      <td>...</td>\n",
       "      <td>56</td>\n",
       "      <td>M</td>\n",
       "      <td>Salvador</td>\n",
       "      <td>58.0</td>\n",
       "      <td>1</td>\n",
       "      <td>72.56</td>\n",
       "      <td>2</td>\n",
       "      <td>1</td>\n",
       "      <td>1</td>\n",
       "      <td>2</td>\n",
       "    </tr>\n",
       "    <tr>\n",
       "      <th>2</th>\n",
       "      <td>46249-297</td>\n",
       "      <td>PLEN</td>\n",
       "      <td>64653</td>\n",
       "      <td>1.0</td>\n",
       "      <td>https://dadosabertos.camara.leg.br/api/v2/vota...</td>\n",
       "      <td>Sim</td>\n",
       "      <td>204554</td>\n",
       "      <td>Abílio Santana</td>\n",
       "      <td>PL</td>\n",
       "      <td>Sim</td>\n",
       "      <td>...</td>\n",
       "      <td>56</td>\n",
       "      <td>M</td>\n",
       "      <td>Salvador</td>\n",
       "      <td>58.0</td>\n",
       "      <td>1</td>\n",
       "      <td>72.56</td>\n",
       "      <td>2</td>\n",
       "      <td>3</td>\n",
       "      <td>1</td>\n",
       "      <td>4</td>\n",
       "    </tr>\n",
       "    <tr>\n",
       "      <th>3</th>\n",
       "      <td>46249-312</td>\n",
       "      <td>PLEN</td>\n",
       "      <td>64653</td>\n",
       "      <td>2.0</td>\n",
       "      <td>https://dadosabertos.camara.leg.br/api/v2/vota...</td>\n",
       "      <td>Sim</td>\n",
       "      <td>204554</td>\n",
       "      <td>Abílio Santana</td>\n",
       "      <td>PL</td>\n",
       "      <td>Não</td>\n",
       "      <td>...</td>\n",
       "      <td>56</td>\n",
       "      <td>M</td>\n",
       "      <td>Salvador</td>\n",
       "      <td>58.0</td>\n",
       "      <td>0</td>\n",
       "      <td>72.56</td>\n",
       "      <td>2</td>\n",
       "      <td>1</td>\n",
       "      <td>1</td>\n",
       "      <td>4</td>\n",
       "    </tr>\n",
       "    <tr>\n",
       "      <th>4</th>\n",
       "      <td>46249-316</td>\n",
       "      <td>PLEN</td>\n",
       "      <td>64653</td>\n",
       "      <td>0.0</td>\n",
       "      <td>https://dadosabertos.camara.leg.br/api/v2/vota...</td>\n",
       "      <td>Não</td>\n",
       "      <td>204554</td>\n",
       "      <td>Abílio Santana</td>\n",
       "      <td>PL</td>\n",
       "      <td>Não</td>\n",
       "      <td>...</td>\n",
       "      <td>56</td>\n",
       "      <td>M</td>\n",
       "      <td>Salvador</td>\n",
       "      <td>58.0</td>\n",
       "      <td>1</td>\n",
       "      <td>72.56</td>\n",
       "      <td>2</td>\n",
       "      <td>1</td>\n",
       "      <td>1</td>\n",
       "      <td>2</td>\n",
       "    </tr>\n",
       "    <tr>\n",
       "      <th>...</th>\n",
       "      <td>...</td>\n",
       "      <td>...</td>\n",
       "      <td>...</td>\n",
       "      <td>...</td>\n",
       "      <td>...</td>\n",
       "      <td>...</td>\n",
       "      <td>...</td>\n",
       "      <td>...</td>\n",
       "      <td>...</td>\n",
       "      <td>...</td>\n",
       "      <td>...</td>\n",
       "      <td>...</td>\n",
       "      <td>...</td>\n",
       "      <td>...</td>\n",
       "      <td>...</td>\n",
       "      <td>...</td>\n",
       "      <td>...</td>\n",
       "      <td>...</td>\n",
       "      <td>...</td>\n",
       "      <td>...</td>\n",
       "      <td>...</td>\n",
       "    </tr>\n",
       "    <tr>\n",
       "      <th>112151</th>\n",
       "      <td>2323617-49</td>\n",
       "      <td>PLEN</td>\n",
       "      <td>66394</td>\n",
       "      <td>2.0</td>\n",
       "      <td>https://dadosabertos.camara.leg.br/api/v2/vota...</td>\n",
       "      <td>Sim</td>\n",
       "      <td>122466</td>\n",
       "      <td>Ronaldo Martins</td>\n",
       "      <td>REPUBLICANOS</td>\n",
       "      <td>Liberado</td>\n",
       "      <td>...</td>\n",
       "      <td>56</td>\n",
       "      <td>M</td>\n",
       "      <td>São Paulo</td>\n",
       "      <td>45.0</td>\n",
       "      <td>0</td>\n",
       "      <td>68.00</td>\n",
       "      <td>317</td>\n",
       "      <td>0</td>\n",
       "      <td>1</td>\n",
       "      <td>4</td>\n",
       "    </tr>\n",
       "    <tr>\n",
       "      <th>112152</th>\n",
       "      <td>2323617-56</td>\n",
       "      <td>PLEN</td>\n",
       "      <td>66394</td>\n",
       "      <td>0.0</td>\n",
       "      <td>https://dadosabertos.camara.leg.br/api/v2/vota...</td>\n",
       "      <td>Não</td>\n",
       "      <td>122466</td>\n",
       "      <td>Ronaldo Martins</td>\n",
       "      <td>REPUBLICANOS</td>\n",
       "      <td>Não</td>\n",
       "      <td>...</td>\n",
       "      <td>56</td>\n",
       "      <td>M</td>\n",
       "      <td>São Paulo</td>\n",
       "      <td>45.0</td>\n",
       "      <td>1</td>\n",
       "      <td>68.00</td>\n",
       "      <td>317</td>\n",
       "      <td>1</td>\n",
       "      <td>1</td>\n",
       "      <td>2</td>\n",
       "    </tr>\n",
       "    <tr>\n",
       "      <th>112153</th>\n",
       "      <td>2314962-33</td>\n",
       "      <td>PLEN</td>\n",
       "      <td>66455</td>\n",
       "      <td>1.0</td>\n",
       "      <td>https://dadosabertos.camara.leg.br/api/v2/vota...</td>\n",
       "      <td>Sim</td>\n",
       "      <td>122466</td>\n",
       "      <td>Ronaldo Martins</td>\n",
       "      <td>REPUBLICANOS</td>\n",
       "      <td>Sim</td>\n",
       "      <td>...</td>\n",
       "      <td>56</td>\n",
       "      <td>M</td>\n",
       "      <td>São Paulo</td>\n",
       "      <td>45.0</td>\n",
       "      <td>1</td>\n",
       "      <td>68.00</td>\n",
       "      <td>317</td>\n",
       "      <td>3</td>\n",
       "      <td>1</td>\n",
       "      <td>4</td>\n",
       "    </tr>\n",
       "    <tr>\n",
       "      <th>112154</th>\n",
       "      <td>2326278-38</td>\n",
       "      <td>PLEN</td>\n",
       "      <td>66439</td>\n",
       "      <td>0.0</td>\n",
       "      <td>https://dadosabertos.camara.leg.br/api/v2/vota...</td>\n",
       "      <td>Não</td>\n",
       "      <td>205535</td>\n",
       "      <td>Patricia Ferraz</td>\n",
       "      <td>PODE</td>\n",
       "      <td>Não</td>\n",
       "      <td>...</td>\n",
       "      <td>56</td>\n",
       "      <td>F</td>\n",
       "      <td>Belo Horizonte</td>\n",
       "      <td>43.0</td>\n",
       "      <td>1</td>\n",
       "      <td>40.76</td>\n",
       "      <td>277</td>\n",
       "      <td>1</td>\n",
       "      <td>0</td>\n",
       "      <td>2</td>\n",
       "    </tr>\n",
       "    <tr>\n",
       "      <th>112155</th>\n",
       "      <td>2314962-33</td>\n",
       "      <td>PLEN</td>\n",
       "      <td>66455</td>\n",
       "      <td>1.0</td>\n",
       "      <td>https://dadosabertos.camara.leg.br/api/v2/vota...</td>\n",
       "      <td>Sim</td>\n",
       "      <td>205535</td>\n",
       "      <td>Patricia Ferraz</td>\n",
       "      <td>PODE</td>\n",
       "      <td>Sim</td>\n",
       "      <td>...</td>\n",
       "      <td>56</td>\n",
       "      <td>F</td>\n",
       "      <td>Belo Horizonte</td>\n",
       "      <td>43.0</td>\n",
       "      <td>1</td>\n",
       "      <td>40.76</td>\n",
       "      <td>277</td>\n",
       "      <td>3</td>\n",
       "      <td>0</td>\n",
       "      <td>4</td>\n",
       "    </tr>\n",
       "  </tbody>\n",
       "</table>\n",
       "<p>112156 rows × 21 columns</p>\n",
       "</div>"
      ],
      "text/plain": [
       "         idVotacao siglaOrgao  idEvento  aprovacao  \\\n",
       "0        2312874-9       PLEN     64653        1.0   \n",
       "1        46249-294       PLEN     64653        0.0   \n",
       "2        46249-297       PLEN     64653        1.0   \n",
       "3        46249-312       PLEN     64653        2.0   \n",
       "4        46249-316       PLEN     64653        0.0   \n",
       "...            ...        ...       ...        ...   \n",
       "112151  2323617-49       PLEN     66394        2.0   \n",
       "112152  2323617-56       PLEN     66394        0.0   \n",
       "112153  2314962-33       PLEN     66455        1.0   \n",
       "112154  2326278-38       PLEN     66439        0.0   \n",
       "112155  2314962-33       PLEN     66455        1.0   \n",
       "\n",
       "                                               uriVotacao voto  deputado_id  \\\n",
       "0       https://dadosabertos.camara.leg.br/api/v2/vota...  Sim       204554   \n",
       "1       https://dadosabertos.camara.leg.br/api/v2/vota...  Não       204554   \n",
       "2       https://dadosabertos.camara.leg.br/api/v2/vota...  Sim       204554   \n",
       "3       https://dadosabertos.camara.leg.br/api/v2/vota...  Sim       204554   \n",
       "4       https://dadosabertos.camara.leg.br/api/v2/vota...  Não       204554   \n",
       "...                                                   ...  ...          ...   \n",
       "112151  https://dadosabertos.camara.leg.br/api/v2/vota...  Sim       122466   \n",
       "112152  https://dadosabertos.camara.leg.br/api/v2/vota...  Não       122466   \n",
       "112153  https://dadosabertos.camara.leg.br/api/v2/vota...  Sim       122466   \n",
       "112154  https://dadosabertos.camara.leg.br/api/v2/vota...  Não       205535   \n",
       "112155  https://dadosabertos.camara.leg.br/api/v2/vota...  Sim       205535   \n",
       "\n",
       "          deputado_nome deputado_siglaPartido orientacao  ...  \\\n",
       "0        Abílio Santana                    PL        Não  ...   \n",
       "1        Abílio Santana                    PL        Não  ...   \n",
       "2        Abílio Santana                    PL        Sim  ...   \n",
       "3        Abílio Santana                    PL        Não  ...   \n",
       "4        Abílio Santana                    PL        Não  ...   \n",
       "...                 ...                   ...        ...  ...   \n",
       "112151  Ronaldo Martins          REPUBLICANOS   Liberado  ...   \n",
       "112152  Ronaldo Martins          REPUBLICANOS        Não  ...   \n",
       "112153  Ronaldo Martins          REPUBLICANOS        Sim  ...   \n",
       "112154  Patricia Ferraz                  PODE        Não  ...   \n",
       "112155  Patricia Ferraz                  PODE        Sim  ...   \n",
       "\n",
       "        idLegislaturaFinal  siglaSexo municipioNascimento idade  new  \\\n",
       "0                       56          M            Salvador  58.0    0   \n",
       "1                       56          M            Salvador  58.0    1   \n",
       "2                       56          M            Salvador  58.0    1   \n",
       "3                       56          M            Salvador  58.0    0   \n",
       "4                       56          M            Salvador  58.0    1   \n",
       "...                    ...        ...                 ...   ...  ...   \n",
       "112151                  56          M           São Paulo  45.0    0   \n",
       "112152                  56          M           São Paulo  45.0    1   \n",
       "112153                  56          M           São Paulo  45.0    1   \n",
       "112154                  56          F      Belo Horizonte  43.0    1   \n",
       "112155                  56          F      Belo Horizonte  43.0    1   \n",
       "\n",
       "        score_accordingly  deputado_enc  orientacao_enc  gender_enc  vote_enc  \n",
       "0                   72.56             2               1           1         4  \n",
       "1                   72.56             2               1           1         2  \n",
       "2                   72.56             2               3           1         4  \n",
       "3                   72.56             2               1           1         4  \n",
       "4                   72.56             2               1           1         2  \n",
       "...                   ...           ...             ...         ...       ...  \n",
       "112151              68.00           317               0           1         4  \n",
       "112152              68.00           317               1           1         2  \n",
       "112153              68.00           317               3           1         4  \n",
       "112154              40.76           277               1           0         2  \n",
       "112155              40.76           277               3           0         4  \n",
       "\n",
       "[112156 rows x 21 columns]"
      ]
     },
     "execution_count": 24,
     "metadata": {},
     "output_type": "execute_result"
    }
   ],
   "source": [
    "df2 = prepareDataForML(df2)\n",
    "df2"
   ]
  },
  {
   "cell_type": "code",
   "execution_count": 25,
   "id": "1f161319",
   "metadata": {},
   "outputs": [],
   "source": [
    "df2.to_csv('../data/preprocessed/dataVoting.csv')"
   ]
  },
  {
   "attachments": {},
   "cell_type": "markdown",
   "id": "c797011e",
   "metadata": {},
   "source": [
    "### PL - partido liberal\n",
    "\n",
    "O Partido Liberal (PL), anteriormente conhecido como Partido da República (PR),[14] é um partido político brasileiro de direita[8] fundado e registrado oficialmente em 2006.[3][4] Atualmente detém a maior bancada na Câmara dos Deputados.[12] Como membro do chamado \"Centrão\",[15] o partido é base de apoio do atual governo do presidente Jair Bolsonaro \n",
    "https://pt.wikipedia.org/wiki/Partido_Liberal_(2006)"
   ]
  },
  {
   "cell_type": "code",
   "execution_count": 46,
   "id": "e15fd945",
   "metadata": {},
   "outputs": [
    {
     "name": "stdout",
     "output_type": "stream",
     "text": [
      "Numero de deputados no partido:  71\n"
     ]
    }
   ],
   "source": [
    "dfPL = voteType(\"PL\")\n",
    "print(\"Numero de deputados no partido: \", len(voteType(\"PL\")['deputado_nome'].value_counts()))"
   ]
  },
  {
   "cell_type": "code",
   "execution_count": 47,
   "id": "b863bc07",
   "metadata": {},
   "outputs": [
    {
     "data": {
      "image/png": "[encoded data removed]",
      "text/plain": [
       "<Figure size 432x288 with 1 Axes>"
      ]
     },
     "metadata": {
      "needs_background": "light"
     },
     "output_type": "display_data"
    }
   ],
   "source": [
    "pltt(dfPL)"
   ]
  },
  {
   "cell_type": "code",
   "execution_count": 48,
   "id": "8904c184",
   "metadata": {},
   "outputs": [
    {
     "data": {
      "image/png": "[encoded data removed]",
      "text/plain": [
       "<Figure size 1332x756 with 1 Axes>"
      ]
     },
     "metadata": {
      "needs_background": "light"
     },
     "output_type": "display_data"
    }
   ],
   "source": [
    "pltS(dfPL,\"siglaSexo\")"
   ]
  },
  {
   "cell_type": "code",
   "execution_count": 49,
   "id": "4fe0baed",
   "metadata": {},
   "outputs": [
    {
     "data": {
      "image/png": "[encoded data removed]",
      "text/plain": [
       "<Figure size 1332x756 with 1 Axes>"
      ]
     },
     "metadata": {
      "needs_background": "light"
     },
     "output_type": "display_data"
    }
   ],
   "source": [
    "pltA(dfPL,\"idade\")"
   ]
  },
  {
   "cell_type": "code",
   "execution_count": 50,
   "id": "651c7c32",
   "metadata": {},
   "outputs": [
    {
     "data": {
      "image/png": "[encoded data removed]",
      "text/plain": [
       "<Figure size 1080x504 with 1 Axes>"
      ]
     },
     "metadata": {
      "needs_background": "light"
     },
     "output_type": "display_data"
    }
   ],
   "source": [
    "# pltM(dfPL,\"municipio_enc\")\n",
    "pltMBar(dfPL,\"municipioNascimento\")"
   ]
  },
  {
   "attachments": {},
   "cell_type": "markdown",
   "id": "a72ab137",
   "metadata": {},
   "source": [
    "### PT - partido trabalhadores\n",
    "\n",
    "O Partido dos Trabalhadores é um partido político brasileiro de centro-esquerda à esquerda.\n",
    "https://pt.wikipedia.org/wiki/Partido_Liberal_(2006)"
   ]
  },
  {
   "cell_type": "code",
   "execution_count": 51,
   "id": "61c37aa6",
   "metadata": {},
   "outputs": [
    {
     "name": "stdout",
     "output_type": "stream",
     "text": [
      "Numero de deputados no partido:  27\n"
     ]
    }
   ],
   "source": [
    "dfPT = voteType(\"PT\")\n",
    "print(\"Numero de deputados no partido: \", len(voteType(\"PT\")['deputado_nome'].value_counts()))"
   ]
  },
  {
   "cell_type": "code",
   "execution_count": 52,
   "id": "f10010e0",
   "metadata": {},
   "outputs": [
    {
     "data": {
      "image/png": "[encoded data removed]",
      "text/plain": [
       "<Figure size 432x288 with 1 Axes>"
      ]
     },
     "metadata": {
      "needs_background": "light"
     },
     "output_type": "display_data"
    }
   ],
   "source": [
    "pltt(dfPT)"
   ]
  },
  {
   "cell_type": "code",
   "execution_count": 53,
   "id": "720909f5",
   "metadata": {},
   "outputs": [
    {
     "data": {
      "image/png": "[encoded data removed]",
      "text/plain": [
       "<Figure size 1332x756 with 1 Axes>"
      ]
     },
     "metadata": {
      "needs_background": "light"
     },
     "output_type": "display_data"
    }
   ],
   "source": [
    "pltS(dfPT,\"siglaSexo\")"
   ]
  },
  {
   "cell_type": "code",
   "execution_count": 54,
   "id": "828de9d9",
   "metadata": {},
   "outputs": [
    {
     "data": {
      "image/png": "[encoded data removed]",
      "text/plain": [
       "<Figure size 1332x756 with 1 Axes>"
      ]
     },
     "metadata": {
      "needs_background": "light"
     },
     "output_type": "display_data"
    }
   ],
   "source": [
    "pltA(dfPT,\"idade\")"
   ]
  },
  {
   "cell_type": "code",
   "execution_count": 55,
   "id": "f742d06c",
   "metadata": {},
   "outputs": [
    {
     "data": {
      "image/png": "[encoded data removed]",
      "text/plain": [
       "<Figure size 1080x504 with 1 Axes>"
      ]
     },
     "metadata": {
      "needs_background": "light"
     },
     "output_type": "display_data"
    }
   ],
   "source": [
    "pltMBar(dfPT,\"municipioNascimento\")"
   ]
  },
  {
   "attachments": {},
   "cell_type": "markdown",
   "id": "84c04195",
   "metadata": {},
   "source": [
    "### PP - progressistas \n",
    "\n",
    "O Progressistas é um partido político brasileiro de alinhamento entre a centro-direita e a direita."
   ]
  },
  {
   "cell_type": "code",
   "execution_count": 56,
   "id": "98bc54a9",
   "metadata": {},
   "outputs": [
    {
     "name": "stdout",
     "output_type": "stream",
     "text": [
      "Numero de deputados no partido:  41\n"
     ]
    }
   ],
   "source": [
    "dfPP = voteType(\"PP\")\n",
    "print(\"Numero de deputados no partido: \", len(voteType(\"PP\")['deputado_nome'].value_counts()))"
   ]
  },
  {
   "cell_type": "code",
   "execution_count": 57,
   "id": "17e9f9fb",
   "metadata": {},
   "outputs": [
    {
     "data": {
      "image/png": "[encoded data removed]",
      "text/plain": [
       "<Figure size 432x288 with 1 Axes>"
      ]
     },
     "metadata": {
      "needs_background": "light"
     },
     "output_type": "display_data"
    }
   ],
   "source": [
    "pltt(dfPP)"
   ]
  },
  {
   "cell_type": "code",
   "execution_count": 58,
   "id": "1e28f34a",
   "metadata": {},
   "outputs": [
    {
     "data": {
      "image/png": "[encoded data removed]",
      "text/plain": [
       "<Figure size 1332x756 with 1 Axes>"
      ]
     },
     "metadata": {
      "needs_background": "light"
     },
     "output_type": "display_data"
    }
   ],
   "source": [
    "pltS(dfPP,\"siglaSexo\")"
   ]
  },
  {
   "cell_type": "code",
   "execution_count": 59,
   "id": "dc3690a1",
   "metadata": {},
   "outputs": [
    {
     "data": {
      "image/png": "[encoded data removed]",
      "text/plain": [
       "<Figure size 1332x756 with 1 Axes>"
      ]
     },
     "metadata": {
      "needs_background": "light"
     },
     "output_type": "display_data"
    }
   ],
   "source": [
    "pltA(dfPP,\"idade\")"
   ]
  },
  {
   "cell_type": "code",
   "execution_count": 60,
   "id": "2f4ce85d",
   "metadata": {},
   "outputs": [
    {
     "data": {
      "image/png": "[encoded data removed]",
      "text/plain": [
       "<Figure size 1080x504 with 1 Axes>"
      ]
     },
     "metadata": {
      "needs_background": "light"
     },
     "output_type": "display_data"
    }
   ],
   "source": [
    "pltMBar(dfPP,\"municipioNascimento\")"
   ]
  },
  {
   "attachments": {},
   "cell_type": "markdown",
   "id": "fa4a1fb9",
   "metadata": {},
   "source": [
    "### UNIAO \n",
    "\n",
    "União Brasil é um partido político brasileiro de centro-direita a direita que surgiu da fusão entre o Democratas e o Partido Social Liberal"
   ]
  },
  {
   "cell_type": "code",
   "execution_count": 61,
   "id": "7d20f83f",
   "metadata": {},
   "outputs": [
    {
     "data": {
      "image/png": "[encoded data removed]",
      "text/plain": [
       "<Figure size 432x288 with 1 Axes>"
      ]
     },
     "metadata": {
      "needs_background": "light"
     },
     "output_type": "display_data"
    },
    {
     "name": "stdout",
     "output_type": "stream",
     "text": [
      "Numero de deputados no partido:  89\n"
     ]
    }
   ],
   "source": [
    "pltt(voteType(\"UNIÃO\"))\n",
    "print(\"Numero de deputados no partido: \", len(voteType(\"UNIÃO\")['deputado_nome'].value_counts()))"
   ]
  },
  {
   "cell_type": "code",
   "execution_count": 62,
   "id": "dcd3569c",
   "metadata": {},
   "outputs": [
    {
     "data": {
      "image/png": "[encoded data removed]",
      "text/plain": [
       "<Figure size 1332x756 with 1 Axes>"
      ]
     },
     "metadata": {
      "needs_background": "light"
     },
     "output_type": "display_data"
    }
   ],
   "source": [
    "pltS(voteType(\"UNIÃO\"),\"siglaSexo\")"
   ]
  },
  {
   "cell_type": "code",
   "execution_count": 63,
   "id": "7195108f",
   "metadata": {},
   "outputs": [
    {
     "data": {
      "image/png": "[encoded data removed]",
      "text/plain": [
       "<Figure size 1332x756 with 1 Axes>"
      ]
     },
     "metadata": {
      "needs_background": "light"
     },
     "output_type": "display_data"
    }
   ],
   "source": [
    "pltA(voteType(\"UNIÃO\"),\"idade\")"
   ]
  },
  {
   "cell_type": "code",
   "execution_count": 64,
   "id": "7395da4e",
   "metadata": {},
   "outputs": [
    {
     "data": {
      "image/png": "[encoded data removed]",
      "text/plain": [
       "<Figure size 1080x504 with 1 Axes>"
      ]
     },
     "metadata": {
      "needs_background": "light"
     },
     "output_type": "display_data"
    }
   ],
   "source": [
    "pltMBar(voteType(\"UNIÃO\"),\"municipioNascimento\")"
   ]
  },
  {
   "attachments": {},
   "cell_type": "markdown",
   "id": "4248c82c",
   "metadata": {},
   "source": [
    "### PSD  - Partido Social Democrático\n",
    "\n",
    "O partido se declara de Centro[13][14] e normalmente une se a partidos de esquerda e de direita. "
   ]
  },
  {
   "cell_type": "code",
   "execution_count": 65,
   "id": "7cdbccfe",
   "metadata": {},
   "outputs": [
    {
     "data": {
      "image/png": "[encoded data removed]",
      "text/plain": [
       "<Figure size 432x288 with 1 Axes>"
      ]
     },
     "metadata": {
      "needs_background": "light"
     },
     "output_type": "display_data"
    },
    {
     "name": "stdout",
     "output_type": "stream",
     "text": [
      "Numero de deputados no partido:  39\n"
     ]
    }
   ],
   "source": [
    "pltt(voteType(\"PSD\"))\n",
    "print(\"Numero de deputados no partido: \", len(voteType(\"PSD\")['deputado_nome'].value_counts()))"
   ]
  },
  {
   "cell_type": "code",
   "execution_count": 66,
   "id": "402789dd",
   "metadata": {},
   "outputs": [
    {
     "data": {
      "image/png": "[encoded data removed]",
      "text/plain": [
       "<Figure size 1332x756 with 1 Axes>"
      ]
     },
     "metadata": {
      "needs_background": "light"
     },
     "output_type": "display_data"
    }
   ],
   "source": [
    "pltS(voteType(\"PSD\"),\"siglaSexo\")"
   ]
  },
  {
   "cell_type": "code",
   "execution_count": 67,
   "id": "0cdf6c02",
   "metadata": {},
   "outputs": [
    {
     "data": {
      "image/png": "[encoded data removed]",
      "text/plain": [
       "<Figure size 1332x756 with 1 Axes>"
      ]
     },
     "metadata": {
      "needs_background": "light"
     },
     "output_type": "display_data"
    }
   ],
   "source": [
    "pltA(voteType(\"PSD\"),\"idade\")"
   ]
  },
  {
   "cell_type": "code",
   "execution_count": 68,
   "id": "136550a6",
   "metadata": {},
   "outputs": [
    {
     "data": {
      "image/png": "[encoded data removed]",
      "text/plain": [
       "<Figure size 1080x504 with 1 Axes>"
      ]
     },
     "metadata": {
      "needs_background": "light"
     },
     "output_type": "display_data"
    }
   ],
   "source": [
    "pltMBar(voteType(\"PSD\"),\"municipioNascimento\")"
   ]
  },
  {
   "attachments": {},
   "cell_type": "markdown",
   "id": "78ce5014",
   "metadata": {},
   "source": [
    "### Republicanos\n",
    "\n",
    "O Republicanos é um partido político brasileiro de direita."
   ]
  },
  {
   "cell_type": "code",
   "execution_count": 69,
   "id": "244f7c17",
   "metadata": {},
   "outputs": [
    {
     "data": {
      "image/png": "[encoded data removed]",
      "text/plain": [
       "<Figure size 432x288 with 1 Axes>"
      ]
     },
     "metadata": {
      "needs_background": "light"
     },
     "output_type": "display_data"
    },
    {
     "name": "stdout",
     "output_type": "stream",
     "text": [
      "Numero de deputados no partido:  40\n"
     ]
    }
   ],
   "source": [
    "pltt(voteType(\"REPUBLICANOS\"))\n",
    "print(\"Numero de deputados no partido: \", len(voteType(\"REPUBLICANOS\")['deputado_nome'].value_counts()))"
   ]
  },
  {
   "cell_type": "code",
   "execution_count": 70,
   "id": "81a9ddd9",
   "metadata": {},
   "outputs": [
    {
     "data": {
      "image/png": "[encoded data removed]",
      "text/plain": [
       "<Figure size 1332x756 with 1 Axes>"
      ]
     },
     "metadata": {
      "needs_background": "light"
     },
     "output_type": "display_data"
    }
   ],
   "source": [
    "pltS(voteType(\"REPUBLICANOS\"),\"siglaSexo\")"
   ]
  },
  {
   "cell_type": "code",
   "execution_count": 71,
   "id": "9d7f1e7d",
   "metadata": {},
   "outputs": [
    {
     "data": {
      "image/png": "[encoded data removed]",
      "text/plain": [
       "<Figure size 1332x756 with 1 Axes>"
      ]
     },
     "metadata": {
      "needs_background": "light"
     },
     "output_type": "display_data"
    }
   ],
   "source": [
    "pltA(voteType(\"REPUBLICANOS\"),\"idade\")"
   ]
  },
  {
   "cell_type": "code",
   "execution_count": 72,
   "id": "a4deec47",
   "metadata": {},
   "outputs": [
    {
     "data": {
      "image/png": "[encoded data removed]",
      "text/plain": [
       "<Figure size 1080x504 with 1 Axes>"
      ]
     },
     "metadata": {
      "needs_background": "light"
     },
     "output_type": "display_data"
    }
   ],
   "source": [
    "pltMBar(voteType(\"REPUBLICANOS\"),\"municipioNascimento\")"
   ]
  },
  {
   "attachments": {},
   "cell_type": "markdown",
   "id": "e253f7bb",
   "metadata": {},
   "source": [
    "### Movimento Democrático Brasileiro\n",
    "\n",
    "O Movimento Democrático Brasileiro (MDB) é um partido político brasileiro de centro. Considerado um partido \"guarda-chuva\" de ideologias diversas;"
   ]
  },
  {
   "cell_type": "code",
   "execution_count": 73,
   "id": "2fd55d51",
   "metadata": {},
   "outputs": [
    {
     "data": {
      "image/png": "[encoded data removed]",
      "text/plain": [
       "<Figure size 432x288 with 1 Axes>"
      ]
     },
     "metadata": {
      "needs_background": "light"
     },
     "output_type": "display_data"
    },
    {
     "name": "stdout",
     "output_type": "stream",
     "text": [
      "Numero de deputados no partido:  33\n"
     ]
    }
   ],
   "source": [
    "pltt(voteType(\"MDB\"))\n",
    "print(\"Numero de deputados no partido: \", len(voteType(\"MDB\")['deputado_nome'].value_counts()))"
   ]
  },
  {
   "cell_type": "code",
   "execution_count": 74,
   "id": "721620ba",
   "metadata": {},
   "outputs": [
    {
     "data": {
      "image/png": "[encoded data removed]",
      "text/plain": [
       "<Figure size 1332x756 with 1 Axes>"
      ]
     },
     "metadata": {
      "needs_background": "light"
     },
     "output_type": "display_data"
    }
   ],
   "source": [
    "pltS(voteType(\"MDB\"),\"siglaSexo\")"
   ]
  },
  {
   "cell_type": "code",
   "execution_count": 75,
   "id": "abb9340b",
   "metadata": {},
   "outputs": [
    {
     "data": {
      "image/png": "[encoded data removed]",
      "text/plain": [
       "<Figure size 1332x756 with 1 Axes>"
      ]
     },
     "metadata": {
      "needs_background": "light"
     },
     "output_type": "display_data"
    }
   ],
   "source": [
    "pltA(voteType(\"MDB\"),\"idade\")"
   ]
  },
  {
   "cell_type": "code",
   "execution_count": 76,
   "id": "29829069",
   "metadata": {},
   "outputs": [
    {
     "data": {
      "image/png": "[encoded data removed]",
      "text/plain": [
       "<Figure size 1080x504 with 1 Axes>"
      ]
     },
     "metadata": {
      "needs_background": "light"
     },
     "output_type": "display_data"
    }
   ],
   "source": [
    "pltMBar(voteType(\"MDB\"),\"municipioNascimento\")"
   ]
  },
  {
   "attachments": {},
   "cell_type": "markdown",
   "id": "89f6f6ce",
   "metadata": {},
   "source": [
    "### PDT"
   ]
  },
  {
   "cell_type": "code",
   "execution_count": 77,
   "id": "f255d6d9",
   "metadata": {},
   "outputs": [
    {
     "data": {
      "image/png": "[encoded data removed]",
      "text/plain": [
       "<Figure size 432x288 with 1 Axes>"
      ]
     },
     "metadata": {
      "needs_background": "light"
     },
     "output_type": "display_data"
    },
    {
     "name": "stdout",
     "output_type": "stream",
     "text": [
      "Numero de deputados no partido:  14\n"
     ]
    }
   ],
   "source": [
    "pltt(voteType(\"PDT\"))\n",
    "print(\"Numero de deputados no partido: \", len(voteType(\"PDT\")['deputado_nome'].value_counts()))"
   ]
  },
  {
   "cell_type": "code",
   "execution_count": 78,
   "id": "0d120f42",
   "metadata": {},
   "outputs": [
    {
     "data": {
      "image/png": "[encoded data removed]",
      "text/plain": [
       "<Figure size 1332x756 with 1 Axes>"
      ]
     },
     "metadata": {
      "needs_background": "light"
     },
     "output_type": "display_data"
    }
   ],
   "source": [
    "pltS(voteType(\"PDT\"),\"siglaSexo\")"
   ]
  },
  {
   "cell_type": "code",
   "execution_count": 79,
   "id": "62ed7b1b",
   "metadata": {},
   "outputs": [
    {
     "data": {
      "image/png": "[encoded data removed]",
      "text/plain": [
       "<Figure size 1332x756 with 1 Axes>"
      ]
     },
     "metadata": {
      "needs_background": "light"
     },
     "output_type": "display_data"
    }
   ],
   "source": [
    "pltA(voteType(\"PDT\"),\"idade\")"
   ]
  },
  {
   "cell_type": "code",
   "execution_count": 80,
   "id": "2ed4ebbc",
   "metadata": {},
   "outputs": [
    {
     "data": {
      "image/png": "[encoded data removed]",
      "text/plain": [
       "<Figure size 1080x504 with 1 Axes>"
      ]
     },
     "metadata": {
      "needs_background": "light"
     },
     "output_type": "display_data"
    }
   ],
   "source": [
    "pltMBar(voteType(\"PDT\"),\"municipioNascimento\")"
   ]
  }
 ],
 "metadata": {
  "kernelspec": {
   "display_name": "Python 3 (ipykernel)",
   "language": "python",
   "name": "python3"
  },
  "language_info": {
   "codemirror_mode": {
    "name": "ipython",
    "version": 3
   },
   "file_extension": ".py",
   "mimetype": "text/x-python",
   "name": "python",
   "nbconvert_exporter": "python",
   "pygments_lexer": "ipython3",
   "version": "3.9.7"
  }
 },
 "nbformat": 4,
 "nbformat_minor": 5
}
